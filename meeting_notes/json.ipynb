{
 "cells": [
  {
   "cell_type": "markdown",
   "metadata": {},
   "source": [
    "# [FACE Ohio](https://faceohio.sos.state.oh.us/ords/faceohio)"
   ]
  },
  {
   "cell_type": "code",
   "execution_count": 5,
   "metadata": {},
   "outputs": [
    {
     "name": "stdout",
     "output_type": "stream",
     "text": [
      "  % Total    % Received % Xferd  Average Speed   Time    Time     Time  Current\n",
      "                                 Dload  Upload   Total   Spent    Left  Speed\n",
      "100 16800    0 16800    0     0  33586      0 --:--:-- --:--:-- --:--:-- 33600\n"
     ]
    }
   ],
   "source": [
    "!curl https://faceohio.sos.state.oh.us/ords/faceohio/cac/fullCont/CALAST^rezabek/OFF^8  > rezabek.json"
   ]
  },
  {
   "cell_type": "code",
   "execution_count": 9,
   "metadata": {},
   "outputs": [
    {
     "name": "stdout",
     "output_type": "stream",
     "text": [
      "total 48\n",
      "-rw-r--r--  1 catherine  staff   1.2K Apr 10 22:20 Untitled.ipynb\n",
      "-rw-r--r--  1 catherine  staff    16K Apr 10 22:21 rezabek.json\n"
     ]
    }
   ],
   "source": [
    "ls -lh"
   ]
  },
  {
   "cell_type": "code",
   "execution_count": 2,
   "metadata": {},
   "outputs": [],
   "source": [
    "import json\n",
    "with open('rezabek.json') as infile:\n",
    "    rezabek = json.load(infile)"
   ]
  },
  {
   "cell_type": "code",
   "execution_count": 5,
   "metadata": {},
   "outputs": [
    {
     "data": {
      "text/plain": [
       "'CITIZENS FOR REZABEK'"
      ]
     },
     "execution_count": 5,
     "metadata": {},
     "output_type": "execute_result"
    }
   ],
   "source": [
    "rezabek['items'][0]['committee_name']"
   ]
  },
  {
   "cell_type": "code",
   "execution_count": 6,
   "metadata": {},
   "outputs": [
    {
     "name": "stdout",
     "output_type": "stream",
     "text": [
      "{\n",
      "    \"next\": {\n",
      "        \"$ref\": \"https://faceohio.sos.state.oh.us/ords/faceohio/cac/fullCont/CALAST%5Erezabek/OFF%5E8?page=1\"\n",
      "    },\n",
      "    \"items\": [\n",
      "        {\n",
      "            \"result_count\": 593,\n",
      "            \"last_refresh_date\": \"04-09-2018 23:25\",\n",
      "            \"committee_name\": \"CITIZENS FOR REZABEK\",\n",
      "            \"master_key\": 14085,\n",
      "            \"report_description\": \"POST-PRIMARY\",\n",
      "            \"report_type_code\": \"200\",\n",
      "            \"report_year\": 2016,\n",
      "            \"report_key\": 194753842,\n",
      "            \"schedule_code_description\": \"31-A  Stmt of Contribution\",\n",
      "            \"contributor_name\": \"KLINE, RUSS\",\n",
      "            \"contributor_city\": \"BEAVERCREEK\",\n",
      "            \"contributor_state\": \"OH\",\n",
      "            \"contributor_zip\": \"45431\",\n",
      "            \"report_filing_date\": \"2016-04-19T19:23:43Z\",\n",
      "            \"amount\": 500,\n",
      "            \"candidate_last_name\": \"REZABEK\",\n",
      "            \"candidate_first_name\": \"JEFFERY\",\n",
      "            \"candidate_id\": 158701945,\n",
      "            \"cr_race_year\": \"2014\",\n",
      "            \"office_code\": \"8\",\n",
      "            \"office_name\": \"HOUSE\",\n",
      "            \"party_code\": \"5\",\n",
      "            \"party_name\": \"REPUBLICAN\",\n",
      "            \"district\": \"43\"\n",
      "        },\n",
      "        {\n",
      "            \"result_count\": 593,\n",
      "            \"last_refresh_date\": \"04-09-2018 23:25\",\n",
      "            \"committee_name\": \"CITIZENS FOR REZABEK\",\n",
      "            \"master_key\": 14085,\n",
      "            \"report_description\": \"POST-PRIMARY\",\n",
      "            \"report_type_code\": \"200\",\n",
      "            \"report_year\": 2016,\n",
      "            \"report_key\": 194753842,\n",
      "            \"schedule_code_description\": \"31-A  Stmt of Contribution\",\n",
      "            \"contributor_name\": \"MURKA, ADAM\",\n",
      "            \"contributor_city\": \"KETTERING\",\n",
      "            \"contributor_state\": \"OH\",\n",
      "            \"contributor_zip\": \"45429\",\n",
      "            \"report_filing_date\": \"2016-04-19T19:23:43Z\",\n",
      "            \"amount\": 150,\n",
      "            \"candidate_last_name\": \"REZABEK\",\n",
      "            \"candidate_first_name\": \"JEFFERY\",\n",
      "            \"candidate_id\": 158701945,\n",
      "Traceback (most recent call last):\n",
      "  File \"/usr/local/Cellar/python3/3.6.4_2/Frameworks/Python.framework/Versions/3.6/lib/python3.6/json/tool.py\", line 45, in main\n",
      "    json.dump(obj, outfile, sort_keys=sort_keys, indent=4)\n",
      "  File \"/usr/local/Cellar/python3/3.6.4_2/Frameworks/Python.framework/Versions/3.6/lib/python3.6/json/__init__.py\", line 180, in dump\n",
      "    fp.write(chunk)\n",
      "BrokenPipeError: [Errno 32] Broken pipe\n",
      "\n",
      "During handling of the above exception, another exception occurred:\n",
      "\n",
      "BrokenPipeError: [Errno 32] Broken pipe\n",
      "\n",
      "During handling of the above exception, another exception occurred:\n",
      "\n",
      "Traceback (most recent call last):\n",
      "  File \"/usr/local/Cellar/python3/3.6.4_2/Frameworks/Python.framework/Versions/3.6/lib/python3.6/runpy.py\", line 193, in _run_module_as_main\n",
      "    \"__main__\", mod_spec)\n",
      "  File \"/usr/local/Cellar/python3/3.6.4_2/Frameworks/Python.framework/Versions/3.6/lib/python3.6/runpy.py\", line 85, in _run_code\n",
      "    exec(code, run_globals)\n",
      "  File \"/usr/local/Cellar/python3/3.6.4_2/Frameworks/Python.framework/Versions/3.6/lib/python3.6/json/tool.py\", line 50, in <module>\n",
      "    main()\n",
      "  File \"/usr/local/Cellar/python3/3.6.4_2/Frameworks/Python.framework/Versions/3.6/lib/python3.6/json/tool.py\", line 46, in main\n",
      "    outfile.write('\\n')\n",
      "BrokenPipeError: [Errno 32] Broken pipe\n"
     ]
    }
   ],
   "source": [
    "!python -m json.tool rezabek.json | head -50"
   ]
  },
  {
   "cell_type": "markdown",
   "metadata": {},
   "source": [
    "# [gron](https://github.com/tomnomnom/gron)"
   ]
  },
  {
   "cell_type": "code",
   "execution_count": 33,
   "metadata": {},
   "outputs": [
    {
     "name": "stdout",
     "output_type": "stream",
     "text": [
      "\u001b[34;1mjson\u001b[0m = \u001b[35m{}\u001b[0m;\n",
      "\u001b[34;1mjson\u001b[0m.\u001b[34;1mfoo\u001b[0m = \u001b[33m\"yes\"\u001b[0m;\n",
      "\u001b[34;1mjson\u001b[0m.\u001b[34;1mmoo\u001b[0m = \u001b[36mtrue\u001b[0m;\n"
     ]
    }
   ],
   "source": [
    "!echo '{\"moo\": true, \"foo\": \"yes\"}' | gron --colorize "
   ]
  },
  {
   "cell_type": "code",
   "execution_count": 41,
   "metadata": {},
   "outputs": [
    {
     "name": "stdout",
     "output_type": "stream",
     "text": [
      "json.items[0].contributor_city = \"BEAVERCREEK\";\n",
      "json.items[0].contributor_name = \"KLINE, RUSS\";\n",
      "json.items[0].contributor_state = \"OH\";\n",
      "json.items[0].contributor_zip = \"45431\";\n",
      "json.items[1].contributor_city = \"KETTERING\";\n",
      "json.items[1].contributor_name = \"MURKA, ADAM\";\n",
      "json.items[1].contributor_state = \"OH\";\n",
      "json.items[1].contributor_zip = \"45429\";\n",
      "json.items[2].contributor_city = \"DAYTON\";\n",
      "json.items[2].contributor_name = \"DP&L RESPONSIBLE CITIZENSHIP FUND\";\n"
     ]
    }
   ],
   "source": [
    "!gron --insecure https://faceohio.sos.state.oh.us/ords/faceohio/cac/fullCont/CALAST^rezabek/OFF^8 | grep contributor | head"
   ]
  },
  {
   "cell_type": "code",
   "execution_count": 35,
   "metadata": {},
   "outputs": [
    {
     "name": "stdout",
     "output_type": "stream",
     "text": [
      "Transform JSON (from a file, URL, or stdin) into discrete assignments to make it greppable\n",
      "\n",
      "Usage:\n",
      "  gron [OPTIONS] [FILE|URL|-]\n",
      "\n",
      "Options:\n",
      "  -u, --ungron     Reverse the operation (turn assignments back into JSON)\n",
      "  -c, --colorize   Colorize output (default on tty)\n",
      "  -m, --monochrome Monochrome (don't colorize output)\n",
      "  -s, --stream     Treat each line of input as a separate JSON object\n",
      "  -k, --insecure   Disable certificate validation\n",
      "      --no-sort    Don't sort output (faster)\n",
      "      --version    Print version information\n",
      "\n",
      "Exit Codes:\n",
      "  0\tOK\n",
      "  1\tFailed to open file\n",
      "  2\tFailed to read input\n",
      "  3\tFailed to form statements\n",
      "  4\tFailed to fetch URL\n",
      "  5\tFailed to parse statements\n",
      "  6\tFailed to encode JSON\n",
      "\n",
      "Examples:\n",
      "  gron /tmp/apiresponse.json\n",
      "  gron http://jsonplaceholder.typicode.com/users/1 \n",
      "  curl -s http://jsonplaceholder.typicode.com/users/1 | gron\n",
      "  gron http://jsonplaceholder.typicode.com/users/1 | grep company | gron --ungron\n"
     ]
    }
   ],
   "source": [
    "!gron --help "
   ]
  },
  {
   "cell_type": "code",
   "execution_count": 39,
   "metadata": {},
   "outputs": [
    {
     "name": "stdout",
     "output_type": "stream",
     "text": [
      "/usr/local/Cellar/go/1.10.1/libexec/src/crypto/x509/cert_pool.go\n",
      "/usr/local/Cellar/go/1.10.1/libexec/src/crypto/x509/cert_pool.go\n",
      "/usr/local/Cellar/go/1.10.1/libexec/src/crypto/x509/cert_pool.go\n"
     ]
    }
   ],
   "source": [
    "!strings `which gron` | grep \"^/\" | grep cert"
   ]
  },
  {
   "cell_type": "code",
   "execution_count": 11,
   "metadata": {},
   "outputs": [
    {
     "name": "stdout",
     "output_type": "stream",
     "text": [
      "json.items[22] = {};\n",
      "json.items[22].amount = 1500;\n",
      "json.items[22].candidate_first_name = \"JEFFERY\";\n",
      "json.items[22].candidate_id = 158701945;\n",
      "json.items[22].candidate_last_name = \"REZABEK\";\n",
      "json.items[22].committee_name = \"CITIZENS FOR REZABEK\";\n",
      "json.items[22].contributor_city = \"HAMILTON\";\n",
      "json.items[22].contributor_name = \"FRIENDS OF WES RETHERFORD\";\n",
      "json.items[22].contributor_state = \"OH\";\n",
      "json.items[22].contributor_zip = \"45013\";\n",
      "json.items[22].cr_race_year = \"2014\";\n",
      "json.items[22].district = \"43\";\n",
      "json.items[22].last_refresh_date = \"04-09-2018 23:25\";\n",
      "json.items[22].master_key = 14085;\n",
      "json.items[22].office_code = \"8\";\n",
      "json.items[22].office_name = \"HOUSE\";\n",
      "json.items[22].party_code = \"5\";\n",
      "json.items[22].party_name = \"REPUBLICAN\";\n",
      "json.items[22].report_description = \"POST-GENERAL\";\n",
      "json.items[22].report_filing_date = \"2014-12-11T20:55:55Z\";\n",
      "json.items[22].report_key = 179800591;\n",
      "json.items[22].report_type_code = \"400\";\n",
      "json.items[22].report_year = 2014;\n",
      "json.items[22].result_count = 593;\n",
      "json.items[22].schedule_code_description = \"31-A  Stmt of Contribution\";\n"
     ]
    }
   ],
   "source": [
    "cat rezabek.json | gron | fgrep 'items[22]'"
   ]
  },
  {
   "cell_type": "code",
   "execution_count": 42,
   "metadata": {},
   "outputs": [
    {
     "name": "stdout",
     "output_type": "stream",
     "text": [
      "{\n",
      "  \"items\": [\n",
      "    {\n",
      "      \"contributor_city\": \"BEAVERCREEK\",\n",
      "      \"contributor_name\": \"KLINE, RUSS\",\n",
      "      \"contributor_state\": \"OH\",\n",
      "      \"contributor_zip\": \"45431\"\n",
      "    },\n",
      "    {\n",
      "      \"contributor_city\": \"KETTERING\",\n",
      "      \"contributor_name\": \"MURKA, ADAM\",\n",
      "      \"contributor_state\": \"OH\",\n",
      "      \"contributor_zip\": \"45429\"\n",
      "    },\n",
      "    {\n",
      "      \"contributor_city\": \"DAYTON\",\n",
      "      \"contributor_name\": \"DP\\u0026L RESPONSIBLE CITIZENSHIP FUND\",\n",
      "      \"contributor_state\": \"OH\",\n",
      "      \"contributor_zip\": \"45432\"\n",
      "    },\n",
      "    {\n",
      "      \"contributor_city\": \"WORTHINGTON\",\n",
      "      \"contributor_name\": \"OHIO OPTOMETRY PAC\",\n",
      "      \"contributor_state\": \"OH\",\n",
      "      \"contributor_zip\": \"43085\"\n",
      "    },\n",
      "    {\n",
      "      \"contributor_city\": \"DAYTON\",\n",
      "      \"contributor_name\": \"WILHELM, JENIFER\",\n",
      "      \"contributor_state\": \"OH\",\n"
     ]
    }
   ],
   "source": [
    "cat rezabek.json | gron | fgrep 'contributor' | gron --ungron | head -30"
   ]
  },
  {
   "cell_type": "markdown",
   "metadata": {},
   "source": [
    "# [jq](https://stedolan.github.io/jq/)"
   ]
  },
  {
   "cell_type": "code",
   "execution_count": 46,
   "metadata": {},
   "outputs": [
    {
     "name": "stdout",
     "output_type": "stream",
     "text": [
      "\u001b[0;39m194753842\u001b[0m\n"
     ]
    }
   ],
   "source": [
    "cat rezabek.json | jq '.items[10][\"report_key\"]'"
   ]
  },
  {
   "cell_type": "code",
   "execution_count": 47,
   "metadata": {},
   "outputs": [],
   "source": [
    "import json \n",
    "from jq import jq"
   ]
  },
  {
   "cell_type": "code",
   "execution_count": 48,
   "metadata": {},
   "outputs": [],
   "source": [
    "with open('rezabek.json', 'r') as infile:\n",
    "    data = json.load(infile)"
   ]
  },
  {
   "cell_type": "code",
   "execution_count": 50,
   "metadata": {},
   "outputs": [
    {
     "data": {
      "text/plain": [
       "{'result_count': 593,\n",
       " 'last_refresh_date': '04-09-2018 23:25',\n",
       " 'committee_name': 'CITIZENS FOR REZABEK',\n",
       " 'master_key': 14085,\n",
       " 'report_description': 'POST-PRIMARY',\n",
       " 'report_type_code': '200',\n",
       " 'report_year': 2016,\n",
       " 'report_key': 194753842,\n",
       " 'schedule_code_description': '31-A  Stmt of Contribution',\n",
       " 'contributor_name': 'BACHMAN, BRENDAN',\n",
       " 'contributor_city': 'ENGLEWOOD',\n",
       " 'contributor_state': 'OH',\n",
       " 'contributor_zip': '45322',\n",
       " 'report_filing_date': '2016-04-19T19:23:43Z',\n",
       " 'amount': 50,\n",
       " 'candidate_last_name': 'REZABEK',\n",
       " 'candidate_first_name': 'JEFFERY',\n",
       " 'candidate_id': 158701945,\n",
       " 'cr_race_year': '2014',\n",
       " 'office_code': '8',\n",
       " 'office_name': 'HOUSE',\n",
       " 'party_code': '5',\n",
       " 'party_name': 'REPUBLICAN',\n",
       " 'district': '43'}"
      ]
     },
     "execution_count": 50,
     "metadata": {},
     "output_type": "execute_result"
    }
   ],
   "source": [
    "jq('.items[10]').transform(data)"
   ]
  },
  {
   "cell_type": "code",
   "execution_count": null,
   "metadata": {},
   "outputs": [],
   "source": []
  }
 ],
 "metadata": {
  "kernelspec": {
   "display_name": "Python 3",
   "language": "python",
   "name": "python3"
  },
  "language_info": {
   "codemirror_mode": {
    "name": "ipython",
    "version": 3
   },
   "file_extension": ".py",
   "mimetype": "text/x-python",
   "name": "python",
   "nbconvert_exporter": "python",
   "pygments_lexer": "ipython3",
   "version": "3.6.4"
  }
 },
 "nbformat": 4,
 "nbformat_minor": 2
}
