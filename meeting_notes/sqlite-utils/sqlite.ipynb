{
 "cells": [
  {
   "cell_type": "code",
   "execution_count": 93,
   "id": "71b2d35d-e195-4d05-bb68-579905d166ac",
   "metadata": {},
   "outputs": [],
   "source": [
    "!rm db.sqlite"
   ]
  },
  {
   "cell_type": "code",
   "execution_count": 94,
   "id": "a63e8433-9280-4edf-ba9c-8649c1b799bc",
   "metadata": {},
   "outputs": [
    {
     "data": {
      "text/plain": [
       "<sqlite3.Cursor at 0x7fba203f87a0>"
      ]
     },
     "execution_count": 94,
     "metadata": {},
     "output_type": "execute_result"
    }
   ],
   "source": [
    "import sqlite3\n",
    "\n",
    "db = sqlite3.connect('db.sqlite')\n",
    "cursor = db.cursor()\n",
    "cursor.execute(\"\"\"\n",
    "CREATE TABLE messages (\n",
    "  id        INTEGER PRIMARY KEY AUTOINCREMENT,\n",
    "  message   TEXT NOT NULL,\n",
    "  timestamp DATETIME NOT NULL DEFAULT CURRENT_TIMESTAMP)\n",
    "\"\"\")"
   ]
  },
  {
   "cell_type": "code",
   "execution_count": 46,
   "id": "0ae9466e-0b1e-4e17-b834-b387c67674cb",
   "metadata": {},
   "outputs": [
    {
     "data": {
      "text/plain": [
       "<sqlite3.Cursor at 0x7fba5077b3b0>"
      ]
     },
     "execution_count": 46,
     "metadata": {},
     "output_type": "execute_result"
    }
   ],
   "source": [
    "cursor.execute(\"INSERT INTO messages (message) VALUES ('All wings, report in.')\")"
   ]
  },
  {
   "cell_type": "code",
   "execution_count": 47,
   "id": "c5350cd5-d11f-44a7-8dc6-4276d51ae896",
   "metadata": {},
   "outputs": [
    {
     "data": {
      "text/plain": [
       "[(1, 'All wings, report in.', '2021-05-30 20:39:41')]"
      ]
     },
     "execution_count": 47,
     "metadata": {},
     "output_type": "execute_result"
    }
   ],
   "source": [
    "cursor.execute(\"SELECT * FROM messages\")\n",
    "cursor.fetchall()"
   ]
  },
  {
   "cell_type": "code",
   "execution_count": 48,
   "id": "13b606b6-6010-4da3-9ace-48f1be3f1bc2",
   "metadata": {},
   "outputs": [
    {
     "data": {
      "text/plain": [
       "<sqlite3.Cursor at 0x7fba5077b3b0>"
      ]
     },
     "execution_count": 48,
     "metadata": {},
     "output_type": "execute_result"
    }
   ],
   "source": [
    "import sys\n",
    "\n",
    "cursor.execute(f\"\"\"\n",
    "INSERT INTO messages (message) VALUES \n",
    "('Python {sys.version.split()[0]}, standing by.')\n",
    "\"\"\")"
   ]
  },
  {
   "cell_type": "code",
   "execution_count": 49,
   "id": "6f98eff3-c3eb-4714-a092-94548f7864da",
   "metadata": {},
   "outputs": [
    {
     "data": {
      "text/plain": [
       "[(1, 'All wings, report in.', '2021-05-30 20:39:41'),\n",
       " (2, 'Python 3.9.1, standing by.', '2021-05-30 20:39:41')]"
      ]
     },
     "execution_count": 49,
     "metadata": {},
     "output_type": "execute_result"
    }
   ],
   "source": [
    "cursor.execute(\"SELECT * FROM messages\")\n",
    "cursor.fetchall()"
   ]
  },
  {
   "cell_type": "markdown",
   "id": "42bd0588-2c73-4688-a6b7-9dbc8681eeee",
   "metadata": {},
   "source": [
    "# very important!"
   ]
  },
  {
   "cell_type": "code",
   "execution_count": 50,
   "id": "319f8cd6-467b-419d-b0e8-e13b4a359c97",
   "metadata": {},
   "outputs": [],
   "source": [
    "db.commit()"
   ]
  },
  {
   "cell_type": "code",
   "execution_count": 51,
   "id": "30d6aded-eb90-4ffb-ab20-cdf843a4e0e5",
   "metadata": {},
   "outputs": [],
   "source": [
    "cursor.close()"
   ]
  },
  {
   "cell_type": "code",
   "execution_count": 52,
   "id": "b3560f52-4850-41e3-9301-458a27489a67",
   "metadata": {},
   "outputs": [
    {
     "name": "stdout",
     "output_type": "stream",
     "text": [
      "1|All wings, report in.|2021-05-30 20:39:41\n",
      "2|Python 3.9.1, standing by.|2021-05-30 20:39:41\n"
     ]
    }
   ],
   "source": [
    "!sqlite3 db.sqlite \"SELECT * FROM messages\""
   ]
  },
  {
   "cell_type": "code",
   "execution_count": 54,
   "id": "c54186ef-74cd-4e05-8b23-1a7871dfb5eb",
   "metadata": {},
   "outputs": [],
   "source": [
    "sqlite_ver =! sqlite3 --version"
   ]
  },
  {
   "cell_type": "code",
   "execution_count": 56,
   "id": "a67daf2e-eef7-4020-8607-8c6ce5a7721b",
   "metadata": {},
   "outputs": [
    {
     "data": {
      "text/plain": [
       "['3.24.0 2018-06-04 14:10:15 95fbac39baaab1c3a84fdfc82ccb7f42398b2e92f18a2a57bce1d4a713cbaapl']"
      ]
     },
     "execution_count": 56,
     "metadata": {},
     "output_type": "execute_result"
    }
   ],
   "source": [
    "sqlite_ver"
   ]
  },
  {
   "cell_type": "code",
   "execution_count": 59,
   "id": "58a359bb-0d14-4259-91b9-6810aa90595d",
   "metadata": {},
   "outputs": [],
   "source": [
    "msg = f\"\"\"INSERT INTO messages (message) VALUES ('sqlite3 {sqlite_ver[0].split()[0]} CLI, standing by.')\"\"\""
   ]
  },
  {
   "cell_type": "code",
   "execution_count": 60,
   "id": "766ef1da-b7bc-4c2a-9931-5df41dc36bd5",
   "metadata": {},
   "outputs": [
    {
     "data": {
      "text/plain": [
       "\"INSERT INTO messages (message) VALUES ('sqlite3 3.24.0, standing by')\""
      ]
     },
     "execution_count": 60,
     "metadata": {},
     "output_type": "execute_result"
    }
   ],
   "source": [
    "msg"
   ]
  },
  {
   "cell_type": "code",
   "execution_count": 63,
   "id": "37fa6b6a-7f68-47b3-8708-82340bb958c0",
   "metadata": {},
   "outputs": [],
   "source": [
    "!sqlite3 db.sqlite \"$msg\""
   ]
  },
  {
   "cell_type": "code",
   "execution_count": 64,
   "id": "1cd90a27-2294-4f1a-8632-566c587cdfe5",
   "metadata": {},
   "outputs": [
    {
     "name": "stdout",
     "output_type": "stream",
     "text": [
      "1|All wings, report in.|2021-05-30 20:39:41\n",
      "2|Python 3.9.1, standing by.|2021-05-30 20:39:41\n",
      "3|sqlite3 3.24.0, standing by|2021-05-30 20:45:37\n"
     ]
    }
   ],
   "source": [
    "!sqlite3 db.sqlite \"SELECT * FROM messages\""
   ]
  },
  {
   "cell_type": "code",
   "execution_count": 66,
   "id": "81239216-2d2f-40c9-b405-79a64022cf39",
   "metadata": {},
   "outputs": [
    {
     "name": "stdout",
     "output_type": "stream",
     "text": [
      "DBM\n",
      "ExampleP\n",
      "File\n",
      "Gofer\n",
      "Proxy\n",
      "SQLite\n",
      "Spongen"
     ]
    }
   ],
   "source": [
    "%%perl\n",
    "\n",
    "use DBI;\n",
    "my @drv = DBI->available_drivers();\n",
    "print join(\"\\n\", @drv), \"n\";\n"
   ]
  },
  {
   "cell_type": "code",
   "execution_count": 69,
   "id": "64e7dc89-6e7b-4c67-963f-c67ff79759c3",
   "metadata": {},
   "outputs": [
    {
     "name": "stderr",
     "output_type": "stream",
     "text": [
      "Database opened successfully\n"
     ]
    }
   ],
   "source": [
    "%%perl\n",
    "use DBI;\n",
    "\n",
    "# define database name and driver\n",
    "my $driver   = \"SQLite\";\n",
    "my $db_name = \"db.sqlite\";\n",
    "my $dbd = \"DBI:$driver:dbname=$db_name\";\n",
    "\n",
    "# sqlite does not have a notion of username/password\n",
    "my $username = \"\";\n",
    "my $password = \"\";\n",
    "\n",
    "# create and connect to a database.\n",
    "# this will create a file named xmodulo.db\n",
    "my $dbh = DBI->connect($dbd, $username, $password, { RaiseError => 1 })\n",
    "                      or die $DBI::errstr;\n",
    "print STDERR \"Database opened successfully\\n\";\n",
    "\n",
    "\n",
    "my $stmt = qq(INSERT INTO messages (message)\n",
    "           VALUES ('Perl 5.18 standing by.'));\n",
    "$dbh->do($stmt) or die $DBI::errstr;"
   ]
  },
  {
   "cell_type": "code",
   "execution_count": 70,
   "id": "eb9963fc-d390-4ac8-9ea3-e70366bc73e5",
   "metadata": {},
   "outputs": [
    {
     "name": "stdout",
     "output_type": "stream",
     "text": [
      "1|All wings, report in.|2021-05-30 20:39:41\n",
      "2|Python 3.9.1, standing by.|2021-05-30 20:39:41\n",
      "3|sqlite3 3.24.0, standing by|2021-05-30 20:45:37\n",
      "4|Perl standing by.|2021-05-30 20:54:34\n"
     ]
    }
   ],
   "source": [
    "!sqlite3 db.sqlite \"SELECT * FROM messages\""
   ]
  },
  {
   "cell_type": "markdown",
   "id": "34b916c9-317c-4653-abde-95634b6653ac",
   "metadata": {},
   "source": [
    "## PHP\n",
    "sqlite3 ships with PHP"
   ]
  },
  {
   "cell_type": "code",
   "execution_count": 87,
   "id": "b237851c-e823-45fc-a44d-11d486c33f3f",
   "metadata": {},
   "outputs": [
    {
     "name": "stdout",
     "output_type": "stream",
     "text": [
      "/bin/bash: -c: line 0: unexpected EOF while looking for matching `''\n",
      "/bin/bash: -c: line 1: syntax error: unexpected end of file\n"
     ]
    }
   ],
   "source": [
    "!echo '<?= $ver[\\'versionString\\'] '"
   ]
  },
  {
   "cell_type": "code",
   "execution_count": 86,
   "id": "832175e8-0b0b-4370-b3b6-8d3f1bfdd034",
   "metadata": {},
   "outputs": [
    {
     "ename": "SyntaxError",
     "evalue": "invalid syntax (<ipython-input-86-96b93b72e347>, line 2)",
     "output_type": "error",
     "traceback": [
      "\u001b[0;36m  File \u001b[0;32m\"<ipython-input-86-96b93b72e347>\"\u001b[0;36m, line \u001b[0;32m2\u001b[0m\n\u001b[0;31m    echo function_exists(\\\"sg_load\\\") ? 'yes' : 'no';\"\u001b[0m\n\u001b[0m         ^\u001b[0m\n\u001b[0;31mSyntaxError\u001b[0m\u001b[0;31m:\u001b[0m invalid syntax\n"
     ]
    }
   ],
   "source": [
    "!php -r \"\n",
    "echo function_exists(\\\"sg_load\\\") ? `'yes' : 'no';\""
   ]
  },
  {
   "cell_type": "code",
   "execution_count": 80,
   "id": "32a30db1-04d8-475f-8a43-3a9f41ff3aa0",
   "metadata": {},
   "outputs": [
    {
     "name": "stdout",
     "output_type": "stream",
     "text": [
      "no"
     ]
    }
   ],
   "source": [
    "!php -r 'echo function_exists(\"sg_load\") ? \"yes\" : \"no\";'"
   ]
  },
  {
   "cell_type": "code",
   "execution_count": 91,
   "id": "448c3e9a-bade-43c8-82a6-e342cd8ea120",
   "metadata": {},
   "outputs": [
    {
     "name": "stdout",
     "output_type": "stream",
     "text": [
      "\n",
      "\n"
     ]
    }
   ],
   "source": [
    "!php -f sqlite.php"
   ]
  },
  {
   "cell_type": "code",
   "execution_count": 92,
   "id": "b5ba2c6c-3e7c-4cd3-a265-9a62a36e45e4",
   "metadata": {},
   "outputs": [
    {
     "name": "stdout",
     "output_type": "stream",
     "text": [
      "1|All wings, report in.|2021-05-30 20:39:41\n",
      "2|Python 3.9.1, standing by.|2021-05-30 20:39:41\n",
      "3|sqlite3 3.24.0, standing by|2021-05-30 20:45:37\n",
      "4|Perl standing by.|2021-05-30 20:54:34\n",
      "5|PHP 7.1.32, standing by.|2021-05-31 01:41:43\n"
     ]
    }
   ],
   "source": [
    "!sqlite3 db.sqlite \"SELECT * FROM messages\""
   ]
  },
  {
   "cell_type": "code",
   "execution_count": 98,
   "id": "255157e0-4db2-4245-93bf-98c33b951b24",
   "metadata": {},
   "outputs": [
    {
     "data": {
      "application/javascript": [
       "\n",
       "const sqlite3 = require('sqlite3').verbose();\n",
       "\n",
       "let db = new sqlite3.Database('./db.sqlite', (err) => {\n",
       "  if (err) {\n",
       "    console.error(err.message);\n",
       "  }\n",
       "  console.log('Connected to the database.');\n",
       "});\n",
       "\n",
       "let msg = 'Javascript, standing by.'\n",
       "// get columns start and label it as startval, open-> openval, etc from the appropriate table\n",
       "// when the id = what we define it as below\n",
       "let sql = `INSERT INTO messages (message) \n",
       "           VALUES (?)`;\n",
       "\n",
       "\n",
       "let id = 2;\n",
       " \n",
       "// Get only [id] row (in this case 2nd row)\n",
       "db.get(sql, [msg], (err, row) => {\n",
       "  if (err) {\n",
       "    return console.error(err.message);\n",
       "  }\n",
       "  return row\n",
       "    ? console.log(row.startval, row.openval, row.highval)\n",
       "    : console.log(`No values found with the id ${id}`);\n",
       " \n",
       "});\n",
       "\n",
       "\n",
       "// Close the database\n",
       "db.close((err) => {\n",
       "  if (err) {\n",
       "    console.error(err.message);\n",
       "  }\n",
       "  console.log('Close the database connection.');\n",
       "});\n"
      ],
      "text/plain": [
       "<IPython.core.display.Javascript object>"
      ]
     },
     "metadata": {},
     "output_type": "display_data"
    }
   ],
   "source": [
    "%%javascript\n",
    "\n",
    "const sqlite3 = require('sqlite3').verbose();\n",
    "\n",
    "let db = new sqlite3.Database('./db.sqlite', (err) => {\n",
    "  if (err) {\n",
    "    console.error(err.message);\n",
    "  }\n",
    "  console.log('Connected to the database.');\n",
    "});\n",
    "\n",
    "let msg = 'Javascript, standing by.'\n",
    "// get columns start and label it as startval, open-> openval, etc from the appropriate table\n",
    "// when the id = what we define it as below\n",
    "let sql = `INSERT INTO messages (message) \n",
    "           VALUES (?)`;\n",
    "\n",
    "\n",
    "let id = 2;\n",
    " \n",
    "// Get only [id] row (in this case 2nd row)\n",
    "db.get(sql, [msg], (err, row) => {\n",
    "  if (err) {\n",
    "    return console.error(err.message);\n",
    "  }\n",
    "  return row\n",
    "    ? console.log(row.startval, row.openval, row.highval)\n",
    "    : console.log(`No values found with the id ${id}`);\n",
    " \n",
    "});\n",
    "\n",
    "\n",
    "// Close the database\n",
    "db.close((err) => {\n",
    "  if (err) {\n",
    "    console.error(err.message);\n",
    "  }\n",
    "  console.log('Close the database connection.');\n",
    "});"
   ]
  },
  {
   "cell_type": "markdown",
   "id": "24a42769-be44-4b94-ab11-a2db69a53006",
   "metadata": {},
   "source": [
    "# other tricks"
   ]
  },
  {
   "cell_type": "code",
   "execution_count": 100,
   "id": "eed78d12-7468-48f1-a332-9e0fdd0a2543",
   "metadata": {},
   "outputs": [
    {
     "data": {
      "text/plain": [
       "[('3',)]"
      ]
     },
     "execution_count": 100,
     "metadata": {},
     "output_type": "execute_result"
    }
   ],
   "source": [
    "db = sqlite3.connect(':memory:')\n",
    "cursor = db.cursor()\n",
    "cursor.execute(\"create table foo (bar text)\")\n",
    "cursor.execute(\"insert into foo (bar) values (3)\")\n",
    "cursor.execute(\"select * from foo where bar > 2\")\n",
    "cursor.fetchall()"
   ]
  },
  {
   "cell_type": "markdown",
   "id": "21779155-284c-4667-a7f7-abfd6ce54159",
   "metadata": {},
   "source": [
    "- [DB Browser for SQLite](https://sqlitebrowser.org/about/)"
   ]
  },
  {
   "cell_type": "code",
   "execution_count": null,
   "id": "633f1b82-c3f3-49a5-8c07-e634af47577e",
   "metadata": {},
   "outputs": [],
   "source": []
  }
 ],
 "metadata": {
  "kernelspec": {
   "display_name": "Python 3",
   "language": "python",
   "name": "python3"
  },
  "language_info": {
   "codemirror_mode": {
    "name": "ipython",
    "version": 3
   },
   "file_extension": ".py",
   "mimetype": "text/x-python",
   "name": "python",
   "nbconvert_exporter": "python",
   "pygments_lexer": "ipython3",
   "version": "3.9.1"
  }
 },
 "nbformat": 4,
 "nbformat_minor": 5
}
