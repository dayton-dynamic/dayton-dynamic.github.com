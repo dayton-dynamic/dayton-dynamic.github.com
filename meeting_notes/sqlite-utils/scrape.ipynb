{
 "cells": [
  {
   "cell_type": "code",
   "execution_count": 1,
   "id": "aa9c059a-e5f6-4a7d-a487-0a537cd229fb",
   "metadata": {},
   "outputs": [
    {
     "name": "stdout",
     "output_type": "stream",
     "text": [
      "Untitled.ipynb  poetry.lock     sqlite.ipynb    test.db\n",
      "db.sqlite       pyproject.toml  sqlite.php\n"
     ]
    }
   ],
   "source": [
    "ls"
   ]
  },
  {
   "cell_type": "markdown",
   "id": "0b55e322-1141-435e-886b-5e0162b0380b",
   "metadata": {},
   "source": [
    "[Shakespeare in the Park](https://www.cincyshakes.com/event/park/)"
   ]
  },
  {
   "cell_type": "code",
   "execution_count": 3,
   "id": "9780d5bd-957a-43d9-9d43-854d05017910",
   "metadata": {},
   "outputs": [],
   "source": [
    "import requests\n",
    "from bs4 import BeautifulSoup\n",
    "response = requests.get('https://www.cincyshakes.com/event/park/')\n",
    "soup = BeautifulSoup(response.text, 'html.parser')"
   ]
  },
  {
   "cell_type": "code",
   "execution_count": 5,
   "id": "124d9da8-0a68-4694-853c-1b6d5d141293",
   "metadata": {},
   "outputs": [
    {
     "data": {
      "text/plain": [
       "<p style=\"text-align: center;\">Cincinnati Shakespeare Company’s<strong> FREE Shakespeare in the Park</strong> tour is the only professional outdoor theatre opportunity in Cincinnati each summer, attracting more than 10,000 patrons to over 40 area parks during the summer months. CSC’s FREE Shakespeare in the Park Tour enhances the vibrancy of neighborhoods throughout the region by creating traveling arts programs that increase the affordability, availability, and accessibility of the arts outside the downtown core.</p>"
      ]
     },
     "execution_count": 5,
     "metadata": {},
     "output_type": "execute_result"
    }
   ],
   "source": [
    "soup.p"
   ]
  },
  {
   "cell_type": "code",
   "execution_count": 14,
   "id": "2932d6bd-9a38-4c7f-af5f-8a2581dd5206",
   "metadata": {},
   "outputs": [
    {
     "data": {
      "text/plain": [
       "<p><strong>Wednesday, June 16, 2021 at 7:00pm</strong><br/> City of Madeira<br/> Mcdonald Commons Park<br/> 7440 Dawson Road, Madeira, Ohio 45243<br/> <em>A Midsummer Night's Dream</em></p>"
      ]
     },
     "execution_count": 14,
     "metadata": {},
     "output_type": "execute_result"
    }
   ],
   "source": [
    "soup.find(\"div\", id=\"pg-15057-3\").p"
   ]
  },
  {
   "cell_type": "code",
   "execution_count": 23,
   "id": "8593aa52-5b81-4e98-86e5-6f42ac870e60",
   "metadata": {},
   "outputs": [
    {
     "data": {
      "text/plain": [
       "['Wednesday, June 16, 2021 at 7:00pm',\n",
       " ' City of Madeira',\n",
       " ' Mcdonald Commons Park',\n",
       " ' 7440 Dawson Road, Madeira, Ohio 45243',\n",
       " ' ',\n",
       " \"A Midsummer Night's Dream\"]"
      ]
     },
     "execution_count": 23,
     "metadata": {},
     "output_type": "execute_result"
    }
   ],
   "source": [
    "list(soup.find(\"div\", id=\"pg-15057-3\").p.strings)"
   ]
  },
  {
   "cell_type": "code",
   "execution_count": 27,
   "id": "887c807b-1f51-43e6-bff6-bfb3c1daa136",
   "metadata": {},
   "outputs": [],
   "source": [
    "performances = []\n",
    "for para in soup.find(\"div\", id=\"pg-15057-3\").find_all(\"p\"):\n",
    "    lines = list(para.strings)\n",
    "    perf = {\"dt\": lines[0],\n",
    "           \"play\": lines[-1], \n",
    "           \"address\": lines[-3]}\n",
    "    performances.append(perf)"
   ]
  },
  {
   "cell_type": "code",
   "execution_count": 28,
   "id": "33286faa-f415-4830-9c98-af15b258342e",
   "metadata": {},
   "outputs": [
    {
     "data": {
      "text/plain": [
       "[{'dt': 'Wednesday, June 16, 2021 at 7:00pm',\n",
       "  'play': \"A Midsummer Night's Dream\",\n",
       "  'address': ' 7440 Dawson Road, Madeira, Ohio 45243'},\n",
       " {'dt': 'Sunday, June 20, 2021 at 7:00pm',\n",
       "  'play': \"A Midsummer Night's Dream\",\n",
       "  'address': ' 5951 Buckwheat Road, Milford, Ohio 45150'},\n",
       " {'dt': 'Tuesday, June 22, 2021 at 7:00pm',\n",
       "  'play': \"A Midsummer Night's Dream\",\n",
       "  'address': ' 6300 Bramble Avenue, Cincinnati, Ohio 45227'},\n",
       " {'dt': 'Friday, June 25, 2021 at 7:00pm',\n",
       "  'play': \"A Midsummer Night's Dream\",\n",
       "  'address': ' 5400 Northwoods Lane, Cincinnati, Ohio 45212'},\n",
       " {'dt': 'Saturday, June 26, 2021 at 1:00pm',\n",
       "  'play': \"A Midsummer Night's Dream\",\n",
       "  'address': ' 10397 Springfield Pike, Cincinnati, Ohio 45215'},\n",
       " {'dt': 'Sunday, June 27, 2021 at 7:00pm',\n",
       "  'play': \"A Midsummer Night's Dream\",\n",
       "  'address': ' 1410 Race Street, Cincinnati, Ohio 45202'},\n",
       " {'dt': 'Friday, July 2, 2021 at 7:00pm',\n",
       "  'play': 'Romeo and Juliet',\n",
       "  'address': ' 1600 Art Museum Drive, Cincinnati, Ohio 45202'},\n",
       " {'dt': 'Thursday, July 8, 2021 at 7:00pm',\n",
       "  'play': \"A Midsummer Night's Dream\",\n",
       "  'address': ' TBA, Maysville, Ohio 41056'},\n",
       " {'dt': 'Friday, July 9, 2021 at 7:00pm',\n",
       "  'play': \"A Midsummer Night's Dream\",\n",
       "  'address': ' 1600 Art Museum Drive, Cincinnati, Ohio 45202'},\n",
       " {'dt': 'Saturday, July 10, 2021 at 7:00pm',\n",
       "  'play': 'Romeo and Juliet',\n",
       "  'address': ' 7411 Barrett Rd, West Chester, Ohio 45069'},\n",
       " {'dt': 'Sunday, July 11, 2021 at 7:00pm',\n",
       "  'play': 'Romeo and Juliet',\n",
       "  'address': ' 1410 Race Street, Cincinnati, Ohio 45202'},\n",
       " {'dt': 'Thursday, July 15, 2021 at 8:00pm',\n",
       "  'play': \"A Midsummer Night's Dream\",\n",
       "  'address': ' 250 Cliff Park Rd, Springfield, Ohio 45504'},\n",
       " {'dt': 'Friday, July 16, 2021 at 7:00pm',\n",
       "  'play': \"A Midsummer Night's Dream\",\n",
       "  'address': ' 1600 Art Museum Drive, Cincinnati, Ohio 45202'},\n",
       " {'dt': 'Saturday, July 17, 2021 at 7:00pm',\n",
       "  'play': 'Romeo and Juliet',\n",
       "  'address': ' 7 Cherry St, Lebanon, Ohio 45036'},\n",
       " {'dt': 'Thursday, July 22, 2021 at 7:00pm',\n",
       "  'play': \"A Midsummer Night's Dream\",\n",
       "  'address': ' 8th Street down to river, Brookville, Indiana 47012'},\n",
       " {'dt': 'Friday, July 23, 2021 at 7:00pm',\n",
       "  'play': 'Macbeth',\n",
       "  'address': ' 1600 Art Museum Drive, Cincinnati, Ohio 45202'},\n",
       " {'dt': 'Saturday, July 24, 2021 at 7:00pm',\n",
       "  'play': \"A Midsummer Night's Dream\",\n",
       "  'address': ' 13th and Lee Streets, Covington, Kentucky 41011'},\n",
       " {'dt': 'Thursday, July 29, 2021 at 7:00pm',\n",
       "  'play': 'Macbeth',\n",
       "  'address': ' 1 Bandshell Blvd, Covington, Kentucky 41011'},\n",
       " {'dt': 'Saturday, July 31, 2021 at 7:00pm',\n",
       "  'play': 'Macbeth',\n",
       "  'address': ' 4501 Beech Street, Cincinnati, Ohio 45212'},\n",
       " {'dt': 'Sunday, August 1, 2021 at 7:00pm',\n",
       "  'play': 'Macbeth',\n",
       "  'address': ' 1410 Race Street, Cincinnati, Ohio 45202'},\n",
       " {'dt': 'Thursday, August 5, 2021 at 7:00pm',\n",
       "  'play': 'Romeo and Juliet',\n",
       "  'address': ' 6000 Veterans Way, Burlington, Kentucky 41005'},\n",
       " {'dt': 'Saturday, August 7, 2021 at 7:00pm',\n",
       "  'play': 'Macbeth',\n",
       "  'address': ' 7440 Dawson Road, Madeira, Ohio 45243'},\n",
       " {'dt': 'Sunday, August 8, 2021 at 7:00pm',\n",
       "  'play': \"A Midsummer Night's Dream\",\n",
       "  'address': ' 205 East Sharon Rd, Glendale, Ohio 45246'},\n",
       " {'dt': 'Tuesday, August 10, 2021 at 7:00pm',\n",
       "  'play': 'Romeo and Juliet',\n",
       "  'address': ' 5125 Foley Road, Cincinnati, Ohio 45238'},\n",
       " {'dt': 'Thursday, August 12, 2021 at 7:00pm',\n",
       "  'play': 'Romeo and Juliet',\n",
       "  'address': ' 4060 Deerchase Dr, Erlanger, Kentucky 41018'},\n",
       " {'dt': 'Friday, August 13, 2021 at 7:00pm',\n",
       "  'play': 'Romeo and Juliet',\n",
       "  'address': ' 1700 Mills Avenue, Cincinnati, Ohio 45212'},\n",
       " {'dt': 'Saturday, August 14, 2021 at 7:00pm',\n",
       "  'play': \"A Midsummer Night's Dream\",\n",
       "  'address': ' 4350 Aicholtz Road, Cincinnati, Ohio 45245'},\n",
       " {'dt': 'Sunday, August 15, 2021 at 1:00pm',\n",
       "  'play': 'Macbeth',\n",
       "  'address': ' 3738 Eastern Ave, Cincinnati, Ohio 45226'},\n",
       " {'dt': 'Tuesday, August 17, 2021 at 7:00pm',\n",
       "  'play': 'Macbeth',\n",
       "  'address': ' 411 Wessel Drive, Fairfield, Ohio 45014'},\n",
       " {'dt': 'Wednesday, August 18, 2021 at 7:00pm',\n",
       "  'play': \"A Midsummer Night's Dream\",\n",
       "  'address': ' 700 Lafayette Ave, Cincinnati, Ohio 45220'},\n",
       " {'dt': 'Thursday, August 19, 2021 at 7:00pm',\n",
       "  'play': \"A Midsummer Night's Dream\",\n",
       "  'address': ' 5847 Irwin Simpson Rd., Mason, Ohio 45040'},\n",
       " {'dt': 'Friday, August 20, 2021 at 7:00pm',\n",
       "  'play': 'Macbeth',\n",
       "  'address': ' 47 N. 6th St., Richmond, Indiana 47374'},\n",
       " {'dt': 'Saturday, August 21, 2021 at 7:00pm',\n",
       "  'play': 'Romeo and Juliet',\n",
       "  'address': ' 1600 Art Museum Drive, Cincinnati, Ohio 45202'},\n",
       " {'dt': 'Sunday, August 22, 2021 at 7:00pm',\n",
       "  'play': 'Macbeth',\n",
       "  'address': ' 940 Second St., Portsmouth, Ohio 45662'},\n",
       " {'dt': 'Monday, August 23, 2021 at 7:00pm',\n",
       "  'play': \"A Midsummer Night's Dream\",\n",
       "  'address': ' 50 Walnut Street, Lawrenceburg, Indiana 47025'},\n",
       " {'dt': 'Tuesday, August 24, 2021 at 7:00pm',\n",
       "  'play': 'Romeo and Juliet',\n",
       "  'address': ' High and Main St., Oxford, Ohio 45056'},\n",
       " {'dt': 'Thursday, August 26, 2021 at 7:00pm',\n",
       "  'play': 'Macbeth',\n",
       "  'address': ' 2221 Oxford Avenue, Cincinnati, Ohio 45230'},\n",
       " {'dt': 'Sunday, September 12, 2021 at 1:00pm',\n",
       "  'play': 'Romeo and Juliet',\n",
       "  'address': ' 11450 Lebanon Rd. Sharonville, OH 45241'}]"
      ]
     },
     "execution_count": 28,
     "metadata": {},
     "output_type": "execute_result"
    }
   ],
   "source": [
    "performances"
   ]
  },
  {
   "cell_type": "code",
   "execution_count": 29,
   "id": "267b2959-baa8-440f-b0bd-12e6ce5591bf",
   "metadata": {},
   "outputs": [],
   "source": [
    "import csv"
   ]
  },
  {
   "cell_type": "code",
   "execution_count": 33,
   "id": "37774f58-6002-47c0-a7a2-d3657c4e53ff",
   "metadata": {},
   "outputs": [],
   "source": [
    "with open('performances.csv', 'w') as outfile:\n",
    "    writer = csv.DictWriter(outfile, fieldnames = performances[0])\n",
    "    writer.writeheader()\n",
    "    writer.writerows(performances)"
   ]
  },
  {
   "cell_type": "code",
   "execution_count": 34,
   "id": "0029a734-215b-41c6-8b4f-ccd3e6f09025",
   "metadata": {},
   "outputs": [
    {
     "name": "stdout",
     "output_type": "stream",
     "text": [
      "dt,play,address\n",
      "\"Wednesday, June 16, 2021 at 7:00pm\",A Midsummer Night's Dream,\" 7440 Dawson Road, Madeira, Ohio 45243\"\n",
      "\"Sunday, June 20, 2021 at 7:00pm\",A Midsummer Night's Dream,\" 5951 Buckwheat Road, Milford, Ohio 45150\"\n",
      "\"Tuesday, June 22, 2021 at 7:00pm\",A Midsummer Night's Dream,\" 6300 Bramble Avenue, Cincinnati, Ohio 45227\"\n",
      "\"Friday, June 25, 2021 at 7:00pm\",A Midsummer Night's Dream,\" 5400 Northwoods Lane, Cincinnati, Ohio 45212\"\n",
      "\"Saturday, June 26, 2021 at 1:00pm\",A Midsummer Night's Dream,\" 10397 Springfield Pike, Cincinnati, Ohio 45215\"\n",
      "\"Sunday, June 27, 2021 at 7:00pm\",A Midsummer Night's Dream,\" 1410 Race Street, Cincinnati, Ohio 45202\"\n",
      "\"Friday, July 2, 2021 at 7:00pm\",Romeo and Juliet,\" 1600 Art Museum Drive, Cincinnati, Ohio 45202\"\n",
      "\"Thursday, July 8, 2021 at 7:00pm\",A Midsummer Night's Dream,\" TBA, Maysville, Ohio 41056\"\n",
      "\"Friday, July 9, 2021 at 7:00pm\",A Midsummer Night's Dream,\" 1600 Art Museum Drive, Cincinnati, Ohio 45202\"\n",
      "\"Saturday, July 10, 2021 at 7:00pm\",Romeo and Juliet,\" 7411 Barrett Rd, West Chester, Ohio 45069\"\n",
      "\"Sunday, July 11, 2021 at 7:00pm\",Romeo and Juliet,\" 1410 Race Street, Cincinnati, Ohio 45202\"\n",
      "\"Thursday, July 15, 2021 at 8:00pm\",A Midsummer Night's Dream,\" 250 Cliff Park Rd, Springfield, Ohio 45504\"\n",
      "\"Friday, July 16, 2021 at 7:00pm\",A Midsummer Night's Dream,\" 1600 Art Museum Drive, Cincinnati, Ohio 45202\"\n",
      "\"Saturday, July 17, 2021 at 7:00pm\",Romeo and Juliet,\" 7 Cherry St, Lebanon, Ohio 45036\"\n",
      "\"Thursday, July 22, 2021 at 7:00pm\",A Midsummer Night's Dream,\" 8th Street down to river, Brookville, Indiana 47012\"\n",
      "\"Friday, July 23, 2021 at 7:00pm\",Macbeth,\" 1600 Art Museum Drive, Cincinnati, Ohio 45202\"\n",
      "\"Saturday, July 24, 2021 at 7:00pm\",A Midsummer Night's Dream,\" 13th and Lee Streets, Covington, Kentucky 41011\"\n",
      "\"Thursday, July 29, 2021 at 7:00pm\",Macbeth,\" 1 Bandshell Blvd, Covington, Kentucky 41011\"\n",
      "\"Saturday, July 31, 2021 at 7:00pm\",Macbeth,\" 4501 Beech Street, Cincinnati, Ohio 45212\"\n",
      "\"Sunday, August 1, 2021 at 7:00pm\",Macbeth,\" 1410 Race Street, Cincinnati, Ohio 45202\"\n",
      "\"Thursday, August 5, 2021 at 7:00pm\",Romeo and Juliet,\" 6000 Veterans Way, Burlington, Kentucky 41005\"\n",
      "\"Saturday, August 7, 2021 at 7:00pm\",Macbeth,\" 7440 Dawson Road, Madeira, Ohio 45243\"\n",
      "\"Sunday, August 8, 2021 at 7:00pm\",A Midsummer Night's Dream,\" 205 East Sharon Rd, Glendale, Ohio 45246\"\n",
      "\"Tuesday, August 10, 2021 at 7:00pm\",Romeo and Juliet,\" 5125 Foley Road, Cincinnati, Ohio 45238\"\n",
      "\"Thursday, August 12, 2021 at 7:00pm\",Romeo and Juliet,\" 4060 Deerchase Dr, Erlanger, Kentucky 41018\"\n",
      "\"Friday, August 13, 2021 at 7:00pm\",Romeo and Juliet,\" 1700 Mills Avenue, Cincinnati, Ohio 45212\"\n",
      "\"Saturday, August 14, 2021 at 7:00pm\",A Midsummer Night's Dream,\" 4350 Aicholtz Road, Cincinnati, Ohio 45245\"\n",
      "\"Sunday, August 15, 2021 at 1:00pm\",Macbeth,\" 3738 Eastern Ave, Cincinnati, Ohio 45226\"\n",
      "\"Tuesday, August 17, 2021 at 7:00pm\",Macbeth,\" 411 Wessel Drive, Fairfield, Ohio 45014\"\n",
      "\"Wednesday, August 18, 2021 at 7:00pm\",A Midsummer Night's Dream,\" 700 Lafayette Ave, Cincinnati, Ohio 45220\"\n",
      "\"Thursday, August 19, 2021 at 7:00pm\",A Midsummer Night's Dream,\" 5847 Irwin Simpson Rd., Mason, Ohio 45040\"\n",
      "\"Friday, August 20, 2021 at 7:00pm\",Macbeth,\" 47 N. 6th St., Richmond, Indiana 47374\"\n",
      "\"Saturday, August 21, 2021 at 7:00pm\",Romeo and Juliet,\" 1600 Art Museum Drive, Cincinnati, Ohio 45202\"\n",
      "\"Sunday, August 22, 2021 at 7:00pm\",Macbeth,\" 940 Second St., Portsmouth, Ohio 45662\"\n",
      "\"Monday, August 23, 2021 at 7:00pm\",A Midsummer Night's Dream,\" 50 Walnut Street, Lawrenceburg, Indiana 47025\"\n",
      "\"Tuesday, August 24, 2021 at 7:00pm\",Romeo and Juliet,\" High and Main St., Oxford, Ohio 45056\"\n",
      "\"Thursday, August 26, 2021 at 7:00pm\",Macbeth,\" 2221 Oxford Avenue, Cincinnati, Ohio 45230\"\n",
      "\"Sunday, September 12, 2021 at 1:00pm\",Romeo and Juliet,\" 11450 Lebanon Rd. Sharonville, OH 45241\"\n"
     ]
    }
   ],
   "source": [
    "!cat performances.csv"
   ]
  },
  {
   "cell_type": "code",
   "execution_count": null,
   "id": "6cc5ccf9-ce99-4cb1-95cd-fd81a508e616",
   "metadata": {},
   "outputs": [],
   "source": []
  }
 ],
 "metadata": {
  "kernelspec": {
   "display_name": "Python 3",
   "language": "python",
   "name": "python3"
  },
  "language_info": {
   "codemirror_mode": {
    "name": "ipython",
    "version": 3
   },
   "file_extension": ".py",
   "mimetype": "text/x-python",
   "name": "python",
   "nbconvert_exporter": "python",
   "pygments_lexer": "ipython3",
   "version": "3.9.1"
  }
 },
 "nbformat": 4,
 "nbformat_minor": 5
}
