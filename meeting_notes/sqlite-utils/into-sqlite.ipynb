{
 "cells": [
  {
   "cell_type": "code",
   "execution_count": 32,
   "id": "0a0c3a23-b524-4abd-93c1-8650f91dddbb",
   "metadata": {},
   "outputs": [
    {
     "name": "stdout",
     "output_type": "stream",
     "text": [
      "\u001b[?25l  [------------------------------------]    0%\u001b[?25h\n",
      "\u001b[?25l  [###################################-]   98%"
     ]
    }
   ],
   "source": [
    "!sqlite-utils insert shakes.db plays performances.csv --csv --pk=id"
   ]
  },
  {
   "cell_type": "code",
   "execution_count": 33,
   "id": "89ecdc9b-bab5-47f2-a6c6-eb7497159f3f",
   "metadata": {},
   "outputs": [],
   "source": [
    "import sqlite_utils"
   ]
  },
  {
   "cell_type": "code",
   "execution_count": 34,
   "id": "b250ba3b-27c5-49e7-b851-6004bdba734e",
   "metadata": {},
   "outputs": [],
   "source": [
    "db = sqlite_utils.Database(\"shakes.db\")"
   ]
  },
  {
   "cell_type": "code",
   "execution_count": 35,
   "id": "2a451f86-6da1-4aec-816b-6ce773f1fc22",
   "metadata": {},
   "outputs": [
    {
     "data": {
      "text/plain": [
       "<Table plays (id, dt, play, address)>"
      ]
     },
     "execution_count": 35,
     "metadata": {},
     "output_type": "execute_result"
    }
   ],
   "source": [
    "db['plays']"
   ]
  },
  {
   "cell_type": "code",
   "execution_count": 36,
   "id": "13857173-fe4a-4cfc-96bb-27b465f325ec",
   "metadata": {},
   "outputs": [
    {
     "name": "stdout",
     "output_type": "stream",
     "text": [
      "100%|█████████████████████████████████████████| 38/38 [00:00<00:00, 5339.30it/s]\n"
     ]
    }
   ],
   "source": [
    "!sqlite-transform parsedatetime shakes.db plays dt"
   ]
  },
  {
   "cell_type": "code",
   "execution_count": 42,
   "id": "86c568d7-4bb7-4e03-8781-2b3ecdabb6bf",
   "metadata": {},
   "outputs": [
    {
     "name": "stdout",
     "output_type": "stream",
     "text": [
      "Using Nominatim geocoder at nominatim.openstreetmap.org\n",
      "Geocoding table: plays\n",
      "\u001b[?25l10 rows  [####################################]  100%          \u001b[?25h\n",
      "Geocoded 0 rows\n",
      "The following rows failed to geocode:\n",
      "Traceback (most recent call last):\n",
      "  File \"/Users/cdevlin/org/ddl/dayton-dynamic.github.com/meeting_notes/sqlite-utils/.venv/bin/geocode-sqlite\", line 8, in <module>\n",
      "    sys.exit(cli())\n",
      "  File \"/Users/cdevlin/org/ddl/dayton-dynamic.github.com/meeting_notes/sqlite-utils/.venv/lib/python3.9/site-packages/click/core.py\", line 1137, in __call__\n",
      "    return self.main(*args, **kwargs)\n",
      "  File \"/Users/cdevlin/org/ddl/dayton-dynamic.github.com/meeting_notes/sqlite-utils/.venv/lib/python3.9/site-packages/click/core.py\", line 1062, in main\n",
      "    rv = self.invoke(ctx)\n",
      "  File \"/Users/cdevlin/org/ddl/dayton-dynamic.github.com/meeting_notes/sqlite-utils/.venv/lib/python3.9/site-packages/click/core.py\", line 1668, in invoke\n",
      "    return _process_result(sub_ctx.command.invoke(sub_ctx))\n",
      "  File \"/Users/cdevlin/org/ddl/dayton-dynamic.github.com/meeting_notes/sqlite-utils/.venv/lib/python3.9/site-packages/click/core.py\", line 1637, in _process_result\n",
      "    value = ctx.invoke(self._result_callback, value, **ctx.params)\n",
      "  File \"/Users/cdevlin/org/ddl/dayton-dynamic.github.com/meeting_notes/sqlite-utils/.venv/lib/python3.9/site-packages/click/core.py\", line 763, in invoke\n",
      "    return __callback(*args, **kwargs)\n",
      "  File \"/Users/cdevlin/org/ddl/dayton-dynamic.github.com/meeting_notes/sqlite-utils/.venv/lib/python3.9/site-packages/click/decorators.py\", line 26, in new_func\n",
      "    return f(get_current_context(), *args, **kwargs)\n",
      "  File \"/Users/cdevlin/org/ddl/dayton-dynamic.github.com/meeting_notes/sqlite-utils/.venv/lib/python3.9/site-packages/geocode_sqlite/cli.py\", line 175, in geocode\n",
      "    click.echo(f\"{pk}: {location.format(row)}\")\n",
      "KeyError: 'address'\n"
     ]
    }
   ],
   "source": [
    "!geocode-sqlite nominatim shakes.db plays \\\n",
    " --location=\"{address}\" \\\n",
    " --delay=2 \\\n",
    " --user-agent=\"github.com/dayton-dynamic/dayton-dynamic.github.com/tree/master/meeting_notes/sqlite-utils\""
   ]
  },
  {
   "cell_type": "code",
   "execution_count": null,
   "id": "411c19dd-9b9c-4140-9b14-ae3b64d77e71",
   "metadata": {},
   "outputs": [],
   "source": [
    "!datasette publish heroku -n shakes-in-park shakes.db "
   ]
  }
 ],
 "metadata": {
  "kernelspec": {
   "display_name": "Python 3",
   "language": "python",
   "name": "python3"
  },
  "language_info": {
   "codemirror_mode": {
    "name": "ipython",
    "version": 3
   },
   "file_extension": ".py",
   "mimetype": "text/x-python",
   "name": "python",
   "nbconvert_exporter": "python",
   "pygments_lexer": "ipython3",
   "version": "3.9.1"
  }
 },
 "nbformat": 4,
 "nbformat_minor": 5
}
