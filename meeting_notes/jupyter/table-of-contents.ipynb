{
 "cells": [
  {
   "cell_type": "markdown",
   "id": "4b464243-1a64-4437-bbf8-c76f4883a4b4",
   "metadata": {},
   "source": [
    "# Wide World of Jupyter"
   ]
  },
  {
   "cell_type": "markdown",
   "id": "e04d35e9-4206-46bb-a97f-7c4c1caa1052",
   "metadata": {},
   "source": [
    "## books\n",
    "\n",
    "- [nbconvert](https://nbconvert.readthedocs.io/en/latest/index.html)\n",
    "- [fastdoc](https://fastai.github.io/fastdoc/)\n",
    "- quarto \n",
    "- jupyterbook"
   ]
  },
  {
   "cell_type": "markdown",
   "id": "19cba329-b081-4d14-a70d-4a84526faf41",
   "metadata": {},
   "source": [
    "## productionize \n",
    "\n",
    "- papermill \n",
    "- [notebooker](https://github.com/man-group/notebooker)"
   ]
  },
  {
   "cell_type": "markdown",
   "id": "8a8587bc-053f-4065-b2f7-3c468fdcb48a",
   "metadata": {},
   "source": [
    "## etc\n",
    "\n",
    "- [nbdev](https://nbdev.fast.ai/)\n",
    "- [voila](https://voila-gallery.org/)\n",
    "- [jupyterhub](https://jupyter.org/hub)\n",
    "- notebooks in VSCode"
   ]
  },
  {
   "cell_type": "markdown",
   "id": "24ccd23a-fdd8-4795-9a85-dab656afe70a",
   "metadata": {},
   "source": [
    "## jupyterlite\n",
    "\n",
    "- [docs](https://jupyterlite.readthedocs.io/en/latest/) makes it sound complicated\n",
    "- A [simple example](https://blog.jupyter.org/jupyter-everywhere-f8151c2cc6e8)"
   ]
  },
  {
   "cell_type": "markdown",
   "id": "9ea46b4f-f282-487e-a8ac-2731d852e018",
   "metadata": {},
   "source": [
    "## colab\n",
    "\n",
    "- http://colab.research.google.com/github/username/repository/path/to/notebook.ipynb\n",
    "\n",
    "- http://colab.research.google.com/gist/username/hash/filename.ipynb"
   ]
  }
 ],
 "metadata": {
  "kernelspec": {
   "display_name": "Python 3 (ipykernel)",
   "language": "python",
   "name": "python3"
  },
  "language_info": {
   "codemirror_mode": {
    "name": "ipython",
    "version": 3
   },
   "file_extension": ".py",
   "mimetype": "text/x-python",
   "name": "python",
   "nbconvert_exporter": "python",
   "pygments_lexer": "ipython3",
   "version": "3.10.6"
  }
 },
 "nbformat": 4,
 "nbformat_minor": 5
}
