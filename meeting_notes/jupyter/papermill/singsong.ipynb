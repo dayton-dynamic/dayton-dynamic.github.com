{
 "cells": [
  {
   "cell_type": "code",
   "execution_count": 1,
   "id": "b86f386f-c708-440c-a6e0-739e70cdb8a7",
   "metadata": {
    "tags": [
     "parameters"
    ]
   },
   "outputs": [],
   "source": [
    "start_val = 2\n",
    "cows = 'MOO!'"
   ]
  },
  {
   "cell_type": "code",
   "execution_count": 6,
   "id": "0c8ce885-6ec5-4e04-a841-fad160715526",
   "metadata": {
    "tags": []
   },
   "outputs": [
    {
     "name": "stdout",
     "output_type": "stream",
     "text": [
      "moo\n"
     ]
    }
   ],
   "source": [
    "print(cows)"
   ]
  },
  {
   "cell_type": "code",
   "execution_count": 2,
   "id": "e774f457-d1fc-49da-a03f-0833fc680fa2",
   "metadata": {
    "tags": []
   },
   "outputs": [],
   "source": [
    "val = start_val\n",
    "lines = []\n",
    "for i in range(5):\n",
    "    new_val = val + val\n",
    "    lines.append(f'{val} and {val} are {new_val}')\n",
    "    val = new_val\n",
    "    "
   ]
  },
  {
   "cell_type": "code",
   "execution_count": 4,
   "id": "ad514652-0040-4b49-86b5-f9beabd4a2ff",
   "metadata": {
    "tags": []
   },
   "outputs": [
    {
     "data": {
      "text/plain": [
       "5"
      ]
     },
     "execution_count": 4,
     "metadata": {},
     "output_type": "execute_result"
    }
   ],
   "source": [
    "len(lines)"
   ]
  },
  {
   "cell_type": "code",
   "execution_count": 3,
   "id": "83a62b3a-82ca-400f-89f0-c5a8fc104299",
   "metadata": {
    "tags": []
   },
   "outputs": [
    {
     "name": "stdout",
     "output_type": "stream",
     "text": [
      "2 and 2 are 4\n",
      "4 and 4 are 8\n",
      "8 and 8 are 16\n",
      "16 and 16 are 32\n",
      "32 and 32 are 64\n"
     ]
    }
   ],
   "source": [
    "print('\\n'.join(lines))"
   ]
  },
  {
   "cell_type": "code",
   "execution_count": null,
   "id": "25a57c01-b856-4a3b-8a5c-21fb595de836",
   "metadata": {},
   "outputs": [],
   "source": []
  }
 ],
 "metadata": {
  "kernelspec": {
   "display_name": "Python 3 (ipykernel)",
   "language": "python",
   "name": "python3"
  },
  "language_info": {
   "codemirror_mode": {
    "name": "ipython",
    "version": 3
   },
   "file_extension": ".py",
   "mimetype": "text/x-python",
   "name": "python",
   "nbconvert_exporter": "python",
   "pygments_lexer": "ipython3",
   "version": "3.10.6"
  }
 },
 "nbformat": 4,
 "nbformat_minor": 5
}
