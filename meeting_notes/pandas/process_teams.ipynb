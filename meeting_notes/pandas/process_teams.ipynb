{
 "cells": [
  {
   "cell_type": "code",
   "execution_count": 35,
   "metadata": {},
   "outputs": [],
   "source": [
    "\n",
    "def teams():\n",
    "    with open('teams.txt') as infile:\n",
    "        raw = infile.readlines()\n",
    "    lines = [l for l in raw if l.strip()]\n",
    "    province = None \n",
    "    for line in lines:\n",
    "        if line.startswith('    '):\n",
    "            team = line.split('(')[0].strip()\n",
    "            yield (province, team)\n",
    "        else:\n",
    "            province = line.strip().split(',')[0]"
   ]
  },
  {
   "cell_type": "code",
   "execution_count": 41,
   "metadata": {},
   "outputs": [],
   "source": [
    "\n",
    "def teams():\n",
    "    with open('teams.txt') as infile:\n",
    "        raw = infile.readlines()\n",
    "    lines = [l for l in raw if l.strip()]\n",
    "    province = None \n",
    "    for line in lines:\n",
    "        if line.startswith('    '):\n",
    "            (team, conference) = line.split('(')\n",
    "            team = team.strip()\n",
    "            conference = conference.split(')')[0].strip()\n",
    "            yield (conference, province, team)\n",
    "        else:\n",
    "            province = line.strip().split(',')[0]"
   ]
  },
  {
   "cell_type": "code",
   "execution_count": 42,
   "metadata": {},
   "outputs": [
    {
     "data": {
      "text/plain": [
       "[('Western Pacific', 'Alberta', 'Calgary Flames'),\n",
       " ('Western Pacific', 'Alberta', 'Edmonton Oilers'),\n",
       " ('Western Pacific', 'Arizona', 'Arizona Coyotes'),\n",
       " ('Western Pacific', 'British Columbia', 'Vancouver Canucks'),\n",
       " ('Western Pacific', 'California', 'Anaheim Ducks'),\n",
       " ('Western Pacific', 'California', 'Los Angeles Kings'),\n",
       " ('Western Pacific', 'California', 'San Jose Sharks'),\n",
       " ('Western Central', 'Colorado', 'Colorado Avalanche'),\n",
       " ('Eastern Atlantic', 'Florida', 'Florida Panthers'),\n",
       " ('Eastern Atlantic', 'Florida', 'Tampa Bay Lightning'),\n",
       " ('Western Central', 'Illinois', 'Chicago Blackhawks'),\n",
       " ('Western Central', 'Manitoba', 'Winnipeg Jets'),\n",
       " ('Eastern Atlantic', 'Massachusetts', 'Boston Bruins'),\n",
       " ('Eastern Atlantic', 'Michigan', 'Detroit Red Wings'),\n",
       " ('Western Central', 'Minnesota', 'Minnesota Wild'),\n",
       " ('Western Central', 'Missouri', 'St. Louis Blues'),\n",
       " ('Western Pacific', 'Nevada', 'Vegas Golden Knights'),\n",
       " ('Eastern Metropolitan', 'New Jersey', 'New Jersey Devils'),\n",
       " ('Eastern Atlantic', 'New York', 'Buffalo Sabres'),\n",
       " ('Eastern Metropolitan', 'New York', 'New York Islanders'),\n",
       " ('Eastern Metropolitan', 'New York', 'New York Rangers'),\n",
       " ('Eastern Matropolitan', 'North Carolina', 'Carolina Hurricanes'),\n",
       " ('Eastern Metropolitan', 'Ohio', 'Columbus Blue Jackets'),\n",
       " ('Eastern Atlantic', 'Ontario', 'Ottawa Senators'),\n",
       " ('Eastern Atlantic', 'Ontario', 'Toronto Maple Leafs'),\n",
       " ('Eastern Metropolitan', 'Pennsylvania', 'Philadelphia Flyers'),\n",
       " ('Eastern Metropolitan', 'Pennsylvania', 'Pittsburgh Penguins'),\n",
       " ('Eastern Atlantic', 'Quebec', 'Montreal Canadiens'),\n",
       " ('Western Central', 'Tennessee', 'Nashville Predators'),\n",
       " ('Western Central', 'Texas', 'Dallas Stars'),\n",
       " ('Eastern Metropolitan', 'Washington D.C.', 'Washington Capitals')]"
      ]
     },
     "execution_count": 42,
     "metadata": {},
     "output_type": "execute_result"
    }
   ],
   "source": [
    "list(teams())"
   ]
  },
  {
   "cell_type": "code",
   "execution_count": 43,
   "metadata": {},
   "outputs": [],
   "source": [
    "def write(conference):\n",
    "    with open(f'teams_{conference}.csv', 'w') as outfile:\n",
    "        writer = csv.writer(outfile)\n",
    "        writer.writerow(('province', 'team'))\n",
    "        for (conf_name, province, team) in teams():\n",
    "            if conf_name.split()[0] == conference:\n",
    "                writer.writerow((province, team))"
   ]
  },
  {
   "cell_type": "code",
   "execution_count": 46,
   "metadata": {},
   "outputs": [],
   "source": [
    "write('Eastern')\n",
    "write('Western')"
   ]
  },
  {
   "cell_type": "code",
   "execution_count": 47,
   "metadata": {},
   "outputs": [
    {
     "name": "stdout",
     "output_type": "stream",
     "text": [
      "province,team\n",
      "Florida,Florida Panthers\n",
      "Florida,Tampa Bay Lightning\n",
      "Massachusetts,Boston Bruins\n",
      "Michigan,Detroit Red Wings\n",
      "New Jersey,New Jersey Devils\n",
      "New York,Buffalo Sabres\n",
      "New York,New York Islanders\n",
      "New York,New York Rangers\n",
      "North Carolina,Carolina Hurricanes\n",
      "Ohio,Columbus Blue Jackets\n",
      "Ontario,Ottawa Senators\n",
      "Ontario,Toronto Maple Leafs\n",
      "Pennsylvania,Philadelphia Flyers\n",
      "Pennsylvania,Pittsburgh Penguins\n",
      "Quebec,Montreal Canadiens\n",
      "Washington D.C.,Washington Capitals\n"
     ]
    }
   ],
   "source": [
    "!cat teams_Eastern.csv"
   ]
  },
  {
   "cell_type": "code",
   "execution_count": 19,
   "metadata": {},
   "outputs": [],
   "source": [
    "outfile = open('nhl_teams.csv', 'w')"
   ]
  },
  {
   "cell_type": "code",
   "execution_count": 20,
   "metadata": {},
   "outputs": [],
   "source": [
    "writer = csv.writer(outfile)"
   ]
  },
  {
   "cell_type": "code",
   "execution_count": 21,
   "metadata": {},
   "outputs": [],
   "source": [
    "outfile.close()"
   ]
  },
  {
   "cell_type": "code",
   "execution_count": null,
   "metadata": {},
   "outputs": [],
   "source": []
  }
 ],
 "metadata": {
  "kernelspec": {
   "display_name": "Python 3",
   "language": "python",
   "name": "python3"
  },
  "language_info": {
   "codemirror_mode": {
    "name": "ipython",
    "version": 3
   },
   "file_extension": ".py",
   "mimetype": "text/x-python",
   "name": "python",
   "nbconvert_exporter": "python",
   "pygments_lexer": "ipython3",
   "version": "3.7.6"
  }
 },
 "nbformat": 4,
 "nbformat_minor": 4
}
