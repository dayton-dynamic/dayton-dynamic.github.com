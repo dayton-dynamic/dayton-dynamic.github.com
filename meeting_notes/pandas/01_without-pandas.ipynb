{
 "cells": [
  {
   "cell_type": "code",
   "execution_count": 1,
   "metadata": {},
   "outputs": [],
   "source": [
    "import csv"
   ]
  },
  {
   "cell_type": "code",
   "execution_count": 6,
   "metadata": {},
   "outputs": [],
   "source": [
    "with open('provinces.csv') as infile:\n",
    "    reader = csv.DictReader(infile)\n",
    "    data = list(reader)"
   ]
  },
  {
   "cell_type": "code",
   "execution_count": 7,
   "metadata": {},
   "outputs": [
    {
     "data": {
      "text/plain": [
       "[{'': '',\n",
       "  'Province': 'Ontario[b]',\n",
       "  'Postalabbrev.': 'ON',\n",
       "  'Capital': 'Toronto',\n",
       "  'Largest city': 'Toronto',\n",
       "  'Entered Confederation': 'July 1, 1867',\n",
       "  'Population': '14659616',\n",
       "  'Land Area (km2)': '917741',\n",
       "  'Water Area (km2)': '158654',\n",
       "  'Total Area (km2)': '1076395',\n",
       "  'Official language(s)': 'English[c]',\n",
       "  'Seats – Commons': '121',\n",
       "  'Seats – Senate': '24'},\n",
       " {'': '',\n",
       "  'Province': 'Quebec',\n",
       "  'Postalabbrev.': 'QC',\n",
       "  'Capital': 'Quebec City',\n",
       "  'Largest city': 'Montreal',\n",
       "  'Entered Confederation': 'July 1, 1867',\n",
       "  'Population': '8522800',\n",
       "  'Land Area (km2)': '1356128',\n",
       "  'Water Area (km2)': '185928',\n",
       "  'Total Area (km2)': '1542056',\n",
       "  'Official language(s)': 'French[d]',\n",
       "  'Seats – Commons': '78',\n",
       "  'Seats – Senate': '24'},\n",
       " {'': '',\n",
       "  'Province': 'Nova Scotia',\n",
       "  'Postalabbrev.': 'NS',\n",
       "  'Capital': 'Halifax[e]',\n",
       "  'Largest city': 'Halifax[e]',\n",
       "  'Entered Confederation': 'July 1, 1867',\n",
       "  'Population': '976768',\n",
       "  'Land Area (km2)': '53338',\n",
       "  'Water Area (km2)': '1946',\n",
       "  'Total Area (km2)': '55284',\n",
       "  'Official language(s)': 'English[f]',\n",
       "  'Seats – Commons': '11',\n",
       "  'Seats – Senate': '10'},\n",
       " {'': '',\n",
       "  'Province': 'New Brunswick',\n",
       "  'Postalabbrev.': 'NB',\n",
       "  'Capital': 'Fredericton',\n",
       "  'Largest city': 'Moncton',\n",
       "  'Entered Confederation': 'July 1, 1867',\n",
       "  'Population': '780021',\n",
       "  'Land Area (km2)': '71450',\n",
       "  'Water Area (km2)': '1458',\n",
       "  'Total Area (km2)': '72908',\n",
       "  'Official language(s)': 'EnglishFrench[g]',\n",
       "  'Seats – Commons': '10',\n",
       "  'Seats – Senate': '10'},\n",
       " {'': '',\n",
       "  'Province': 'Manitoba',\n",
       "  'Postalabbrev.': 'MB',\n",
       "  'Capital': 'Winnipeg',\n",
       "  'Largest city': 'Winnipeg',\n",
       "  'Entered Confederation': 'July 15, 1870',\n",
       "  'Population': '1373859',\n",
       "  'Land Area (km2)': '553556',\n",
       "  'Water Area (km2)': '94241',\n",
       "  'Total Area (km2)': '647797',\n",
       "  'Official language(s)': 'English[c][h]',\n",
       "  'Seats – Commons': '14',\n",
       "  'Seats – Senate': '6'},\n",
       " {'': '',\n",
       "  'Province': 'British Columbia',\n",
       "  'Postalabbrev.': 'BC',\n",
       "  'Capital': 'Victoria',\n",
       "  'Largest city': 'Vancouver',\n",
       "  'Entered Confederation': 'July 20, 1871',\n",
       "  'Population': '5105576',\n",
       "  'Land Area (km2)': '925186',\n",
       "  'Water Area (km2)': '19549',\n",
       "  'Total Area (km2)': '944735',\n",
       "  'Official language(s)': 'English[c]',\n",
       "  'Seats – Commons': '42',\n",
       "  'Seats – Senate': '6'},\n",
       " {'': '',\n",
       "  'Province': 'Prince Edward Island',\n",
       "  'Postalabbrev.': 'PE',\n",
       "  'Capital': 'Charlottetown',\n",
       "  'Largest city': 'Charlottetown',\n",
       "  'Entered Confederation': 'July 1, 1873',\n",
       "  'Population': '157901',\n",
       "  'Land Area (km2)': '5660',\n",
       "  'Water Area (km2)': '0',\n",
       "  'Total Area (km2)': '5660',\n",
       "  'Official language(s)': 'English[c]',\n",
       "  'Seats – Commons': '4',\n",
       "  'Seats – Senate': '4'},\n",
       " {'': '',\n",
       "  'Province': 'Saskatchewan',\n",
       "  'Postalabbrev.': 'SK',\n",
       "  'Capital': 'Regina',\n",
       "  'Largest city': 'Saskatoon',\n",
       "  'Entered Confederation': 'September 1, 1905',\n",
       "  'Population': '1178657',\n",
       "  'Land Area (km2)': '591670',\n",
       "  'Water Area (km2)': '59366',\n",
       "  'Total Area (km2)': '651036',\n",
       "  'Official language(s)': 'English[c]',\n",
       "  'Seats – Commons': '14',\n",
       "  'Seats – Senate': '6'},\n",
       " {'': '',\n",
       "  'Province': 'Alberta',\n",
       "  'Postalabbrev.': 'AB',\n",
       "  'Capital': 'Edmonton',\n",
       "  'Largest city': 'Calgary',\n",
       "  'Entered Confederation': 'September 1, 1905',\n",
       "  'Population': '4395586',\n",
       "  'Land Area (km2)': '642317',\n",
       "  'Water Area (km2)': '19531',\n",
       "  'Total Area (km2)': '661848',\n",
       "  'Official language(s)': 'English[c]',\n",
       "  'Seats – Commons': '34',\n",
       "  'Seats – Senate': '6'},\n",
       " {'': '',\n",
       "  'Province': 'Newfoundland and Labrador',\n",
       "  'Postalabbrev.': 'NL',\n",
       "  'Capital': \"St. John's\",\n",
       "  'Largest city': \"St. John's\",\n",
       "  'Entered Confederation': 'March 31, 1949',\n",
       "  'Population': '521922',\n",
       "  'Land Area (km2)': '373872',\n",
       "  'Water Area (km2)': '31340',\n",
       "  'Total Area (km2)': '405212',\n",
       "  'Official language(s)': 'English[c]',\n",
       "  'Seats – Commons': '7',\n",
       "  'Seats – Senate': '6'},\n",
       " {'': '',\n",
       "  'Province': 'Total',\n",
       "  'Postalabbrev.': 'Total',\n",
       "  'Capital': 'Total',\n",
       "  'Largest city': 'Total',\n",
       "  'Entered Confederation': 'Total',\n",
       "  'Population': '37672706',\n",
       "  'Land Area (km2)': '5490918',\n",
       "  'Water Area (km2)': '572013',\n",
       "  'Total Area (km2)': '6062931',\n",
       "  'Official language(s)': '—',\n",
       "  'Seats – Commons': '335',\n",
       "  'Seats – Senate': '102'}]"
      ]
     },
     "execution_count": 7,
     "metadata": {},
     "output_type": "execute_result"
    }
   ],
   "source": [
    "data"
   ]
  },
  {
   "cell_type": "code",
   "execution_count": 8,
   "metadata": {},
   "outputs": [
    {
     "name": "stdout",
     "output_type": "stream",
     "text": [
      "917741\n",
      "1356128\n",
      "53338\n",
      "71450\n",
      "553556\n",
      "925186\n",
      "5660\n",
      "591670\n",
      "642317\n",
      "373872\n",
      "5490918\n"
     ]
    }
   ],
   "source": [
    "for row in data:\n",
    "    print(row['Land Area (km2)'])"
   ]
  },
  {
   "cell_type": "code",
   "execution_count": 9,
   "metadata": {},
   "outputs": [
    {
     "ename": "TypeError",
     "evalue": "unsupported operand type(s) for +: 'int' and 'str'",
     "output_type": "error",
     "traceback": [
      "\u001b[0;31m---------------------------------------------------------------------------\u001b[0m",
      "\u001b[0;31mTypeError\u001b[0m                                 Traceback (most recent call last)",
      "\u001b[0;32m<ipython-input-9-cf72934f39a9>\u001b[0m in \u001b[0;36m<module>\u001b[0;34m\u001b[0m\n\u001b[0;32m----> 1\u001b[0;31m total_land_area_km2 = sum(\n\u001b[0m\u001b[1;32m      2\u001b[0m     \u001b[0mrow\u001b[0m\u001b[0;34m[\u001b[0m\u001b[0;34m'Land Area (km2)'\u001b[0m\u001b[0;34m]\u001b[0m\u001b[0;34m\u001b[0m\u001b[0;34m\u001b[0m\u001b[0m\n\u001b[1;32m      3\u001b[0m     for row in data)\n",
      "\u001b[0;31mTypeError\u001b[0m: unsupported operand type(s) for +: 'int' and 'str'"
     ]
    }
   ],
   "source": [
    "total_land_area_km2 = sum(\n",
    "    row['Land Area (km2)']\n",
    "    for row in data)"
   ]
  },
  {
   "cell_type": "code",
   "execution_count": 11,
   "metadata": {},
   "outputs": [],
   "source": [
    "total_land_area_km2 = sum(\n",
    "    int(row['Land Area (km2)'])\n",
    "    for row in data)"
   ]
  },
  {
   "cell_type": "code",
   "execution_count": 12,
   "metadata": {},
   "outputs": [
    {
     "data": {
      "text/plain": [
       "10981836"
      ]
     },
     "execution_count": 12,
     "metadata": {},
     "output_type": "execute_result"
    }
   ],
   "source": [
    "total_land_area_km2"
   ]
  },
  {
   "cell_type": "code",
   "execution_count": null,
   "metadata": {},
   "outputs": [],
   "source": []
  }
 ],
 "metadata": {
  "kernelspec": {
   "display_name": "Python 3",
   "language": "python",
   "name": "python3"
  },
  "language_info": {
   "codemirror_mode": {
    "name": "ipython",
    "version": 3
   },
   "file_extension": ".py",
   "mimetype": "text/x-python",
   "name": "python",
   "nbconvert_exporter": "python",
   "pygments_lexer": "ipython3",
   "version": "3.8.2"
  }
 },
 "nbformat": 4,
 "nbformat_minor": 4
}
