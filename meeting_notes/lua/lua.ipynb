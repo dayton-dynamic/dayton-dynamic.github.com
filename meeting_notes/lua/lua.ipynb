{
 "cells": [
  {
   "cell_type": "code",
   "execution_count": 1,
   "metadata": {},
   "outputs": [
    {
     "name": "stdout",
     "output_type": "stream",
     "text": [
      "Hello, World\n"
     ]
    }
   ],
   "source": [
    "%%script lua5.3\n",
    "print('Hello, World')"
   ]
  },
  {
   "cell_type": "markdown",
   "metadata": {},
   "source": [
    "- Creating variables\n",
    "- Printing\n"
   ]
  },
  {
   "cell_type": "code",
   "execution_count": 2,
   "metadata": {},
   "outputs": [
    {
     "name": "stdout",
     "output_type": "stream",
     "text": [
      "Hello, \n",
      "World!\n"
     ]
    }
   ],
   "source": [
    "%%script lua5.3\n",
    "greeting = 'Hello, \\nWorld!' or 0\n",
    "print(greeting)"
   ]
  },
  {
   "cell_type": "markdown",
   "metadata": {},
   "source": [
    "# Not the same \n",
    "\n",
    "- Comment with `--`\n",
    "- concat with `..`"
   ]
  },
  {
   "cell_type": "markdown",
   "metadata": {},
   "source": [
    "Blocks end with `end`"
   ]
  },
  {
   "cell_type": "code",
   "execution_count": 3,
   "metadata": {},
   "outputs": [
    {
     "name": "stdout",
     "output_type": "stream",
     "text": [
      "4\n"
     ]
    }
   ],
   "source": [
    "%%script lua5.3\n",
    "-- # prefix\n",
    "print(#'abcd')"
   ]
  },
  {
   "cell_type": "code",
   "execution_count": 4,
   "metadata": {},
   "outputs": [
    {
     "name": "stdout",
     "output_type": "stream",
     "text": [
      "x is not 6\n"
     ]
    }
   ],
   "source": [
    "%%script lua5.3\n",
    "x = 4\n",
    "if x ~= 6 then\n",
    "    print('x is not 6')\n",
    "end"
   ]
  },
  {
   "cell_type": "code",
   "execution_count": 5,
   "metadata": {},
   "outputs": [
    {
     "name": "stdout",
     "output_type": "stream",
     "text": [
      "x is one\n"
     ]
    }
   ],
   "source": [
    "%%script lua5.3\n",
    "x = 1;\n",
    "if x == 1 then\n",
    "    print('x is one')\n",
    "elseif x == 2 then\n",
    "    print('x is two')\n",
    "else\n",
    "    print('sorry, no good at math ');\n",
    "end\n"
   ]
  },
  {
   "cell_type": "markdown",
   "metadata": {},
   "source": [
    "# Unassigned == `nil`"
   ]
  },
  {
   "cell_type": "code",
   "execution_count": 6,
   "metadata": {},
   "outputs": [
    {
     "name": "stdout",
     "output_type": "stream",
     "text": [
      "nil\n"
     ]
    }
   ],
   "source": [
    "%%script lua5.3\n",
    "print(greeting)"
   ]
  },
  {
   "cell_type": "markdown",
   "metadata": {},
   "source": [
    "# Coercion"
   ]
  },
  {
   "cell_type": "code",
   "execution_count": 7,
   "metadata": {},
   "outputs": [
    {
     "name": "stdout",
     "output_type": "stream",
     "text": [
      "1001\n"
     ]
    }
   ],
   "source": [
    "%%script lua5.3\n",
    "print('100' .. 1)"
   ]
  },
  {
   "cell_type": "code",
   "execution_count": 8,
   "metadata": {},
   "outputs": [
    {
     "name": "stdout",
     "output_type": "stream",
     "text": [
      "101.0\n"
     ]
    }
   ],
   "source": [
    "%%script lua5.3\n",
    "print(1 + '100')"
   ]
  },
  {
   "cell_type": "markdown",
   "metadata": {},
   "source": [
    "# Scope"
   ]
  },
  {
   "cell_type": "code",
   "execution_count": 9,
   "metadata": {},
   "outputs": [
    {
     "name": "stdout",
     "output_type": "stream",
     "text": [
      "outside\n",
      "inside\n",
      "inside\n"
     ]
    }
   ],
   "source": [
    "%%script lua5.3\n",
    "var0 = 'outside'\n",
    "print(var0)\n",
    "do\n",
    "  var0 = 'inside'\n",
    "  print(var0)\n",
    "end\n",
    "print(var0)"
   ]
  },
  {
   "cell_type": "code",
   "execution_count": 10,
   "metadata": {},
   "outputs": [
    {
     "name": "stdout",
     "output_type": "stream",
     "text": [
      "outside\n",
      "inside\n",
      "outside\n"
     ]
    }
   ],
   "source": [
    "%%script lua5.3\n",
    "local var0 = 'outside'\n",
    "print(var0)\n",
    "do\n",
    "  local var0 = 'inside'\n",
    "  print(var0)\n",
    "end\n",
    "print(var0)"
   ]
  },
  {
   "cell_type": "code",
   "execution_count": 11,
   "metadata": {},
   "outputs": [
    {
     "name": "stdout",
     "output_type": "stream",
     "text": [
      "outside\n",
      "inside\n",
      "outside\n"
     ]
    }
   ],
   "source": [
    "%%script lua5.3\n",
    "var0 = 'outside'\n",
    "print(var0)\n",
    "do\n",
    "  local var0 = 'inside'\n",
    "  print(var0)\n",
    "end\n",
    "print(var0)"
   ]
  },
  {
   "cell_type": "markdown",
   "metadata": {},
   "source": [
    "# Functions"
   ]
  },
  {
   "cell_type": "code",
   "execution_count": 12,
   "metadata": {},
   "outputs": [
    {
     "name": "stdout",
     "output_type": "stream",
     "text": [
      "8.0\n"
     ]
    }
   ],
   "source": [
    "%%script lua5.3\n",
    "function raise(x, y)\n",
    "  return x^y\n",
    "end\n",
    "print(raise(2, 3))"
   ]
  },
  {
   "cell_type": "markdown",
   "metadata": {},
   "source": [
    "# Multi assignment"
   ]
  },
  {
   "cell_type": "code",
   "execution_count": 13,
   "metadata": {},
   "outputs": [
    {
     "name": "stdout",
     "output_type": "stream",
     "text": [
      "2\n",
      "3\n"
     ]
    }
   ],
   "source": [
    "%%script lua5.3\n",
    "x, y = 2, 3\n",
    "print(x)\n",
    "print(y)\n"
   ]
  },
  {
   "cell_type": "code",
   "execution_count": 14,
   "metadata": {},
   "outputs": [
    {
     "name": "stdout",
     "output_type": "stream",
     "text": [
      "1\n",
      "2\n"
     ]
    }
   ],
   "source": [
    "%%script lua5.3\n",
    "x, y = 1, 2, 3\n",
    "print(x)\n",
    "print(y)"
   ]
  },
  {
   "cell_type": "code",
   "execution_count": 15,
   "metadata": {},
   "outputs": [
    {
     "name": "stdout",
     "output_type": "stream",
     "text": [
      "1\n",
      "2\n",
      "nil\n"
     ]
    }
   ],
   "source": [
    "%%script lua5.3\n",
    "x, y, z = 1, 2\n",
    "print(x)\n",
    "print(y)\n",
    "print(z)"
   ]
  },
  {
   "cell_type": "markdown",
   "metadata": {},
   "source": [
    "# Booleans"
   ]
  },
  {
   "cell_type": "code",
   "execution_count": 16,
   "metadata": {},
   "outputs": [
    {
     "name": "stdout",
     "output_type": "stream",
     "text": [
      "0\n"
     ]
    }
   ],
   "source": [
    "%%script lua5.3\n",
    "print(0 or 1)"
   ]
  },
  {
   "cell_type": "code",
   "execution_count": 17,
   "metadata": {},
   "outputs": [
    {
     "name": "stdout",
     "output_type": "stream",
     "text": [
      "1\n"
     ]
    }
   ],
   "source": [
    "%%script lua5.3\n",
    "print(1 or 2)"
   ]
  },
  {
   "cell_type": "code",
   "execution_count": 18,
   "metadata": {},
   "outputs": [
    {
     "name": "stdout",
     "output_type": "stream",
     "text": [
      "0\n"
     ]
    }
   ],
   "source": [
    "%%script lua5.3\n",
    "print(0 or fake_function())"
   ]
  },
  {
   "cell_type": "code",
   "execution_count": 19,
   "metadata": {},
   "outputs": [
    {
     "name": "stdout",
     "output_type": "stream",
     "text": [
      "false\n"
     ]
    }
   ],
   "source": [
    "%%script lua5.3\n",
    "print(not 1)"
   ]
  },
  {
   "cell_type": "code",
   "execution_count": 20,
   "metadata": {},
   "outputs": [
    {
     "name": "stdout",
     "output_type": "stream",
     "text": [
      "true\n"
     ]
    }
   ],
   "source": [
    "%%script lua5.3\n",
    "print(not not not false)"
   ]
  },
  {
   "cell_type": "markdown",
   "metadata": {},
   "source": [
    "# Loops\n",
    "\n",
    "Regular `while... end`, `break` too boring to show"
   ]
  },
  {
   "cell_type": "code",
   "execution_count": 21,
   "metadata": {},
   "outputs": [
    {
     "name": "stdout",
     "output_type": "stream",
     "text": [
      "yo\n",
      "yo\n",
      "yo\n",
      "yo\n"
     ]
    }
   ],
   "source": [
    "%%script lua5.3\n",
    "x = 0 \n",
    "repeat\n",
    "    print('yo')\n",
    "    x = x + 1\n",
    "until x > 3"
   ]
  },
  {
   "cell_type": "code",
   "execution_count": 22,
   "metadata": {},
   "outputs": [
    {
     "name": "stdout",
     "output_type": "stream",
     "text": [
      "1\n",
      "3\n",
      "5\n"
     ]
    }
   ],
   "source": [
    "%%script lua5.3\n",
    "for x = 1, 6, 2 do \n",
    "  print(x)\n",
    "end"
   ]
  },
  {
   "cell_type": "code",
   "execution_count": 23,
   "metadata": {},
   "outputs": [
    {
     "name": "stderr",
     "output_type": "stream",
     "text": [
      "lua5.3: stdin:4: syntax error near <eof>\n"
     ]
    }
   ],
   "source": [
    "%%script lua5.3\n",
    "for x = 1, 6, 2 do \n",
    "  print(x)\n",
    "done"
   ]
  },
  {
   "cell_type": "markdown",
   "metadata": {},
   "source": [
    "# Tables"
   ]
  },
  {
   "cell_type": "code",
   "execution_count": 24,
   "metadata": {},
   "outputs": [
    {
     "name": "stdout",
     "output_type": "stream",
     "text": [
      "3\n",
      "2\n",
      "nil\n",
      "0\n",
      "1\n",
      "zero\n",
      "table: 0x560195066ac0\n"
     ]
    }
   ],
   "source": [
    "%%script lua5.3\n",
    "tbl = {d = 0, e = 1}\n",
    "tbl['a'] = 3\n",
    "tbl['b'] = 2\n",
    "tbl[0] = 'zero'\n",
    "print(tbl['a'])\n",
    "print(tbl.b)\n",
    "print(tbl.c)\n",
    "print(tbl.d)\n",
    "print(tbl.e)\n",
    "print(tbl[0])\n",
    "print(tbl)"
   ]
  },
  {
   "cell_type": "markdown",
   "metadata": {},
   "source": [
    "# tables are references"
   ]
  },
  {
   "cell_type": "code",
   "execution_count": 25,
   "metadata": {},
   "outputs": [
    {
     "name": "stdout",
     "output_type": "stream",
     "text": [
      "100\n"
     ]
    }
   ],
   "source": [
    "%%script lua5.3\n",
    "tbl1 = {a = 1, b = 2}\n",
    "tbl2 = tbl1\n",
    "tbl2.b = 100\n",
    "print(tbl1.b)"
   ]
  },
  {
   "cell_type": "markdown",
   "metadata": {},
   "source": [
    "# Arrays"
   ]
  },
  {
   "cell_type": "code",
   "execution_count": 26,
   "metadata": {},
   "outputs": [
    {
     "name": "stdout",
     "output_type": "stream",
     "text": [
      "one\n",
      "nil\n",
      "table: 0x56025d52a900\n"
     ]
    }
   ],
   "source": [
    "%%script lua5.3\n",
    "arr1 = {'one', 'two'}\n",
    "print(arr1[1])\n",
    "print(arr1[0])\n",
    "print(arr1)"
   ]
  },
  {
   "cell_type": "code",
   "execution_count": 27,
   "metadata": {},
   "outputs": [
    {
     "name": "stderr",
     "output_type": "stream",
     "text": [
      "lua5.3: stdin:2: attempt to call a table value\n",
      "stack traceback:\n",
      "\tstdin:2: in main chunk\n",
      "\t[C]: in ?\n"
     ]
    }
   ],
   "source": [
    "%%script lua5.3\n",
    "arr1 = {'one', 'two'}\n",
    "for element in arr1 do \n",
    "    print(element)\n",
    "end"
   ]
  },
  {
   "cell_type": "code",
   "execution_count": 28,
   "metadata": {},
   "outputs": [
    {
     "name": "stdout",
     "output_type": "stream",
     "text": [
      "1\n",
      "2\n"
     ]
    }
   ],
   "source": [
    "%%script lua5.3\n",
    "arr1 = {'one', 'two'}\n",
    "for element in pairs(arr1) do \n",
    "    print(element)\n",
    "end"
   ]
  },
  {
   "cell_type": "code",
   "execution_count": 29,
   "metadata": {},
   "outputs": [
    {
     "name": "stdout",
     "output_type": "stream",
     "text": [
      "element #1: one\n",
      "element #2: two\n"
     ]
    }
   ],
   "source": [
    "%%script lua5.3\n",
    "arr1 = {'one', 'two'}\n",
    "for idx, element in pairs(arr1) do \n",
    "    print('element #' .. idx .. ': ' .. element)\n",
    "end"
   ]
  },
  {
   "cell_type": "markdown",
   "metadata": {},
   "source": [
    "# Closures "
   ]
  },
  {
   "cell_type": "code",
   "execution_count": 30,
   "metadata": {},
   "outputs": [
    {
     "name": "stderr",
     "output_type": "stream",
     "text": [
      "lua5.3: stdin:4: 'end' expected (to close 'function' at line 1) near <eof>\n"
     ]
    }
   ],
   "source": [
    "%%script lua5.3\n",
    "function states()\n",
    "    local all_states = \n",
    "print()"
   ]
  },
  {
   "cell_type": "code",
   "execution_count": 31,
   "metadata": {},
   "outputs": [
    {
     "name": "stdout",
     "output_type": "stream",
     "text": [
      "20\n",
      "2\n",
      "30\n",
      "3\n"
     ]
    }
   ],
   "source": [
    "%%script lua5.3\n",
    "function MakeTimeser(y)\n",
    "  return function(x)\n",
    "    return x * y\n",
    "  end\n",
    "end\n",
    "\n",
    "TimesTwo = MakeTimeser(2)\n",
    "print(TimesTwo(10))\n",
    "print(TimesTwo(1))\n",
    "\n",
    "TimesThree = MakeTimeser(3)\n",
    "print(TimesThree(10))\n",
    "print(TimesThree(1))\n"
   ]
  },
  {
   "cell_type": "markdown",
   "metadata": {},
   "source": [
    "# Meta tables"
   ]
  },
  {
   "cell_type": "code",
   "execution_count": 32,
   "metadata": {},
   "outputs": [
    {
     "name": "stdout",
     "output_type": "stream",
     "text": [
      "11\n",
      "18\n"
     ]
    }
   ],
   "source": [
    "%%script lua5.3\n",
    "meta = {}\n",
    "meta.__newindex = function(tbl, key, val)\n",
    "    if val < 3 then \n",
    "        rawset(tbl, key, 3)\n",
    "    elseif val > 18 then \n",
    "        rawset(tbl, key, 18)\n",
    "    else\n",
    "        rawset(tbl, key, val)\n",
    "    end\n",
    "end\n",
    "\n",
    "stats = {}\n",
    "setmetatable(stats, meta)\n",
    "stats['str'] = 11\n",
    "stats['int'] = 30\n",
    "print(stats.str)\n",
    "print(stats.int)"
   ]
  },
  {
   "cell_type": "code",
   "execution_count": 33,
   "metadata": {},
   "outputs": [
    {
     "name": "stderr",
     "output_type": "stream",
     "text": [
      "lua5.3: stdin:8: C stack overflow\n",
      "stack traceback:\n",
      "\tstdin:8: in metamethod '__newindex'\n",
      "\tstdin:8: in metamethod '__newindex'\n",
      "\tstdin:8: in metamethod '__newindex'\n",
      "\tstdin:8: in metamethod '__newindex'\n",
      "\tstdin:8: in metamethod '__newindex'\n",
      "\tstdin:8: in metamethod '__newindex'\n",
      "\tstdin:8: in metamethod '__newindex'\n",
      "\tstdin:8: in metamethod '__newindex'\n",
      "\tstdin:8: in metamethod '__newindex'\n",
      "\tstdin:8: in metamethod '__newindex'\n",
      "\t...\n",
      "\tstdin:8: in metamethod '__newindex'\n",
      "\tstdin:8: in metamethod '__newindex'\n",
      "\tstdin:8: in metamethod '__newindex'\n",
      "\tstdin:8: in metamethod '__newindex'\n",
      "\tstdin:8: in metamethod '__newindex'\n",
      "\tstdin:8: in metamethod '__newindex'\n",
      "\tstdin:8: in metamethod '__newindex'\n",
      "\tstdin:8: in metamethod '__newindex'\n",
      "\tstdin:8: in metamethod '__newindex'\n",
      "\tstdin:14: in main chunk\n",
      "\t[C]: in ?\n"
     ]
    }
   ],
   "source": [
    "%%script lua5.3\n",
    "meta = {}\n",
    "meta.__newindex = function(tbl, key, val)\n",
    "    if val < 3 then \n",
    "        tbl[key] = 3\n",
    "    elseif val > 18 then \n",
    "        tbl[key] = 18\n",
    "    else\n",
    "        tbl[key] = val\n",
    "    end\n",
    "end\n",
    "\n",
    "stats = {}\n",
    "setmetatable(stats, meta)\n",
    "stats['str'] = 11\n",
    "stats['int'] = 30\n",
    "print(stats.str)\n",
    "print(stats.int)"
   ]
  },
  {
   "cell_type": "code",
   "execution_count": 34,
   "metadata": {},
   "outputs": [
    {
     "name": "stdout",
     "output_type": "stream",
     "text": [
      "x = 1, y = 2\n"
     ]
    }
   ],
   "source": [
    "%%script lua5.3\n",
    "tbl = {x = 1, y = 2,\n",
    "      __call = function(table)\n",
    "                   return 'x = ' .. table.x .. ', y = '.. table.y\n",
    "               end\n",
    "      }\n",
    "setmetatable(tbl, tbl)\n",
    "\n",
    "print(tbl())\n"
   ]
  },
  {
   "cell_type": "code",
   "execution_count": 35,
   "metadata": {},
   "outputs": [
    {
     "name": "stdout",
     "output_type": "stream",
     "text": [
      "false\n"
     ]
    }
   ],
   "source": [
    "%%script lua5.3\n",
    "tbl1 = {a = 1}\n",
    "tbl2 = {a = 1}\n",
    "print(tbl1 == tbl2)"
   ]
  },
  {
   "cell_type": "code",
   "execution_count": 36,
   "metadata": {},
   "outputs": [
    {
     "name": "stdout",
     "output_type": "stream",
     "text": [
      "true\n"
     ]
    }
   ],
   "source": [
    "%%script lua5.3\n",
    "meta = {__eq = function(left, right) \n",
    "                   return left.a == right.a\n",
    "               end}\n",
    "tbl1 = {a = 1, b=2}\n",
    "tbl2 = {a = 1, b=0}\n",
    "setmetatable(tbl1, meta)\n",
    "setmetatable(tbl2, meta)\n",
    "print(tbl1 == tbl2)"
   ]
  },
  {
   "cell_type": "markdown",
   "metadata": {},
   "source": [
    "# __index\n",
    "\n",
    "Like missing method"
   ]
  },
  {
   "cell_type": "code",
   "execution_count": 37,
   "metadata": {},
   "outputs": [
    {
     "name": "stdout",
     "output_type": "stream",
     "text": [
      "10\n",
      "1\n"
     ]
    }
   ],
   "source": [
    "%%script lua5.3\n",
    "meta = {__index = function(table, key) \n",
    "                   return 1\n",
    "               end}\n",
    "tbl1 = {a = 10, b=2}\n",
    "setmetatable(tbl1, meta)\n",
    "print(tbl1.a)\n",
    "print(tbl1.c)\n"
   ]
  },
  {
   "cell_type": "markdown",
   "metadata": {},
   "source": [
    "# Just because you can\n",
    "... doesn't mean you should\n",
    "\n",
    "__add, __sub, __mul, __div, __mod, __pow, __tostring, __len, __concat, __lt, __le"
   ]
  },
  {
   "cell_type": "markdown",
   "metadata": {},
   "source": [
    "# Hacking up JS-style OO "
   ]
  },
  {
   "cell_type": "code",
   "execution_count": 38,
   "metadata": {},
   "outputs": [
    {
     "name": "stdout",
     "output_type": "stream",
     "text": [
      "10\n",
      "5\n",
      "2\n"
     ]
    }
   ],
   "source": [
    "%%script lua5.3\n",
    "Enemy = {hitpoints=10}\n",
    "Enemy.new = function(self, object)\n",
    "    object = object or {}\n",
    "    setmetatable(object, self)\n",
    "    self.__index = self \n",
    "    return object\n",
    "end\n",
    "Enemy.hit = function(self, damage)\n",
    "    self.hitpoints = self.hitpoints - damage\n",
    "end\n",
    "\n",
    "orc = Enemy.new(Enemy)\n",
    "kobold = Enemy.new(Enemy, {hitpoints = 5})\n",
    "print(orc.hitpoints)\n",
    "print(kobold.hitpoints)\n",
    "kobold.hit(kobold, 3)\n",
    "print(kobold.hitpoints)"
   ]
  },
  {
   "cell_type": "markdown",
   "metadata": {},
   "source": [
    "`:` - calls function with itself"
   ]
  },
  {
   "cell_type": "code",
   "execution_count": 39,
   "metadata": {},
   "outputs": [
    {
     "name": "stdout",
     "output_type": "stream",
     "text": [
      "10\n",
      "5\n",
      "2\n"
     ]
    }
   ],
   "source": [
    "%%script lua5.3\n",
    "Enemy = {hitpoints=10}\n",
    "Enemy.new = function(self, object)\n",
    "    object = object or {}\n",
    "    setmetatable(object, self)\n",
    "    self.__index = self \n",
    "    return object\n",
    "end\n",
    "Enemy.hit = function(self, damage)\n",
    "    self.hitpoints = self.hitpoints - damage\n",
    "end\n",
    "\n",
    "orc = Enemy.new(Enemy)\n",
    "kobold = Enemy.new(Enemy, {hitpoints = 5})\n",
    "print(orc.hitpoints)\n",
    "print(kobold.hitpoints)\n",
    "kobold:hit(3)\n",
    "print(kobold.hitpoints)"
   ]
  },
  {
   "cell_type": "code",
   "execution_count": 40,
   "metadata": {},
   "outputs": [
    {
     "name": "stdout",
     "output_type": "stream",
     "text": [
      "\n"
     ]
    }
   ],
   "source": [
    "%%script lua5.3\n",
    "print()"
   ]
  }
 ],
 "metadata": {
  "kernelspec": {
   "display_name": "Python 3",
   "language": "python",
   "name": "python3"
  },
  "language_info": {
   "codemirror_mode": {
    "name": "ipython",
    "version": 3
   },
   "file_extension": ".py",
   "mimetype": "text/x-python",
   "name": "python",
   "nbconvert_exporter": "python",
   "pygments_lexer": "ipython3",
   "version": "3.7.0"
  }
 },
 "nbformat": 4,
 "nbformat_minor": 2
}
