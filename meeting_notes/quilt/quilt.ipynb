{
 "cells": [
  {
   "cell_type": "markdown",
   "metadata": {},
   "source": [
    "# [Quilt](https://quiltdata.com/)"
   ]
  },
  {
   "cell_type": "code",
   "execution_count": null,
   "metadata": {},
   "outputs": [],
   "source": [
    "!quilt install uciml/iris"
   ]
  },
  {
   "cell_type": "code",
   "execution_count": 1,
   "metadata": {},
   "outputs": [],
   "source": [
    "from quilt.data.uciml import iris"
   ]
  },
  {
   "cell_type": "code",
   "execution_count": 2,
   "metadata": {},
   "outputs": [
    {
     "data": {
      "text/plain": [
       "<GroupNode>\n",
       "\n",
       "bezdek_iris\n",
       "iris"
      ]
     },
     "execution_count": 2,
     "metadata": {},
     "output_type": "execute_result"
    }
   ],
   "source": [
    "iris.tables"
   ]
  },
  {
   "cell_type": "code",
   "execution_count": 3,
   "metadata": {},
   "outputs": [
    {
     "data": {
      "text/plain": [
       "<DataNode>"
      ]
     },
     "execution_count": 3,
     "metadata": {},
     "output_type": "execute_result"
    }
   ],
   "source": [
    "iris.tables.bezdek_iris"
   ]
  },
  {
   "cell_type": "code",
   "execution_count": 4,
   "metadata": {},
   "outputs": [
    {
     "data": {
      "text/html": [
       "<div>\n",
       "<style scoped>\n",
       "    .dataframe tbody tr th:only-of-type {\n",
       "        vertical-align: middle;\n",
       "    }\n",
       "\n",
       "    .dataframe tbody tr th {\n",
       "        vertical-align: top;\n",
       "    }\n",
       "\n",
       "    .dataframe thead th {\n",
       "        text-align: right;\n",
       "    }\n",
       "</style>\n",
       "<table border=\"1\" class=\"dataframe\">\n",
       "  <thead>\n",
       "    <tr style=\"text-align: right;\">\n",
       "      <th></th>\n",
       "      <th>sepal_length</th>\n",
       "      <th>sepal_width</th>\n",
       "      <th>petal_length</th>\n",
       "      <th>petal_width</th>\n",
       "      <th>class</th>\n",
       "    </tr>\n",
       "  </thead>\n",
       "  <tbody>\n",
       "    <tr>\n",
       "      <th>0</th>\n",
       "      <td>5.1</td>\n",
       "      <td>3.5</td>\n",
       "      <td>1.4</td>\n",
       "      <td>0.2</td>\n",
       "      <td>Iris-setosa</td>\n",
       "    </tr>\n",
       "    <tr>\n",
       "      <th>1</th>\n",
       "      <td>4.9</td>\n",
       "      <td>3.0</td>\n",
       "      <td>1.4</td>\n",
       "      <td>0.2</td>\n",
       "      <td>Iris-setosa</td>\n",
       "    </tr>\n",
       "    <tr>\n",
       "      <th>2</th>\n",
       "      <td>4.7</td>\n",
       "      <td>3.2</td>\n",
       "      <td>1.3</td>\n",
       "      <td>0.2</td>\n",
       "      <td>Iris-setosa</td>\n",
       "    </tr>\n",
       "    <tr>\n",
       "      <th>3</th>\n",
       "      <td>4.6</td>\n",
       "      <td>3.1</td>\n",
       "      <td>1.5</td>\n",
       "      <td>0.2</td>\n",
       "      <td>Iris-setosa</td>\n",
       "    </tr>\n",
       "    <tr>\n",
       "      <th>4</th>\n",
       "      <td>5.0</td>\n",
       "      <td>3.6</td>\n",
       "      <td>1.4</td>\n",
       "      <td>0.2</td>\n",
       "      <td>Iris-setosa</td>\n",
       "    </tr>\n",
       "    <tr>\n",
       "      <th>5</th>\n",
       "      <td>5.4</td>\n",
       "      <td>3.9</td>\n",
       "      <td>1.7</td>\n",
       "      <td>0.4</td>\n",
       "      <td>Iris-setosa</td>\n",
       "    </tr>\n",
       "    <tr>\n",
       "      <th>6</th>\n",
       "      <td>4.6</td>\n",
       "      <td>3.4</td>\n",
       "      <td>1.4</td>\n",
       "      <td>0.3</td>\n",
       "      <td>Iris-setosa</td>\n",
       "    </tr>\n",
       "    <tr>\n",
       "      <th>7</th>\n",
       "      <td>5.0</td>\n",
       "      <td>3.4</td>\n",
       "      <td>1.5</td>\n",
       "      <td>0.2</td>\n",
       "      <td>Iris-setosa</td>\n",
       "    </tr>\n",
       "    <tr>\n",
       "      <th>8</th>\n",
       "      <td>4.4</td>\n",
       "      <td>2.9</td>\n",
       "      <td>1.4</td>\n",
       "      <td>0.2</td>\n",
       "      <td>Iris-setosa</td>\n",
       "    </tr>\n",
       "    <tr>\n",
       "      <th>9</th>\n",
       "      <td>4.9</td>\n",
       "      <td>3.1</td>\n",
       "      <td>1.5</td>\n",
       "      <td>0.1</td>\n",
       "      <td>Iris-setosa</td>\n",
       "    </tr>\n",
       "    <tr>\n",
       "      <th>10</th>\n",
       "      <td>5.4</td>\n",
       "      <td>3.7</td>\n",
       "      <td>1.5</td>\n",
       "      <td>0.2</td>\n",
       "      <td>Iris-setosa</td>\n",
       "    </tr>\n",
       "    <tr>\n",
       "      <th>11</th>\n",
       "      <td>4.8</td>\n",
       "      <td>3.4</td>\n",
       "      <td>1.6</td>\n",
       "      <td>0.2</td>\n",
       "      <td>Iris-setosa</td>\n",
       "    </tr>\n",
       "    <tr>\n",
       "      <th>12</th>\n",
       "      <td>4.8</td>\n",
       "      <td>3.0</td>\n",
       "      <td>1.4</td>\n",
       "      <td>0.1</td>\n",
       "      <td>Iris-setosa</td>\n",
       "    </tr>\n",
       "    <tr>\n",
       "      <th>13</th>\n",
       "      <td>4.3</td>\n",
       "      <td>3.0</td>\n",
       "      <td>1.1</td>\n",
       "      <td>0.1</td>\n",
       "      <td>Iris-setosa</td>\n",
       "    </tr>\n",
       "    <tr>\n",
       "      <th>14</th>\n",
       "      <td>5.8</td>\n",
       "      <td>4.0</td>\n",
       "      <td>1.2</td>\n",
       "      <td>0.2</td>\n",
       "      <td>Iris-setosa</td>\n",
       "    </tr>\n",
       "    <tr>\n",
       "      <th>15</th>\n",
       "      <td>5.7</td>\n",
       "      <td>4.4</td>\n",
       "      <td>1.5</td>\n",
       "      <td>0.4</td>\n",
       "      <td>Iris-setosa</td>\n",
       "    </tr>\n",
       "    <tr>\n",
       "      <th>16</th>\n",
       "      <td>5.4</td>\n",
       "      <td>3.9</td>\n",
       "      <td>1.3</td>\n",
       "      <td>0.4</td>\n",
       "      <td>Iris-setosa</td>\n",
       "    </tr>\n",
       "    <tr>\n",
       "      <th>17</th>\n",
       "      <td>5.1</td>\n",
       "      <td>3.5</td>\n",
       "      <td>1.4</td>\n",
       "      <td>0.3</td>\n",
       "      <td>Iris-setosa</td>\n",
       "    </tr>\n",
       "    <tr>\n",
       "      <th>18</th>\n",
       "      <td>5.7</td>\n",
       "      <td>3.8</td>\n",
       "      <td>1.7</td>\n",
       "      <td>0.3</td>\n",
       "      <td>Iris-setosa</td>\n",
       "    </tr>\n",
       "    <tr>\n",
       "      <th>19</th>\n",
       "      <td>5.1</td>\n",
       "      <td>3.8</td>\n",
       "      <td>1.5</td>\n",
       "      <td>0.3</td>\n",
       "      <td>Iris-setosa</td>\n",
       "    </tr>\n",
       "    <tr>\n",
       "      <th>20</th>\n",
       "      <td>5.4</td>\n",
       "      <td>3.4</td>\n",
       "      <td>1.7</td>\n",
       "      <td>0.2</td>\n",
       "      <td>Iris-setosa</td>\n",
       "    </tr>\n",
       "    <tr>\n",
       "      <th>21</th>\n",
       "      <td>5.1</td>\n",
       "      <td>3.7</td>\n",
       "      <td>1.5</td>\n",
       "      <td>0.4</td>\n",
       "      <td>Iris-setosa</td>\n",
       "    </tr>\n",
       "    <tr>\n",
       "      <th>22</th>\n",
       "      <td>4.6</td>\n",
       "      <td>3.6</td>\n",
       "      <td>1.0</td>\n",
       "      <td>0.2</td>\n",
       "      <td>Iris-setosa</td>\n",
       "    </tr>\n",
       "    <tr>\n",
       "      <th>23</th>\n",
       "      <td>5.1</td>\n",
       "      <td>3.3</td>\n",
       "      <td>1.7</td>\n",
       "      <td>0.5</td>\n",
       "      <td>Iris-setosa</td>\n",
       "    </tr>\n",
       "    <tr>\n",
       "      <th>24</th>\n",
       "      <td>4.8</td>\n",
       "      <td>3.4</td>\n",
       "      <td>1.9</td>\n",
       "      <td>0.2</td>\n",
       "      <td>Iris-setosa</td>\n",
       "    </tr>\n",
       "    <tr>\n",
       "      <th>25</th>\n",
       "      <td>5.0</td>\n",
       "      <td>3.0</td>\n",
       "      <td>1.6</td>\n",
       "      <td>0.2</td>\n",
       "      <td>Iris-setosa</td>\n",
       "    </tr>\n",
       "    <tr>\n",
       "      <th>26</th>\n",
       "      <td>5.0</td>\n",
       "      <td>3.4</td>\n",
       "      <td>1.6</td>\n",
       "      <td>0.4</td>\n",
       "      <td>Iris-setosa</td>\n",
       "    </tr>\n",
       "    <tr>\n",
       "      <th>27</th>\n",
       "      <td>5.2</td>\n",
       "      <td>3.5</td>\n",
       "      <td>1.5</td>\n",
       "      <td>0.2</td>\n",
       "      <td>Iris-setosa</td>\n",
       "    </tr>\n",
       "    <tr>\n",
       "      <th>28</th>\n",
       "      <td>5.2</td>\n",
       "      <td>3.4</td>\n",
       "      <td>1.4</td>\n",
       "      <td>0.2</td>\n",
       "      <td>Iris-setosa</td>\n",
       "    </tr>\n",
       "    <tr>\n",
       "      <th>29</th>\n",
       "      <td>4.7</td>\n",
       "      <td>3.2</td>\n",
       "      <td>1.6</td>\n",
       "      <td>0.2</td>\n",
       "      <td>Iris-setosa</td>\n",
       "    </tr>\n",
       "    <tr>\n",
       "      <th>...</th>\n",
       "      <td>...</td>\n",
       "      <td>...</td>\n",
       "      <td>...</td>\n",
       "      <td>...</td>\n",
       "      <td>...</td>\n",
       "    </tr>\n",
       "    <tr>\n",
       "      <th>120</th>\n",
       "      <td>6.9</td>\n",
       "      <td>3.2</td>\n",
       "      <td>5.7</td>\n",
       "      <td>2.3</td>\n",
       "      <td>Iris-virginica</td>\n",
       "    </tr>\n",
       "    <tr>\n",
       "      <th>121</th>\n",
       "      <td>5.6</td>\n",
       "      <td>2.8</td>\n",
       "      <td>4.9</td>\n",
       "      <td>2.0</td>\n",
       "      <td>Iris-virginica</td>\n",
       "    </tr>\n",
       "    <tr>\n",
       "      <th>122</th>\n",
       "      <td>7.7</td>\n",
       "      <td>2.8</td>\n",
       "      <td>6.7</td>\n",
       "      <td>2.0</td>\n",
       "      <td>Iris-virginica</td>\n",
       "    </tr>\n",
       "    <tr>\n",
       "      <th>123</th>\n",
       "      <td>6.3</td>\n",
       "      <td>2.7</td>\n",
       "      <td>4.9</td>\n",
       "      <td>1.8</td>\n",
       "      <td>Iris-virginica</td>\n",
       "    </tr>\n",
       "    <tr>\n",
       "      <th>124</th>\n",
       "      <td>6.7</td>\n",
       "      <td>3.3</td>\n",
       "      <td>5.7</td>\n",
       "      <td>2.1</td>\n",
       "      <td>Iris-virginica</td>\n",
       "    </tr>\n",
       "    <tr>\n",
       "      <th>125</th>\n",
       "      <td>7.2</td>\n",
       "      <td>3.2</td>\n",
       "      <td>6.0</td>\n",
       "      <td>1.8</td>\n",
       "      <td>Iris-virginica</td>\n",
       "    </tr>\n",
       "    <tr>\n",
       "      <th>126</th>\n",
       "      <td>6.2</td>\n",
       "      <td>2.8</td>\n",
       "      <td>4.8</td>\n",
       "      <td>1.8</td>\n",
       "      <td>Iris-virginica</td>\n",
       "    </tr>\n",
       "    <tr>\n",
       "      <th>127</th>\n",
       "      <td>6.1</td>\n",
       "      <td>3.0</td>\n",
       "      <td>4.9</td>\n",
       "      <td>1.8</td>\n",
       "      <td>Iris-virginica</td>\n",
       "    </tr>\n",
       "    <tr>\n",
       "      <th>128</th>\n",
       "      <td>6.4</td>\n",
       "      <td>2.8</td>\n",
       "      <td>5.6</td>\n",
       "      <td>2.1</td>\n",
       "      <td>Iris-virginica</td>\n",
       "    </tr>\n",
       "    <tr>\n",
       "      <th>129</th>\n",
       "      <td>7.2</td>\n",
       "      <td>3.0</td>\n",
       "      <td>5.8</td>\n",
       "      <td>1.6</td>\n",
       "      <td>Iris-virginica</td>\n",
       "    </tr>\n",
       "    <tr>\n",
       "      <th>130</th>\n",
       "      <td>7.4</td>\n",
       "      <td>2.8</td>\n",
       "      <td>6.1</td>\n",
       "      <td>1.9</td>\n",
       "      <td>Iris-virginica</td>\n",
       "    </tr>\n",
       "    <tr>\n",
       "      <th>131</th>\n",
       "      <td>7.9</td>\n",
       "      <td>3.8</td>\n",
       "      <td>6.4</td>\n",
       "      <td>2.0</td>\n",
       "      <td>Iris-virginica</td>\n",
       "    </tr>\n",
       "    <tr>\n",
       "      <th>132</th>\n",
       "      <td>6.4</td>\n",
       "      <td>2.8</td>\n",
       "      <td>5.6</td>\n",
       "      <td>2.2</td>\n",
       "      <td>Iris-virginica</td>\n",
       "    </tr>\n",
       "    <tr>\n",
       "      <th>133</th>\n",
       "      <td>6.3</td>\n",
       "      <td>2.8</td>\n",
       "      <td>5.1</td>\n",
       "      <td>1.5</td>\n",
       "      <td>Iris-virginica</td>\n",
       "    </tr>\n",
       "    <tr>\n",
       "      <th>134</th>\n",
       "      <td>6.1</td>\n",
       "      <td>2.6</td>\n",
       "      <td>5.6</td>\n",
       "      <td>1.4</td>\n",
       "      <td>Iris-virginica</td>\n",
       "    </tr>\n",
       "    <tr>\n",
       "      <th>135</th>\n",
       "      <td>7.7</td>\n",
       "      <td>3.0</td>\n",
       "      <td>6.1</td>\n",
       "      <td>2.3</td>\n",
       "      <td>Iris-virginica</td>\n",
       "    </tr>\n",
       "    <tr>\n",
       "      <th>136</th>\n",
       "      <td>6.3</td>\n",
       "      <td>3.4</td>\n",
       "      <td>5.6</td>\n",
       "      <td>2.4</td>\n",
       "      <td>Iris-virginica</td>\n",
       "    </tr>\n",
       "    <tr>\n",
       "      <th>137</th>\n",
       "      <td>6.4</td>\n",
       "      <td>3.1</td>\n",
       "      <td>5.5</td>\n",
       "      <td>1.8</td>\n",
       "      <td>Iris-virginica</td>\n",
       "    </tr>\n",
       "    <tr>\n",
       "      <th>138</th>\n",
       "      <td>6.0</td>\n",
       "      <td>3.0</td>\n",
       "      <td>4.8</td>\n",
       "      <td>1.8</td>\n",
       "      <td>Iris-virginica</td>\n",
       "    </tr>\n",
       "    <tr>\n",
       "      <th>139</th>\n",
       "      <td>6.9</td>\n",
       "      <td>3.1</td>\n",
       "      <td>5.4</td>\n",
       "      <td>2.1</td>\n",
       "      <td>Iris-virginica</td>\n",
       "    </tr>\n",
       "    <tr>\n",
       "      <th>140</th>\n",
       "      <td>6.7</td>\n",
       "      <td>3.1</td>\n",
       "      <td>5.6</td>\n",
       "      <td>2.4</td>\n",
       "      <td>Iris-virginica</td>\n",
       "    </tr>\n",
       "    <tr>\n",
       "      <th>141</th>\n",
       "      <td>6.9</td>\n",
       "      <td>3.1</td>\n",
       "      <td>5.1</td>\n",
       "      <td>2.3</td>\n",
       "      <td>Iris-virginica</td>\n",
       "    </tr>\n",
       "    <tr>\n",
       "      <th>142</th>\n",
       "      <td>5.8</td>\n",
       "      <td>2.7</td>\n",
       "      <td>5.1</td>\n",
       "      <td>1.9</td>\n",
       "      <td>Iris-virginica</td>\n",
       "    </tr>\n",
       "    <tr>\n",
       "      <th>143</th>\n",
       "      <td>6.8</td>\n",
       "      <td>3.2</td>\n",
       "      <td>5.9</td>\n",
       "      <td>2.3</td>\n",
       "      <td>Iris-virginica</td>\n",
       "    </tr>\n",
       "    <tr>\n",
       "      <th>144</th>\n",
       "      <td>6.7</td>\n",
       "      <td>3.3</td>\n",
       "      <td>5.7</td>\n",
       "      <td>2.5</td>\n",
       "      <td>Iris-virginica</td>\n",
       "    </tr>\n",
       "    <tr>\n",
       "      <th>145</th>\n",
       "      <td>6.7</td>\n",
       "      <td>3.0</td>\n",
       "      <td>5.2</td>\n",
       "      <td>2.3</td>\n",
       "      <td>Iris-virginica</td>\n",
       "    </tr>\n",
       "    <tr>\n",
       "      <th>146</th>\n",
       "      <td>6.3</td>\n",
       "      <td>2.5</td>\n",
       "      <td>5.0</td>\n",
       "      <td>1.9</td>\n",
       "      <td>Iris-virginica</td>\n",
       "    </tr>\n",
       "    <tr>\n",
       "      <th>147</th>\n",
       "      <td>6.5</td>\n",
       "      <td>3.0</td>\n",
       "      <td>5.2</td>\n",
       "      <td>2.0</td>\n",
       "      <td>Iris-virginica</td>\n",
       "    </tr>\n",
       "    <tr>\n",
       "      <th>148</th>\n",
       "      <td>6.2</td>\n",
       "      <td>3.4</td>\n",
       "      <td>5.4</td>\n",
       "      <td>2.3</td>\n",
       "      <td>Iris-virginica</td>\n",
       "    </tr>\n",
       "    <tr>\n",
       "      <th>149</th>\n",
       "      <td>5.9</td>\n",
       "      <td>3.0</td>\n",
       "      <td>5.1</td>\n",
       "      <td>1.8</td>\n",
       "      <td>Iris-virginica</td>\n",
       "    </tr>\n",
       "  </tbody>\n",
       "</table>\n",
       "<p>150 rows × 5 columns</p>\n",
       "</div>"
      ],
      "text/plain": [
       "     sepal_length  sepal_width  petal_length  petal_width           class\n",
       "0             5.1          3.5           1.4          0.2     Iris-setosa\n",
       "1             4.9          3.0           1.4          0.2     Iris-setosa\n",
       "2             4.7          3.2           1.3          0.2     Iris-setosa\n",
       "3             4.6          3.1           1.5          0.2     Iris-setosa\n",
       "4             5.0          3.6           1.4          0.2     Iris-setosa\n",
       "5             5.4          3.9           1.7          0.4     Iris-setosa\n",
       "6             4.6          3.4           1.4          0.3     Iris-setosa\n",
       "7             5.0          3.4           1.5          0.2     Iris-setosa\n",
       "8             4.4          2.9           1.4          0.2     Iris-setosa\n",
       "9             4.9          3.1           1.5          0.1     Iris-setosa\n",
       "10            5.4          3.7           1.5          0.2     Iris-setosa\n",
       "11            4.8          3.4           1.6          0.2     Iris-setosa\n",
       "12            4.8          3.0           1.4          0.1     Iris-setosa\n",
       "13            4.3          3.0           1.1          0.1     Iris-setosa\n",
       "14            5.8          4.0           1.2          0.2     Iris-setosa\n",
       "15            5.7          4.4           1.5          0.4     Iris-setosa\n",
       "16            5.4          3.9           1.3          0.4     Iris-setosa\n",
       "17            5.1          3.5           1.4          0.3     Iris-setosa\n",
       "18            5.7          3.8           1.7          0.3     Iris-setosa\n",
       "19            5.1          3.8           1.5          0.3     Iris-setosa\n",
       "20            5.4          3.4           1.7          0.2     Iris-setosa\n",
       "21            5.1          3.7           1.5          0.4     Iris-setosa\n",
       "22            4.6          3.6           1.0          0.2     Iris-setosa\n",
       "23            5.1          3.3           1.7          0.5     Iris-setosa\n",
       "24            4.8          3.4           1.9          0.2     Iris-setosa\n",
       "25            5.0          3.0           1.6          0.2     Iris-setosa\n",
       "26            5.0          3.4           1.6          0.4     Iris-setosa\n",
       "27            5.2          3.5           1.5          0.2     Iris-setosa\n",
       "28            5.2          3.4           1.4          0.2     Iris-setosa\n",
       "29            4.7          3.2           1.6          0.2     Iris-setosa\n",
       "..            ...          ...           ...          ...             ...\n",
       "120           6.9          3.2           5.7          2.3  Iris-virginica\n",
       "121           5.6          2.8           4.9          2.0  Iris-virginica\n",
       "122           7.7          2.8           6.7          2.0  Iris-virginica\n",
       "123           6.3          2.7           4.9          1.8  Iris-virginica\n",
       "124           6.7          3.3           5.7          2.1  Iris-virginica\n",
       "125           7.2          3.2           6.0          1.8  Iris-virginica\n",
       "126           6.2          2.8           4.8          1.8  Iris-virginica\n",
       "127           6.1          3.0           4.9          1.8  Iris-virginica\n",
       "128           6.4          2.8           5.6          2.1  Iris-virginica\n",
       "129           7.2          3.0           5.8          1.6  Iris-virginica\n",
       "130           7.4          2.8           6.1          1.9  Iris-virginica\n",
       "131           7.9          3.8           6.4          2.0  Iris-virginica\n",
       "132           6.4          2.8           5.6          2.2  Iris-virginica\n",
       "133           6.3          2.8           5.1          1.5  Iris-virginica\n",
       "134           6.1          2.6           5.6          1.4  Iris-virginica\n",
       "135           7.7          3.0           6.1          2.3  Iris-virginica\n",
       "136           6.3          3.4           5.6          2.4  Iris-virginica\n",
       "137           6.4          3.1           5.5          1.8  Iris-virginica\n",
       "138           6.0          3.0           4.8          1.8  Iris-virginica\n",
       "139           6.9          3.1           5.4          2.1  Iris-virginica\n",
       "140           6.7          3.1           5.6          2.4  Iris-virginica\n",
       "141           6.9          3.1           5.1          2.3  Iris-virginica\n",
       "142           5.8          2.7           5.1          1.9  Iris-virginica\n",
       "143           6.8          3.2           5.9          2.3  Iris-virginica\n",
       "144           6.7          3.3           5.7          2.5  Iris-virginica\n",
       "145           6.7          3.0           5.2          2.3  Iris-virginica\n",
       "146           6.3          2.5           5.0          1.9  Iris-virginica\n",
       "147           6.5          3.0           5.2          2.0  Iris-virginica\n",
       "148           6.2          3.4           5.4          2.3  Iris-virginica\n",
       "149           5.9          3.0           5.1          1.8  Iris-virginica\n",
       "\n",
       "[150 rows x 5 columns]"
      ]
     },
     "execution_count": 4,
     "metadata": {},
     "output_type": "execute_result"
    }
   ],
   "source": [
    "iris.tables.bezdek_iris()"
   ]
  },
  {
   "cell_type": "code",
   "execution_count": 5,
   "metadata": {},
   "outputs": [],
   "source": [
    "flowers = iris.tables.bezdek_iris()"
   ]
  },
  {
   "cell_type": "code",
   "execution_count": 6,
   "metadata": {},
   "outputs": [],
   "source": [
    "flowers.rename(columns={'class':'species'}, inplace=True)"
   ]
  },
  {
   "cell_type": "code",
   "execution_count": 7,
   "metadata": {},
   "outputs": [
    {
     "data": {
      "text/plain": [
       "sepal_length                                                876.5\n",
       "sepal_width                                                 458.6\n",
       "petal_length                                                563.7\n",
       "petal_width                                                 179.9\n",
       "species         Iris-setosaIris-setosaIris-setosaIris-setosaIr...\n",
       "dtype: object"
      ]
     },
     "execution_count": 7,
     "metadata": {},
     "output_type": "execute_result"
    }
   ],
   "source": [
    "flowers.sum()"
   ]
  },
  {
   "cell_type": "code",
   "execution_count": 8,
   "metadata": {},
   "outputs": [],
   "source": [
    "import matplotlib.pyplot as plt"
   ]
  },
  {
   "cell_type": "code",
   "execution_count": 9,
   "metadata": {},
   "outputs": [
    {
     "data": {
      "text/plain": [
       "<matplotlib.axes._subplots.AxesSubplot at 0x1145d8160>"
      ]
     },
     "execution_count": 9,
     "metadata": {},
     "output_type": "execute_result"
    },
    {
     "data": {
      "image/png": "[encoded data removed]",
      "text/plain": [
       "<matplotlib.figure.Figure at 0x114535a90>"
      ]
     },
     "metadata": {},
     "output_type": "display_data"
    }
   ],
   "source": [
    "flowers.plot()"
   ]
  },
  {
   "cell_type": "code",
   "execution_count": 10,
   "metadata": {},
   "outputs": [
    {
     "data": {
      "text/plain": [
       "<matplotlib.axes._subplots.AxesSubplot at 0x11467ad30>"
      ]
     },
     "execution_count": 10,
     "metadata": {},
     "output_type": "execute_result"
    },
    {
     "data": {
      "image/png": "[encoded data removed]",
      "text/plain": [
       "<matplotlib.figure.Figure at 0x1145fa0f0>"
      ]
     },
     "metadata": {},
     "output_type": "display_data"
    }
   ],
   "source": [
    "flowers.plot.scatter(x='petal_length', y='sepal_length')"
   ]
  },
  {
   "cell_type": "code",
   "execution_count": 11,
   "metadata": {},
   "outputs": [],
   "source": [
    "flowers.plot.scatter?"
   ]
  },
  {
   "cell_type": "code",
   "execution_count": 12,
   "metadata": {},
   "outputs": [
    {
     "data": {
      "text/plain": [
       "array(['Iris-setosa', 'Iris-versicolor', 'Iris-virginica'], dtype=object)"
      ]
     },
     "execution_count": 12,
     "metadata": {},
     "output_type": "execute_result"
    }
   ],
   "source": [
    "flowers.species.unique()"
   ]
  },
  {
   "cell_type": "code",
   "execution_count": 13,
   "metadata": {},
   "outputs": [],
   "source": [
    "species = sorted(flowers.species.unique())"
   ]
  },
  {
   "cell_type": "code",
   "execution_count": 14,
   "metadata": {},
   "outputs": [
    {
     "data": {
      "text/plain": [
       "['Iris-setosa', 'Iris-versicolor', 'Iris-virginica']"
      ]
     },
     "execution_count": 14,
     "metadata": {},
     "output_type": "execute_result"
    }
   ],
   "source": [
    "species"
   ]
  },
  {
   "cell_type": "code",
   "execution_count": 15,
   "metadata": {},
   "outputs": [],
   "source": [
    "colormap = dict(zip(species, ['blue', 'pink', 'green']))"
   ]
  },
  {
   "cell_type": "code",
   "execution_count": 16,
   "metadata": {},
   "outputs": [
    {
     "data": {
      "text/plain": [
       "{'Iris-setosa': 'blue', 'Iris-versicolor': 'pink', 'Iris-virginica': 'green'}"
      ]
     },
     "execution_count": 16,
     "metadata": {},
     "output_type": "execute_result"
    }
   ],
   "source": [
    "colormap"
   ]
  },
  {
   "cell_type": "code",
   "execution_count": 17,
   "metadata": {},
   "outputs": [
    {
     "name": "stderr",
     "output_type": "stream",
     "text": [
      "/Volumes/exlinux/Users/catherine/org/ddl/dayton-dynamic.github.com/meeting_notes/quilt/.direnv/python-3.6.4/lib/python3.6/site-packages/ipykernel_launcher.py:1: UserWarning: Pandas doesn't allow columns to be created via a new attribute name - see https://pandas.pydata.org/pandas-docs/stable/indexing.html#attribute-access\n",
      "  \"\"\"Entry point for launching an IPython kernel.\n"
     ]
    }
   ],
   "source": [
    "flowers.dotcolor = flowers.species.map(colormap)"
   ]
  },
  {
   "cell_type": "code",
   "execution_count": 18,
   "metadata": {},
   "outputs": [
    {
     "data": {
      "text/plain": [
       "<matplotlib.axes._subplots.AxesSubplot at 0x11472c0f0>"
      ]
     },
     "execution_count": 18,
     "metadata": {},
     "output_type": "execute_result"
    },
    {
     "data": {
      "image/png": "[encoded data removed]",
      "text/plain": [
       "<matplotlib.figure.Figure at 0x11471c9b0>"
      ]
     },
     "metadata": {},
     "output_type": "display_data"
    }
   ],
   "source": [
    "flowers.plot.scatter(x='petal_length', y='sepal_length', c=flowers.dotcolor)"
   ]
  },
  {
   "cell_type": "markdown",
   "metadata": {},
   "source": [
    "## [pdvega](https://jakevdp.github.io/pdvega/)"
   ]
  },
  {
   "cell_type": "code",
   "execution_count": null,
   "metadata": {},
   "outputs": [],
   "source": [
    "!pip install pdvega"
   ]
  },
  {
   "cell_type": "code",
   "execution_count": 19,
   "metadata": {},
   "outputs": [
    {
     "data": {
      "text/html": [
       "<div class=\"vega-embed\" id=\"a61c7b5b-91f1-455a-8e8a-85502d975df1\"></div>\n",
       "\n",
       "<style>\n",
       ".vega-embed svg, .vega-embed canvas {\n",
       "  border: 1px dotted gray;\n",
       "}\n",
       "\n",
       ".vega-embed .vega-actions a {\n",
       "  margin-right: 6px;\n",
       "}\n",
       "</style>\n"
      ]
     },
     "metadata": {
      "jupyter-vega3": "#a61c7b5b-91f1-455a-8e8a-85502d975df1"
     },
     "output_type": "display_data"
    },
    {
     "data": {
      "application/javascript": [
       "var spec = {\"mark\": \"circle\", \"encoding\": {\"x\": {\"field\": \"petal_length\", \"type\": \"quantitative\"}, \"y\": {\"field\": \"sepal_length\", \"type\": \"quantitative\"}}, \"$schema\": \"https://vega.github.io/schema/vega-lite/v2.json\", \"width\": 450, \"height\": 300, \"selection\": {\"grid\": {\"type\": \"interval\", \"bind\": \"scales\"}}, \"data\": {\"values\": [{\"petal_length\": 1.4, \"sepal_length\": 5.1}, {\"petal_length\": 1.4, \"sepal_length\": 4.9}, {\"petal_length\": 1.3, \"sepal_length\": 4.7}, {\"petal_length\": 1.5, \"sepal_length\": 4.6}, {\"petal_length\": 1.4, \"sepal_length\": 5.0}, {\"petal_length\": 1.7, \"sepal_length\": 5.4}, {\"petal_length\": 1.4, \"sepal_length\": 4.6}, {\"petal_length\": 1.5, \"sepal_length\": 5.0}, {\"petal_length\": 1.4, \"sepal_length\": 4.4}, {\"petal_length\": 1.5, \"sepal_length\": 4.9}, {\"petal_length\": 1.5, \"sepal_length\": 5.4}, {\"petal_length\": 1.6, \"sepal_length\": 4.8}, {\"petal_length\": 1.4, \"sepal_length\": 4.8}, {\"petal_length\": 1.1, \"sepal_length\": 4.3}, {\"petal_length\": 1.2, \"sepal_length\": 5.8}, {\"petal_length\": 1.5, \"sepal_length\": 5.7}, {\"petal_length\": 1.3, \"sepal_length\": 5.4}, {\"petal_length\": 1.4, \"sepal_length\": 5.1}, {\"petal_length\": 1.7, \"sepal_length\": 5.7}, {\"petal_length\": 1.5, \"sepal_length\": 5.1}, {\"petal_length\": 1.7, \"sepal_length\": 5.4}, {\"petal_length\": 1.5, \"sepal_length\": 5.1}, {\"petal_length\": 1.0, \"sepal_length\": 4.6}, {\"petal_length\": 1.7, \"sepal_length\": 5.1}, {\"petal_length\": 1.9, \"sepal_length\": 4.8}, {\"petal_length\": 1.6, \"sepal_length\": 5.0}, {\"petal_length\": 1.6, \"sepal_length\": 5.0}, {\"petal_length\": 1.5, \"sepal_length\": 5.2}, {\"petal_length\": 1.4, \"sepal_length\": 5.2}, {\"petal_length\": 1.6, \"sepal_length\": 4.7}, {\"petal_length\": 1.6, \"sepal_length\": 4.8}, {\"petal_length\": 1.5, \"sepal_length\": 5.4}, {\"petal_length\": 1.5, \"sepal_length\": 5.2}, {\"petal_length\": 1.4, \"sepal_length\": 5.5}, {\"petal_length\": 1.5, \"sepal_length\": 4.9}, {\"petal_length\": 1.2, \"sepal_length\": 5.0}, {\"petal_length\": 1.3, \"sepal_length\": 5.5}, {\"petal_length\": 1.4, \"sepal_length\": 4.9}, {\"petal_length\": 1.3, \"sepal_length\": 4.4}, {\"petal_length\": 1.5, \"sepal_length\": 5.1}, {\"petal_length\": 1.3, \"sepal_length\": 5.0}, {\"petal_length\": 1.3, \"sepal_length\": 4.5}, {\"petal_length\": 1.3, \"sepal_length\": 4.4}, {\"petal_length\": 1.6, \"sepal_length\": 5.0}, {\"petal_length\": 1.9, \"sepal_length\": 5.1}, {\"petal_length\": 1.4, \"sepal_length\": 4.8}, {\"petal_length\": 1.6, \"sepal_length\": 5.1}, {\"petal_length\": 1.4, \"sepal_length\": 4.6}, {\"petal_length\": 1.5, \"sepal_length\": 5.3}, {\"petal_length\": 1.4, \"sepal_length\": 5.0}, {\"petal_length\": 4.7, \"sepal_length\": 7.0}, {\"petal_length\": 4.5, \"sepal_length\": 6.4}, {\"petal_length\": 4.9, \"sepal_length\": 6.9}, {\"petal_length\": 4.0, \"sepal_length\": 5.5}, {\"petal_length\": 4.6, \"sepal_length\": 6.5}, {\"petal_length\": 4.5, \"sepal_length\": 5.7}, {\"petal_length\": 4.7, \"sepal_length\": 6.3}, {\"petal_length\": 3.3, \"sepal_length\": 4.9}, {\"petal_length\": 4.6, \"sepal_length\": 6.6}, {\"petal_length\": 3.9, \"sepal_length\": 5.2}, {\"petal_length\": 3.5, \"sepal_length\": 5.0}, {\"petal_length\": 4.2, \"sepal_length\": 5.9}, {\"petal_length\": 4.0, \"sepal_length\": 6.0}, {\"petal_length\": 4.7, \"sepal_length\": 6.1}, {\"petal_length\": 3.6, \"sepal_length\": 5.6}, {\"petal_length\": 4.4, \"sepal_length\": 6.7}, {\"petal_length\": 4.5, \"sepal_length\": 5.6}, {\"petal_length\": 4.1, \"sepal_length\": 5.8}, {\"petal_length\": 4.5, \"sepal_length\": 6.2}, {\"petal_length\": 3.9, \"sepal_length\": 5.6}, {\"petal_length\": 4.8, \"sepal_length\": 5.9}, {\"petal_length\": 4.0, \"sepal_length\": 6.1}, {\"petal_length\": 4.9, \"sepal_length\": 6.3}, {\"petal_length\": 4.7, \"sepal_length\": 6.1}, {\"petal_length\": 4.3, \"sepal_length\": 6.4}, {\"petal_length\": 4.4, \"sepal_length\": 6.6}, {\"petal_length\": 4.8, \"sepal_length\": 6.8}, {\"petal_length\": 5.0, \"sepal_length\": 6.7}, {\"petal_length\": 4.5, \"sepal_length\": 6.0}, {\"petal_length\": 3.5, \"sepal_length\": 5.7}, {\"petal_length\": 3.8, \"sepal_length\": 5.5}, {\"petal_length\": 3.7, \"sepal_length\": 5.5}, {\"petal_length\": 3.9, \"sepal_length\": 5.8}, {\"petal_length\": 5.1, \"sepal_length\": 6.0}, {\"petal_length\": 4.5, \"sepal_length\": 5.4}, {\"petal_length\": 4.5, \"sepal_length\": 6.0}, {\"petal_length\": 4.7, \"sepal_length\": 6.7}, {\"petal_length\": 4.4, \"sepal_length\": 6.3}, {\"petal_length\": 4.1, \"sepal_length\": 5.6}, {\"petal_length\": 4.0, \"sepal_length\": 5.5}, {\"petal_length\": 4.4, \"sepal_length\": 5.5}, {\"petal_length\": 4.6, \"sepal_length\": 6.1}, {\"petal_length\": 4.0, \"sepal_length\": 5.8}, {\"petal_length\": 3.3, \"sepal_length\": 5.0}, {\"petal_length\": 4.2, \"sepal_length\": 5.6}, {\"petal_length\": 4.2, \"sepal_length\": 5.7}, {\"petal_length\": 4.2, \"sepal_length\": 5.7}, {\"petal_length\": 4.3, \"sepal_length\": 6.2}, {\"petal_length\": 3.0, \"sepal_length\": 5.1}, {\"petal_length\": 4.1, \"sepal_length\": 5.7}, {\"petal_length\": 6.0, \"sepal_length\": 6.3}, {\"petal_length\": 5.1, \"sepal_length\": 5.8}, {\"petal_length\": 5.9, \"sepal_length\": 7.1}, {\"petal_length\": 5.6, \"sepal_length\": 6.3}, {\"petal_length\": 5.8, \"sepal_length\": 6.5}, {\"petal_length\": 6.6, \"sepal_length\": 7.6}, {\"petal_length\": 4.5, \"sepal_length\": 4.9}, {\"petal_length\": 6.3, \"sepal_length\": 7.3}, {\"petal_length\": 5.8, \"sepal_length\": 6.7}, {\"petal_length\": 6.1, \"sepal_length\": 7.2}, {\"petal_length\": 5.1, \"sepal_length\": 6.5}, {\"petal_length\": 5.3, \"sepal_length\": 6.4}, {\"petal_length\": 5.5, \"sepal_length\": 6.8}, {\"petal_length\": 5.0, \"sepal_length\": 5.7}, {\"petal_length\": 5.1, \"sepal_length\": 5.8}, {\"petal_length\": 5.3, \"sepal_length\": 6.4}, {\"petal_length\": 5.5, \"sepal_length\": 6.5}, {\"petal_length\": 6.7, \"sepal_length\": 7.7}, {\"petal_length\": 6.9, \"sepal_length\": 7.7}, {\"petal_length\": 5.0, \"sepal_length\": 6.0}, {\"petal_length\": 5.7, \"sepal_length\": 6.9}, {\"petal_length\": 4.9, \"sepal_length\": 5.6}, {\"petal_length\": 6.7, \"sepal_length\": 7.7}, {\"petal_length\": 4.9, \"sepal_length\": 6.3}, {\"petal_length\": 5.7, \"sepal_length\": 6.7}, {\"petal_length\": 6.0, \"sepal_length\": 7.2}, {\"petal_length\": 4.8, \"sepal_length\": 6.2}, {\"petal_length\": 4.9, \"sepal_length\": 6.1}, {\"petal_length\": 5.6, \"sepal_length\": 6.4}, {\"petal_length\": 5.8, \"sepal_length\": 7.2}, {\"petal_length\": 6.1, \"sepal_length\": 7.4}, {\"petal_length\": 6.4, \"sepal_length\": 7.9}, {\"petal_length\": 5.6, \"sepal_length\": 6.4}, {\"petal_length\": 5.1, \"sepal_length\": 6.3}, {\"petal_length\": 5.6, \"sepal_length\": 6.1}, {\"petal_length\": 6.1, \"sepal_length\": 7.7}, {\"petal_length\": 5.6, \"sepal_length\": 6.3}, {\"petal_length\": 5.5, \"sepal_length\": 6.4}, {\"petal_length\": 4.8, \"sepal_length\": 6.0}, {\"petal_length\": 5.4, \"sepal_length\": 6.9}, {\"petal_length\": 5.6, \"sepal_length\": 6.7}, {\"petal_length\": 5.1, \"sepal_length\": 6.9}, {\"petal_length\": 5.1, \"sepal_length\": 5.8}, {\"petal_length\": 5.9, \"sepal_length\": 6.8}, {\"petal_length\": 5.7, \"sepal_length\": 6.7}, {\"petal_length\": 5.2, \"sepal_length\": 6.7}, {\"petal_length\": 5.0, \"sepal_length\": 6.3}, {\"petal_length\": 5.2, \"sepal_length\": 6.5}, {\"petal_length\": 5.4, \"sepal_length\": 6.2}, {\"petal_length\": 5.1, \"sepal_length\": 5.9}]}};\n",
       "var selector = \"#a61c7b5b-91f1-455a-8e8a-85502d975df1\";\n",
       "var type = \"vega-lite\";\n",
       "\n",
       "var output_area = this;\n",
       "require(['nbextensions/jupyter-vega3/index'], function(vega) {\n",
       "  vega.render(selector, spec, type, output_area);\n",
       "}, function (err) {\n",
       "  if (err.requireType !== 'scripterror') {\n",
       "    throw(err);\n",
       "  }\n",
       "});\n"
      ]
     },
     "metadata": {
      "jupyter-vega3": "#a61c7b5b-91f1-455a-8e8a-85502d975df1"
     },
     "output_type": "display_data"
    },
    {
     "data": {
      "image/png": "[encoded data removed]"
     },
     "metadata": {
      "jupyter-vega3": "#a61c7b5b-91f1-455a-8e8a-85502d975df1"
     },
     "output_type": "display_data"
    }
   ],
   "source": [
    "import pdvega\n",
    "flowers = iris.tables.bezdek_iris()\n",
    "flowers.vgplot.scatter(x='petal_length', y='sepal_length')"
   ]
  },
  {
   "cell_type": "code",
   "execution_count": 20,
   "metadata": {},
   "outputs": [],
   "source": [
    "flowers.vgplot.scatter?"
   ]
  },
  {
   "cell_type": "markdown",
   "metadata": {},
   "source": [
    "## Bokeh"
   ]
  },
  {
   "cell_type": "code",
   "execution_count": null,
   "metadata": {},
   "outputs": [],
   "source": [
    "!pip install bokeh"
   ]
  },
  {
   "cell_type": "code",
   "execution_count": 21,
   "metadata": {},
   "outputs": [],
   "source": [
    "from bokeh.plotting import figure, show\n",
    "from bokeh.io import output_notebook"
   ]
  },
  {
   "cell_type": "code",
   "execution_count": 22,
   "metadata": {},
   "outputs": [
    {
     "data": {
      "text/html": [
       "\n",
       "    <div class=\"bk-root\">\n",
       "        <a href=\"https://bokeh.pydata.org\" target=\"_blank\" class=\"bk-logo bk-logo-small bk-logo-notebook\"></a>\n",
       "        <span id=\"ee74321b-7565-4132-8c10-deb4f01c28d7\">Loading BokehJS ...</span>\n",
       "    </div>"
      ]
     },
     "metadata": {},
     "output_type": "display_data"
    },
    {
     "data": {
      "application/javascript": [
       "\n",
       "(function(root) {\n",
       "  function now() {\n",
       "    return new Date();\n",
       "  }\n",
       "\n",
       "  var force = true;\n",
       "\n",
       "  if (typeof (root._bokeh_onload_callbacks) === \"undefined\" || force === true) {\n",
       "    root._bokeh_onload_callbacks = [];\n",
       "    root._bokeh_is_loading = undefined;\n",
       "  }\n",
       "\n",
       "  var JS_MIME_TYPE = 'application/javascript';\n",
       "  var HTML_MIME_TYPE = 'text/html';\n",
       "  var EXEC_MIME_TYPE = 'application/vnd.bokehjs_exec.v0+json';\n",
       "  var CLASS_NAME = 'output_bokeh rendered_html';\n",
       "\n",
       "  /**\n",
       "   * Render data to the DOM node\n",
       "   */\n",
       "  function render(props, node) {\n",
       "    var script = document.createElement(\"script\");\n",
       "    node.appendChild(script);\n",
       "  }\n",
       "\n",
       "  /**\n",
       "   * Handle when an output is cleared or removed\n",
       "   */\n",
       "  function handleClearOutput(event, handle) {\n",
       "    var cell = handle.cell;\n",
       "\n",
       "    var id = cell.output_area._bokeh_element_id;\n",
       "    var server_id = cell.output_area._bokeh_server_id;\n",
       "    // Clean up Bokeh references\n",
       "    if (id !== undefined) {\n",
       "      Bokeh.index[id].model.document.clear();\n",
       "      delete Bokeh.index[id];\n",
       "    }\n",
       "\n",
       "    if (server_id !== undefined) {\n",
       "      // Clean up Bokeh references\n",
       "      var cmd = \"from bokeh.io.state import curstate; print(curstate().uuid_to_server['\" + server_id + \"'].get_sessions()[0].document.roots[0]._id)\";\n",
       "      cell.notebook.kernel.execute(cmd, {\n",
       "        iopub: {\n",
       "          output: function(msg) {\n",
       "            var element_id = msg.content.text.trim();\n",
       "            Bokeh.index[element_id].model.document.clear();\n",
       "            delete Bokeh.index[element_id];\n",
       "          }\n",
       "        }\n",
       "      });\n",
       "      // Destroy server and session\n",
       "      var cmd = \"import bokeh.io.notebook as ion; ion.destroy_server('\" + server_id + \"')\";\n",
       "      cell.notebook.kernel.execute(cmd);\n",
       "    }\n",
       "  }\n",
       "\n",
       "  /**\n",
       "   * Handle when a new output is added\n",
       "   */\n",
       "  function handleAddOutput(event, handle) {\n",
       "    var output_area = handle.output_area;\n",
       "    var output = handle.output;\n",
       "\n",
       "    // limit handleAddOutput to display_data with EXEC_MIME_TYPE content only\n",
       "    if ((output.output_type != \"display_data\") || (!output.data.hasOwnProperty(EXEC_MIME_TYPE))) {\n",
       "      return\n",
       "    }\n",
       "\n",
       "    var toinsert = output_area.element.find(\".\" + CLASS_NAME.split(' ')[0]);\n",
       "\n",
       "    if (output.metadata[EXEC_MIME_TYPE][\"id\"] !== undefined) {\n",
       "      toinsert[0].firstChild.textContent = output.data[JS_MIME_TYPE];\n",
       "      // store reference to embed id on output_area\n",
       "      output_area._bokeh_element_id = output.metadata[EXEC_MIME_TYPE][\"id\"];\n",
       "    }\n",
       "    if (output.metadata[EXEC_MIME_TYPE][\"server_id\"] !== undefined) {\n",
       "      var bk_div = document.createElement(\"div\");\n",
       "      bk_div.innerHTML = output.data[HTML_MIME_TYPE];\n",
       "      var script_attrs = bk_div.children[0].attributes;\n",
       "      for (var i = 0; i < script_attrs.length; i++) {\n",
       "        toinsert[0].firstChild.setAttribute(script_attrs[i].name, script_attrs[i].value);\n",
       "      }\n",
       "      // store reference to server id on output_area\n",
       "      output_area._bokeh_server_id = output.metadata[EXEC_MIME_TYPE][\"server_id\"];\n",
       "    }\n",
       "  }\n",
       "\n",
       "  function register_renderer(events, OutputArea) {\n",
       "\n",
       "    function append_mime(data, metadata, element) {\n",
       "      // create a DOM node to render to\n",
       "      var toinsert = this.create_output_subarea(\n",
       "        metadata,\n",
       "        CLASS_NAME,\n",
       "        EXEC_MIME_TYPE\n",
       "      );\n",
       "      this.keyboard_manager.register_events(toinsert);\n",
       "      // Render to node\n",
       "      var props = {data: data, metadata: metadata[EXEC_MIME_TYPE]};\n",
       "      render(props, toinsert[0]);\n",
       "      element.append(toinsert);\n",
       "      return toinsert\n",
       "    }\n",
       "\n",
       "    /* Handle when an output is cleared or removed */\n",
       "    events.on('clear_output.CodeCell', handleClearOutput);\n",
       "    events.on('delete.Cell', handleClearOutput);\n",
       "\n",
       "    /* Handle when a new output is added */\n",
       "    events.on('output_added.OutputArea', handleAddOutput);\n",
       "\n",
       "    /**\n",
       "     * Register the mime type and append_mime function with output_area\n",
       "     */\n",
       "    OutputArea.prototype.register_mime_type(EXEC_MIME_TYPE, append_mime, {\n",
       "      /* Is output safe? */\n",
       "      safe: true,\n",
       "      /* Index of renderer in `output_area.display_order` */\n",
       "      index: 0\n",
       "    });\n",
       "  }\n",
       "\n",
       "  // register the mime type if in Jupyter Notebook environment and previously unregistered\n",
       "  if (root.Jupyter !== undefined) {\n",
       "    var events = require('base/js/events');\n",
       "    var OutputArea = require('notebook/js/outputarea').OutputArea;\n",
       "\n",
       "    if (OutputArea.prototype.mime_types().indexOf(EXEC_MIME_TYPE) == -1) {\n",
       "      register_renderer(events, OutputArea);\n",
       "    }\n",
       "  }\n",
       "\n",
       "  \n",
       "  if (typeof (root._bokeh_timeout) === \"undefined\" || force === true) {\n",
       "    root._bokeh_timeout = Date.now() + 5000;\n",
       "    root._bokeh_failed_load = false;\n",
       "  }\n",
       "\n",
       "  var NB_LOAD_WARNING = {'data': {'text/html':\n",
       "     \"<div style='background-color: #fdd'>\\n\"+\n",
       "     \"<p>\\n\"+\n",
       "     \"BokehJS does not appear to have successfully loaded. If loading BokehJS from CDN, this \\n\"+\n",
       "     \"may be due to a slow or bad network connection. Possible fixes:\\n\"+\n",
       "     \"</p>\\n\"+\n",
       "     \"<ul>\\n\"+\n",
       "     \"<li>re-rerun `output_notebook()` to attempt to load from CDN again, or</li>\\n\"+\n",
       "     \"<li>use INLINE resources instead, as so:</li>\\n\"+\n",
       "     \"</ul>\\n\"+\n",
       "     \"<code>\\n\"+\n",
       "     \"from bokeh.resources import INLINE\\n\"+\n",
       "     \"output_notebook(resources=INLINE)\\n\"+\n",
       "     \"</code>\\n\"+\n",
       "     \"</div>\"}};\n",
       "\n",
       "  function display_loaded() {\n",
       "    var el = document.getElementById(\"ee74321b-7565-4132-8c10-deb4f01c28d7\");\n",
       "    if (el != null) {\n",
       "      el.textContent = \"BokehJS is loading...\";\n",
       "    }\n",
       "    if (root.Bokeh !== undefined) {\n",
       "      if (el != null) {\n",
       "        el.textContent = \"BokehJS \" + root.Bokeh.version + \" successfully loaded.\";\n",
       "      }\n",
       "    } else if (Date.now() < root._bokeh_timeout) {\n",
       "      setTimeout(display_loaded, 100)\n",
       "    }\n",
       "  }\n",
       "\n",
       "\n",
       "  function run_callbacks() {\n",
       "    try {\n",
       "      root._bokeh_onload_callbacks.forEach(function(callback) { callback() });\n",
       "    }\n",
       "    finally {\n",
       "      delete root._bokeh_onload_callbacks\n",
       "    }\n",
       "    console.info(\"Bokeh: all callbacks have finished\");\n",
       "  }\n",
       "\n",
       "  function load_libs(js_urls, callback) {\n",
       "    root._bokeh_onload_callbacks.push(callback);\n",
       "    if (root._bokeh_is_loading > 0) {\n",
       "      console.log(\"Bokeh: BokehJS is being loaded, scheduling callback at\", now());\n",
       "      return null;\n",
       "    }\n",
       "    if (js_urls == null || js_urls.length === 0) {\n",
       "      run_callbacks();\n",
       "      return null;\n",
       "    }\n",
       "    console.log(\"Bokeh: BokehJS not loaded, scheduling load and callback at\", now());\n",
       "    root._bokeh_is_loading = js_urls.length;\n",
       "    for (var i = 0; i < js_urls.length; i++) {\n",
       "      var url = js_urls[i];\n",
       "      var s = document.createElement('script');\n",
       "      s.src = url;\n",
       "      s.async = false;\n",
       "      s.onreadystatechange = s.onload = function() {\n",
       "        root._bokeh_is_loading--;\n",
       "        if (root._bokeh_is_loading === 0) {\n",
       "          console.log(\"Bokeh: all BokehJS libraries loaded\");\n",
       "          run_callbacks()\n",
       "        }\n",
       "      };\n",
       "      s.onerror = function() {\n",
       "        console.warn(\"failed to load library \" + url);\n",
       "      };\n",
       "      console.log(\"Bokeh: injecting script tag for BokehJS library: \", url);\n",
       "      document.getElementsByTagName(\"head\")[0].appendChild(s);\n",
       "    }\n",
       "  };var element = document.getElementById(\"ee74321b-7565-4132-8c10-deb4f01c28d7\");\n",
       "  if (element == null) {\n",
       "    console.log(\"Bokeh: ERROR: autoload.js configured with elementid 'ee74321b-7565-4132-8c10-deb4f01c28d7' but no matching script tag was found. \")\n",
       "    return false;\n",
       "  }\n",
       "\n",
       "  var js_urls = [\"https://cdn.pydata.org/bokeh/release/bokeh-0.12.14.min.js\", \"https://cdn.pydata.org/bokeh/release/bokeh-widgets-0.12.14.min.js\", \"https://cdn.pydata.org/bokeh/release/bokeh-tables-0.12.14.min.js\", \"https://cdn.pydata.org/bokeh/release/bokeh-gl-0.12.14.min.js\"];\n",
       "\n",
       "  var inline_js = [\n",
       "    function(Bokeh) {\n",
       "      Bokeh.set_log_level(\"info\");\n",
       "    },\n",
       "    \n",
       "    function(Bokeh) {\n",
       "      \n",
       "    },\n",
       "    function(Bokeh) {\n",
       "      console.log(\"Bokeh: injecting CSS: https://cdn.pydata.org/bokeh/release/bokeh-0.12.14.min.css\");\n",
       "      Bokeh.embed.inject_css(\"https://cdn.pydata.org/bokeh/release/bokeh-0.12.14.min.css\");\n",
       "      console.log(\"Bokeh: injecting CSS: https://cdn.pydata.org/bokeh/release/bokeh-widgets-0.12.14.min.css\");\n",
       "      Bokeh.embed.inject_css(\"https://cdn.pydata.org/bokeh/release/bokeh-widgets-0.12.14.min.css\");\n",
       "      console.log(\"Bokeh: injecting CSS: https://cdn.pydata.org/bokeh/release/bokeh-tables-0.12.14.min.css\");\n",
       "      Bokeh.embed.inject_css(\"https://cdn.pydata.org/bokeh/release/bokeh-tables-0.12.14.min.css\");\n",
       "    }\n",
       "  ];\n",
       "\n",
       "  function run_inline_js() {\n",
       "    \n",
       "    if ((root.Bokeh !== undefined) || (force === true)) {\n",
       "      for (var i = 0; i < inline_js.length; i++) {\n",
       "        inline_js[i].call(root, root.Bokeh);\n",
       "      }if (force === true) {\n",
       "        display_loaded();\n",
       "      }} else if (Date.now() < root._bokeh_timeout) {\n",
       "      setTimeout(run_inline_js, 100);\n",
       "    } else if (!root._bokeh_failed_load) {\n",
       "      console.log(\"Bokeh: BokehJS failed to load within specified timeout.\");\n",
       "      root._bokeh_failed_load = true;\n",
       "    } else if (force !== true) {\n",
       "      var cell = $(document.getElementById(\"ee74321b-7565-4132-8c10-deb4f01c28d7\")).parents('.cell').data().cell;\n",
       "      cell.output_area.append_execute_result(NB_LOAD_WARNING)\n",
       "    }\n",
       "\n",
       "  }\n",
       "\n",
       "  if (root._bokeh_is_loading === 0) {\n",
       "    console.log(\"Bokeh: BokehJS loaded, going straight to plotting\");\n",
       "    run_inline_js();\n",
       "  } else {\n",
       "    load_libs(js_urls, function() {\n",
       "      console.log(\"Bokeh: BokehJS plotting callback run at\", now());\n",
       "      run_inline_js();\n",
       "    });\n",
       "  }\n",
       "}(window));"
      ],
      "application/vnd.bokehjs_load.v0+json": "\n(function(root) {\n  function now() {\n    return new Date();\n  }\n\n  var force = true;\n\n  if (typeof (root._bokeh_onload_callbacks) === \"undefined\" || force === true) {\n    root._bokeh_onload_callbacks = [];\n    root._bokeh_is_loading = undefined;\n  }\n\n  \n\n  \n  if (typeof (root._bokeh_timeout) === \"undefined\" || force === true) {\n    root._bokeh_timeout = Date.now() + 5000;\n    root._bokeh_failed_load = false;\n  }\n\n  var NB_LOAD_WARNING = {'data': {'text/html':\n     \"<div style='background-color: #fdd'>\\n\"+\n     \"<p>\\n\"+\n     \"BokehJS does not appear to have successfully loaded. If loading BokehJS from CDN, this \\n\"+\n     \"may be due to a slow or bad network connection. Possible fixes:\\n\"+\n     \"</p>\\n\"+\n     \"<ul>\\n\"+\n     \"<li>re-rerun `output_notebook()` to attempt to load from CDN again, or</li>\\n\"+\n     \"<li>use INLINE resources instead, as so:</li>\\n\"+\n     \"</ul>\\n\"+\n     \"<code>\\n\"+\n     \"from bokeh.resources import INLINE\\n\"+\n     \"output_notebook(resources=INLINE)\\n\"+\n     \"</code>\\n\"+\n     \"</div>\"}};\n\n  function display_loaded() {\n    var el = document.getElementById(\"ee74321b-7565-4132-8c10-deb4f01c28d7\");\n    if (el != null) {\n      el.textContent = \"BokehJS is loading...\";\n    }\n    if (root.Bokeh !== undefined) {\n      if (el != null) {\n        el.textContent = \"BokehJS \" + root.Bokeh.version + \" successfully loaded.\";\n      }\n    } else if (Date.now() < root._bokeh_timeout) {\n      setTimeout(display_loaded, 100)\n    }\n  }\n\n\n  function run_callbacks() {\n    try {\n      root._bokeh_onload_callbacks.forEach(function(callback) { callback() });\n    }\n    finally {\n      delete root._bokeh_onload_callbacks\n    }\n    console.info(\"Bokeh: all callbacks have finished\");\n  }\n\n  function load_libs(js_urls, callback) {\n    root._bokeh_onload_callbacks.push(callback);\n    if (root._bokeh_is_loading > 0) {\n      console.log(\"Bokeh: BokehJS is being loaded, scheduling callback at\", now());\n      return null;\n    }\n    if (js_urls == null || js_urls.length === 0) {\n      run_callbacks();\n      return null;\n    }\n    console.log(\"Bokeh: BokehJS not loaded, scheduling load and callback at\", now());\n    root._bokeh_is_loading = js_urls.length;\n    for (var i = 0; i < js_urls.length; i++) {\n      var url = js_urls[i];\n      var s = document.createElement('script');\n      s.src = url;\n      s.async = false;\n      s.onreadystatechange = s.onload = function() {\n        root._bokeh_is_loading--;\n        if (root._bokeh_is_loading === 0) {\n          console.log(\"Bokeh: all BokehJS libraries loaded\");\n          run_callbacks()\n        }\n      };\n      s.onerror = function() {\n        console.warn(\"failed to load library \" + url);\n      };\n      console.log(\"Bokeh: injecting script tag for BokehJS library: \", url);\n      document.getElementsByTagName(\"head\")[0].appendChild(s);\n    }\n  };var element = document.getElementById(\"ee74321b-7565-4132-8c10-deb4f01c28d7\");\n  if (element == null) {\n    console.log(\"Bokeh: ERROR: autoload.js configured with elementid 'ee74321b-7565-4132-8c10-deb4f01c28d7' but no matching script tag was found. \")\n    return false;\n  }\n\n  var js_urls = [\"https://cdn.pydata.org/bokeh/release/bokeh-0.12.14.min.js\", \"https://cdn.pydata.org/bokeh/release/bokeh-widgets-0.12.14.min.js\", \"https://cdn.pydata.org/bokeh/release/bokeh-tables-0.12.14.min.js\", \"https://cdn.pydata.org/bokeh/release/bokeh-gl-0.12.14.min.js\"];\n\n  var inline_js = [\n    function(Bokeh) {\n      Bokeh.set_log_level(\"info\");\n    },\n    \n    function(Bokeh) {\n      \n    },\n    function(Bokeh) {\n      console.log(\"Bokeh: injecting CSS: https://cdn.pydata.org/bokeh/release/bokeh-0.12.14.min.css\");\n      Bokeh.embed.inject_css(\"https://cdn.pydata.org/bokeh/release/bokeh-0.12.14.min.css\");\n      console.log(\"Bokeh: injecting CSS: https://cdn.pydata.org/bokeh/release/bokeh-widgets-0.12.14.min.css\");\n      Bokeh.embed.inject_css(\"https://cdn.pydata.org/bokeh/release/bokeh-widgets-0.12.14.min.css\");\n      console.log(\"Bokeh: injecting CSS: https://cdn.pydata.org/bokeh/release/bokeh-tables-0.12.14.min.css\");\n      Bokeh.embed.inject_css(\"https://cdn.pydata.org/bokeh/release/bokeh-tables-0.12.14.min.css\");\n    }\n  ];\n\n  function run_inline_js() {\n    \n    if ((root.Bokeh !== undefined) || (force === true)) {\n      for (var i = 0; i < inline_js.length; i++) {\n        inline_js[i].call(root, root.Bokeh);\n      }if (force === true) {\n        display_loaded();\n      }} else if (Date.now() < root._bokeh_timeout) {\n      setTimeout(run_inline_js, 100);\n    } else if (!root._bokeh_failed_load) {\n      console.log(\"Bokeh: BokehJS failed to load within specified timeout.\");\n      root._bokeh_failed_load = true;\n    } else if (force !== true) {\n      var cell = $(document.getElementById(\"ee74321b-7565-4132-8c10-deb4f01c28d7\")).parents('.cell').data().cell;\n      cell.output_area.append_execute_result(NB_LOAD_WARNING)\n    }\n\n  }\n\n  if (root._bokeh_is_loading === 0) {\n    console.log(\"Bokeh: BokehJS loaded, going straight to plotting\");\n    run_inline_js();\n  } else {\n    load_libs(js_urls, function() {\n      console.log(\"Bokeh: BokehJS plotting callback run at\", now());\n      run_inline_js();\n    });\n  }\n}(window));"
     },
     "metadata": {},
     "output_type": "display_data"
    }
   ],
   "source": [
    "output_notebook()"
   ]
  },
  {
   "cell_type": "code",
   "execution_count": 23,
   "metadata": {},
   "outputs": [],
   "source": [
    "p = figure()"
   ]
  },
  {
   "cell_type": "code",
   "execution_count": 24,
   "metadata": {},
   "outputs": [
    {
     "data": {
      "text/html": [
       "<div style=\"display: table;\"><div style=\"display: table-row;\"><div style=\"display: table-cell;\"><b title=\"bokeh.models.renderers.GlyphRenderer\">GlyphRenderer</b>(</div><div style=\"display: table-cell;\">id&nbsp;=&nbsp;'34a08ee6-859f-46f3-b74c-0595b1d62442', <span id=\"fd61962a-5ab3-4342-9a17-1eb70aedcb3e\" style=\"cursor: pointer;\">&hellip;)</span></div></div><div class=\"15088060-6414-4858-8d35-e14b3b3c15ba\" style=\"display: none;\"><div style=\"display: table-cell;\"></div><div style=\"display: table-cell;\">data_source&nbsp;=&nbsp;ColumnDataSource(id='b9cf7b68-d22f-4ac5-9e3b-00dd3d556a22', ...),</div></div><div class=\"15088060-6414-4858-8d35-e14b3b3c15ba\" style=\"display: none;\"><div style=\"display: table-cell;\"></div><div style=\"display: table-cell;\">glyph&nbsp;=&nbsp;Circle(id='5ea8476a-c03b-4536-93c5-b310001531cd', ...),</div></div><div class=\"15088060-6414-4858-8d35-e14b3b3c15ba\" style=\"display: none;\"><div style=\"display: table-cell;\"></div><div style=\"display: table-cell;\">hover_glyph&nbsp;=&nbsp;None,</div></div><div class=\"15088060-6414-4858-8d35-e14b3b3c15ba\" style=\"display: none;\"><div style=\"display: table-cell;\"></div><div style=\"display: table-cell;\">js_event_callbacks&nbsp;=&nbsp;{},</div></div><div class=\"15088060-6414-4858-8d35-e14b3b3c15ba\" style=\"display: none;\"><div style=\"display: table-cell;\"></div><div style=\"display: table-cell;\">js_property_callbacks&nbsp;=&nbsp;{},</div></div><div class=\"15088060-6414-4858-8d35-e14b3b3c15ba\" style=\"display: none;\"><div style=\"display: table-cell;\"></div><div style=\"display: table-cell;\">level&nbsp;=&nbsp;'glyph',</div></div><div class=\"15088060-6414-4858-8d35-e14b3b3c15ba\" style=\"display: none;\"><div style=\"display: table-cell;\"></div><div style=\"display: table-cell;\">muted&nbsp;=&nbsp;False,</div></div><div class=\"15088060-6414-4858-8d35-e14b3b3c15ba\" style=\"display: none;\"><div style=\"display: table-cell;\"></div><div style=\"display: table-cell;\">muted_glyph&nbsp;=&nbsp;None,</div></div><div class=\"15088060-6414-4858-8d35-e14b3b3c15ba\" style=\"display: none;\"><div style=\"display: table-cell;\"></div><div style=\"display: table-cell;\">name&nbsp;=&nbsp;None,</div></div><div class=\"15088060-6414-4858-8d35-e14b3b3c15ba\" style=\"display: none;\"><div style=\"display: table-cell;\"></div><div style=\"display: table-cell;\">nonselection_glyph&nbsp;=&nbsp;Circle(id='6daba671-596f-4108-ab69-987a9bab9996', ...),</div></div><div class=\"15088060-6414-4858-8d35-e14b3b3c15ba\" style=\"display: none;\"><div style=\"display: table-cell;\"></div><div style=\"display: table-cell;\">selection_glyph&nbsp;=&nbsp;None,</div></div><div class=\"15088060-6414-4858-8d35-e14b3b3c15ba\" style=\"display: none;\"><div style=\"display: table-cell;\"></div><div style=\"display: table-cell;\">subscribed_events&nbsp;=&nbsp;[],</div></div><div class=\"15088060-6414-4858-8d35-e14b3b3c15ba\" style=\"display: none;\"><div style=\"display: table-cell;\"></div><div style=\"display: table-cell;\">tags&nbsp;=&nbsp;[],</div></div><div class=\"15088060-6414-4858-8d35-e14b3b3c15ba\" style=\"display: none;\"><div style=\"display: table-cell;\"></div><div style=\"display: table-cell;\">view&nbsp;=&nbsp;CDSView(id='db653ef7-14be-45ad-b0fb-3c01c37dd8c4', ...),</div></div><div class=\"15088060-6414-4858-8d35-e14b3b3c15ba\" style=\"display: none;\"><div style=\"display: table-cell;\"></div><div style=\"display: table-cell;\">visible&nbsp;=&nbsp;True,</div></div><div class=\"15088060-6414-4858-8d35-e14b3b3c15ba\" style=\"display: none;\"><div style=\"display: table-cell;\"></div><div style=\"display: table-cell;\">x_range_name&nbsp;=&nbsp;'default',</div></div><div class=\"15088060-6414-4858-8d35-e14b3b3c15ba\" style=\"display: none;\"><div style=\"display: table-cell;\"></div><div style=\"display: table-cell;\">y_range_name&nbsp;=&nbsp;'default')</div></div></div>\n",
       "<script>\n",
       "(function() {\n",
       "  var expanded = false;\n",
       "  var ellipsis = document.getElementById(\"fd61962a-5ab3-4342-9a17-1eb70aedcb3e\");\n",
       "  ellipsis.addEventListener(\"click\", function() {\n",
       "    var rows = document.getElementsByClassName(\"15088060-6414-4858-8d35-e14b3b3c15ba\");\n",
       "    for (var i = 0; i < rows.length; i++) {\n",
       "      var el = rows[i];\n",
       "      el.style.display = expanded ? \"none\" : \"table-row\";\n",
       "    }\n",
       "    ellipsis.innerHTML = expanded ? \"&hellip;)\" : \"&lsaquo;&lsaquo;&lsaquo;\";\n",
       "    expanded = !expanded;\n",
       "  });\n",
       "})();\n",
       "</script>\n"
      ],
      "text/plain": [
       "GlyphRenderer(id='34a08ee6-859f-46f3-b74c-0595b1d62442', ...)"
      ]
     },
     "execution_count": 24,
     "metadata": {},
     "output_type": "execute_result"
    }
   ],
   "source": [
    "p.circle(flowers.sepal_length, flowers.petal_length)"
   ]
  },
  {
   "cell_type": "code",
   "execution_count": 25,
   "metadata": {},
   "outputs": [
    {
     "data": {
      "text/html": [
       "\n",
       "<div class=\"bk-root\">\n",
       "    <div class=\"bk-plotdiv\" id=\"1a3ea188-57ae-4380-adfc-79d33e02cd94\"></div>\n",
       "</div>"
      ]
     },
     "metadata": {},
     "output_type": "display_data"
    },
    {
     "data": {
      "application/javascript": [
       "(function(root) {\n",
       "  function embed_document(root) {\n",
       "    \n",
       "  var docs_json = {\"34101831-99ca-47c8-a806-5d2b30e6c8a4\":{\"roots\":{\"references\":[{\"attributes\":{},\"id\":\"8157cd1d-2c18-4fb4-a785-b6819f53cd0e\",\"type\":\"HelpTool\"},{\"attributes\":{\"fill_color\":{\"value\":\"#1f77b4\"},\"line_color\":{\"value\":\"#1f77b4\"},\"x\":{\"field\":\"x\"},\"y\":{\"field\":\"y\"}},\"id\":\"5ea8476a-c03b-4536-93c5-b310001531cd\",\"type\":\"Circle\"},{\"attributes\":{\"callback\":null},\"id\":\"9da17e59-7ce9-434f-b01d-5de68ff42caf\",\"type\":\"DataRange1d\"},{\"attributes\":{},\"id\":\"08b511f9-4785-4de0-975e-d6184cbc4ce7\",\"type\":\"LinearScale\"},{\"attributes\":{\"overlay\":{\"id\":\"7c8a4690-75fa-4426-b889-96d5e5cd78ad\",\"type\":\"BoxAnnotation\"}},\"id\":\"25336d31-4dd1-44f9-8599-8ca27e92c74b\",\"type\":\"BoxZoomTool\"},{\"attributes\":{},\"id\":\"b566e908-01eb-4b4e-8a52-d7566f835284\",\"type\":\"LinearScale\"},{\"attributes\":{},\"id\":\"4cfd3686-cb7a-40f8-bad9-95c499c7bf78\",\"type\":\"BasicTicker\"},{\"attributes\":{\"plot\":{\"id\":\"04d0df75-7338-4f2a-9fc1-9324d8759547\",\"subtype\":\"Figure\",\"type\":\"Plot\"},\"ticker\":{\"id\":\"4cfd3686-cb7a-40f8-bad9-95c499c7bf78\",\"type\":\"BasicTicker\"}},\"id\":\"a6c47851-1600-48bc-bcc5-bcbe1f01749d\",\"type\":\"Grid\"},{\"attributes\":{\"formatter\":{\"id\":\"a63fb0da-ee63-4615-acae-de5a450ded4c\",\"type\":\"BasicTickFormatter\"},\"plot\":{\"id\":\"04d0df75-7338-4f2a-9fc1-9324d8759547\",\"subtype\":\"Figure\",\"type\":\"Plot\"},\"ticker\":{\"id\":\"201c8b83-7549-4584-82ce-6e23534b2c7c\",\"type\":\"BasicTicker\"}},\"id\":\"8903098d-a75b-40a6-8076-32e074f15bd9\",\"type\":\"LinearAxis\"},{\"attributes\":{},\"id\":\"201c8b83-7549-4584-82ce-6e23534b2c7c\",\"type\":\"BasicTicker\"},{\"attributes\":{\"callback\":null},\"id\":\"79aaa8c0-41db-4615-97ab-1098f7b02dc7\",\"type\":\"DataRange1d\"},{\"attributes\":{\"data_source\":{\"id\":\"b9cf7b68-d22f-4ac5-9e3b-00dd3d556a22\",\"type\":\"ColumnDataSource\"},\"glyph\":{\"id\":\"5ea8476a-c03b-4536-93c5-b310001531cd\",\"type\":\"Circle\"},\"hover_glyph\":null,\"muted_glyph\":null,\"nonselection_glyph\":{\"id\":\"6daba671-596f-4108-ab69-987a9bab9996\",\"type\":\"Circle\"},\"selection_glyph\":null,\"view\":{\"id\":\"db653ef7-14be-45ad-b0fb-3c01c37dd8c4\",\"type\":\"CDSView\"}},\"id\":\"34a08ee6-859f-46f3-b74c-0595b1d62442\",\"type\":\"GlyphRenderer\"},{\"attributes\":{\"dimension\":1,\"plot\":{\"id\":\"04d0df75-7338-4f2a-9fc1-9324d8759547\",\"subtype\":\"Figure\",\"type\":\"Plot\"},\"ticker\":{\"id\":\"201c8b83-7549-4584-82ce-6e23534b2c7c\",\"type\":\"BasicTicker\"}},\"id\":\"2118caac-d7da-483f-b62e-51d379a8f18f\",\"type\":\"Grid\"},{\"attributes\":{},\"id\":\"21766b19-f757-45c5-9bed-9471733af2e5\",\"type\":\"BasicTickFormatter\"},{\"attributes\":{\"bottom_units\":\"screen\",\"fill_alpha\":{\"value\":0.5},\"fill_color\":{\"value\":\"lightgrey\"},\"left_units\":\"screen\",\"level\":\"overlay\",\"line_alpha\":{\"value\":1.0},\"line_color\":{\"value\":\"black\"},\"line_dash\":[4,4],\"line_width\":{\"value\":2},\"plot\":null,\"render_mode\":\"css\",\"right_units\":\"screen\",\"top_units\":\"screen\"},\"id\":\"7c8a4690-75fa-4426-b889-96d5e5cd78ad\",\"type\":\"BoxAnnotation\"},{\"attributes\":{\"source\":{\"id\":\"b9cf7b68-d22f-4ac5-9e3b-00dd3d556a22\",\"type\":\"ColumnDataSource\"}},\"id\":\"db653ef7-14be-45ad-b0fb-3c01c37dd8c4\",\"type\":\"CDSView\"},{\"attributes\":{\"plot\":null,\"text\":\"\"},\"id\":\"81ccd16a-1f87-44c0-b088-82207e029f1c\",\"type\":\"Title\"},{\"attributes\":{},\"id\":\"2598ddb8-e79f-4e20-9d1b-e5dd288161a7\",\"type\":\"WheelZoomTool\"},{\"attributes\":{},\"id\":\"a63fb0da-ee63-4615-acae-de5a450ded4c\",\"type\":\"BasicTickFormatter\"},{\"attributes\":{},\"id\":\"627ba0de-d6ce-4633-ab33-d292970e646a\",\"type\":\"PanTool\"},{\"attributes\":{\"formatter\":{\"id\":\"21766b19-f757-45c5-9bed-9471733af2e5\",\"type\":\"BasicTickFormatter\"},\"plot\":{\"id\":\"04d0df75-7338-4f2a-9fc1-9324d8759547\",\"subtype\":\"Figure\",\"type\":\"Plot\"},\"ticker\":{\"id\":\"4cfd3686-cb7a-40f8-bad9-95c499c7bf78\",\"type\":\"BasicTicker\"}},\"id\":\"69ec6da0-bc9c-48f5-bc7e-183658113bdd\",\"type\":\"LinearAxis\"},{\"attributes\":{\"active_drag\":\"auto\",\"active_inspect\":\"auto\",\"active_scroll\":\"auto\",\"active_tap\":\"auto\",\"tools\":[{\"id\":\"627ba0de-d6ce-4633-ab33-d292970e646a\",\"type\":\"PanTool\"},{\"id\":\"2598ddb8-e79f-4e20-9d1b-e5dd288161a7\",\"type\":\"WheelZoomTool\"},{\"id\":\"25336d31-4dd1-44f9-8599-8ca27e92c74b\",\"type\":\"BoxZoomTool\"},{\"id\":\"b138f209-d207-4556-be9e-e738c6ce155b\",\"type\":\"SaveTool\"},{\"id\":\"deead57e-b71a-4276-895b-5e4e0a3064f6\",\"type\":\"ResetTool\"},{\"id\":\"8157cd1d-2c18-4fb4-a785-b6819f53cd0e\",\"type\":\"HelpTool\"}]},\"id\":\"7d720766-f7d7-4a66-a37c-ad01e21088a9\",\"type\":\"Toolbar\"},{\"attributes\":{\"callback\":null,\"column_names\":[\"x\",\"y\"],\"data\":{\"x\":{\"__ndarray__\":\"ZmZmZmZmFECamZmZmZkTQM3MzMzMzBJAZmZmZmZmEkAAAAAAAAAUQJqZmZmZmRVAZmZmZmZmEkAAAAAAAAAUQJqZmZmZmRFAmpmZmZmZE0CamZmZmZkVQDMzMzMzMxNAMzMzMzMzE0AzMzMzMzMRQDMzMzMzMxdAzczMzMzMFkCamZmZmZkVQGZmZmZmZhRAzczMzMzMFkBmZmZmZmYUQJqZmZmZmRVAZmZmZmZmFEBmZmZmZmYSQGZmZmZmZhRAMzMzMzMzE0AAAAAAAAAUQAAAAAAAABRAzczMzMzMFEDNzMzMzMwUQM3MzMzMzBJAMzMzMzMzE0CamZmZmZkVQM3MzMzMzBRAAAAAAAAAFkCamZmZmZkTQAAAAAAAABRAAAAAAAAAFkCamZmZmZkTQJqZmZmZmRFAZmZmZmZmFEAAAAAAAAAUQAAAAAAAABJAmpmZmZmZEUAAAAAAAAAUQGZmZmZmZhRAMzMzMzMzE0BmZmZmZmYUQGZmZmZmZhJAMzMzMzMzFUAAAAAAAAAUQAAAAAAAABxAmpmZmZmZGUCamZmZmZkbQAAAAAAAABZAAAAAAAAAGkDNzMzMzMwWQDMzMzMzMxlAmpmZmZmZE0BmZmZmZmYaQM3MzMzMzBRAAAAAAAAAFECamZmZmZkXQAAAAAAAABhAZmZmZmZmGEBmZmZmZmYWQM3MzMzMzBpAZmZmZmZmFkAzMzMzMzMXQM3MzMzMzBhAZmZmZmZmFkCamZmZmZkXQGZmZmZmZhhAMzMzMzMzGUBmZmZmZmYYQJqZmZmZmRlAZmZmZmZmGkAzMzMzMzMbQM3MzMzMzBpAAAAAAAAAGEDNzMzMzMwWQAAAAAAAABZAAAAAAAAAFkAzMzMzMzMXQAAAAAAAABhAmpmZmZmZFUAAAAAAAAAYQM3MzMzMzBpAMzMzMzMzGUBmZmZmZmYWQAAAAAAAABZAAAAAAAAAFkBmZmZmZmYYQDMzMzMzMxdAAAAAAAAAFEBmZmZmZmYWQM3MzMzMzBZAzczMzMzMFkDNzMzMzMwYQGZmZmZmZhRAzczMzMzMFkAzMzMzMzMZQDMzMzMzMxdAZmZmZmZmHEAzMzMzMzMZQAAAAAAAABpAZmZmZmZmHkCamZmZmZkTQDMzMzMzMx1AzczMzMzMGkDNzMzMzMwcQAAAAAAAABpAmpmZmZmZGUAzMzMzMzMbQM3MzMzMzBZAMzMzMzMzF0CamZmZmZkZQAAAAAAAABpAzczMzMzMHkDNzMzMzMweQAAAAAAAABhAmpmZmZmZG0BmZmZmZmYWQM3MzMzMzB5AMzMzMzMzGUDNzMzMzMwaQM3MzMzMzBxAzczMzMzMGEBmZmZmZmYYQJqZmZmZmRlAzczMzMzMHECamZmZmZkdQJqZmZmZmR9AmpmZmZmZGUAzMzMzMzMZQGZmZmZmZhhAzczMzMzMHkAzMzMzMzMZQJqZmZmZmRlAAAAAAAAAGECamZmZmZkbQM3MzMzMzBpAmpmZmZmZG0AzMzMzMzMXQDMzMzMzMxtAzczMzMzMGkDNzMzMzMwaQDMzMzMzMxlAAAAAAAAAGkDNzMzMzMwYQJqZmZmZmRdA\",\"dtype\":\"float64\",\"shape\":[150]},\"y\":{\"__ndarray__\":\"ZmZmZmZm9j9mZmZmZmb2P83MzMzMzPQ/AAAAAAAA+D9mZmZmZmb2PzMzMzMzM/s/ZmZmZmZm9j8AAAAAAAD4P2ZmZmZmZvY/AAAAAAAA+D8AAAAAAAD4P5qZmZmZmfk/ZmZmZmZm9j+amZmZmZnxPzMzMzMzM/M/AAAAAAAA+D/NzMzMzMz0P2ZmZmZmZvY/MzMzMzMz+z8AAAAAAAD4PzMzMzMzM/s/AAAAAAAA+D8AAAAAAADwPzMzMzMzM/s/ZmZmZmZm/j+amZmZmZn5P5qZmZmZmfk/AAAAAAAA+D9mZmZmZmb2P5qZmZmZmfk/mpmZmZmZ+T8AAAAAAAD4PwAAAAAAAPg/ZmZmZmZm9j8AAAAAAAD4PzMzMzMzM/M/zczMzMzM9D9mZmZmZmb2P83MzMzMzPQ/AAAAAAAA+D/NzMzMzMz0P83MzMzMzPQ/zczMzMzM9D+amZmZmZn5P2ZmZmZmZv4/ZmZmZmZm9j+amZmZmZn5P2ZmZmZmZvY/AAAAAAAA+D9mZmZmZmb2P83MzMzMzBJAAAAAAAAAEkCamZmZmZkTQAAAAAAAABBAZmZmZmZmEkAAAAAAAAASQM3MzMzMzBJAZmZmZmZmCkBmZmZmZmYSQDMzMzMzMw9AAAAAAAAADEDNzMzMzMwQQAAAAAAAABBAzczMzMzMEkDNzMzMzMwMQJqZmZmZmRFAAAAAAAAAEkBmZmZmZmYQQAAAAAAAABJAMzMzMzMzD0AzMzMzMzMTQAAAAAAAABBAmpmZmZmZE0DNzMzMzMwSQDMzMzMzMxFAmpmZmZmZEUAzMzMzMzMTQAAAAAAAABRAAAAAAAAAEkAAAAAAAAAMQGZmZmZmZg5AmpmZmZmZDUAzMzMzMzMPQGZmZmZmZhRAAAAAAAAAEkAAAAAAAAASQM3MzMzMzBJAmpmZmZmZEUBmZmZmZmYQQAAAAAAAABBAmpmZmZmZEUBmZmZmZmYSQAAAAAAAABBAZmZmZmZmCkDNzMzMzMwQQM3MzMzMzBBAzczMzMzMEEAzMzMzMzMRQAAAAAAAAAhAZmZmZmZmEEAAAAAAAAAYQGZmZmZmZhRAmpmZmZmZF0BmZmZmZmYWQDMzMzMzMxdAZmZmZmZmGkAAAAAAAAASQDMzMzMzMxlAMzMzMzMzF0BmZmZmZmYYQGZmZmZmZhRAMzMzMzMzFUAAAAAAAAAWQAAAAAAAABRAZmZmZmZmFEAzMzMzMzMVQAAAAAAAABZAzczMzMzMGkCamZmZmZkbQAAAAAAAABRAzczMzMzMFkCamZmZmZkTQM3MzMzMzBpAmpmZmZmZE0DNzMzMzMwWQAAAAAAAABhAMzMzMzMzE0CamZmZmZkTQGZmZmZmZhZAMzMzMzMzF0BmZmZmZmYYQJqZmZmZmRlAZmZmZmZmFkBmZmZmZmYUQGZmZmZmZhZAZmZmZmZmGEBmZmZmZmYWQAAAAAAAABZAMzMzMzMzE0CamZmZmZkVQGZmZmZmZhZAZmZmZmZmFEBmZmZmZmYUQJqZmZmZmRdAzczMzMzMFkDNzMzMzMwUQAAAAAAAABRAzczMzMzMFECamZmZmZkVQGZmZmZmZhRA\",\"dtype\":\"float64\",\"shape\":[150]}}},\"id\":\"b9cf7b68-d22f-4ac5-9e3b-00dd3d556a22\",\"type\":\"ColumnDataSource\"},{\"attributes\":{\"fill_alpha\":{\"value\":0.1},\"fill_color\":{\"value\":\"#1f77b4\"},\"line_alpha\":{\"value\":0.1},\"line_color\":{\"value\":\"#1f77b4\"},\"x\":{\"field\":\"x\"},\"y\":{\"field\":\"y\"}},\"id\":\"6daba671-596f-4108-ab69-987a9bab9996\",\"type\":\"Circle\"},{\"attributes\":{},\"id\":\"b138f209-d207-4556-be9e-e738c6ce155b\",\"type\":\"SaveTool\"},{\"attributes\":{},\"id\":\"deead57e-b71a-4276-895b-5e4e0a3064f6\",\"type\":\"ResetTool\"},{\"attributes\":{\"below\":[{\"id\":\"69ec6da0-bc9c-48f5-bc7e-183658113bdd\",\"type\":\"LinearAxis\"}],\"left\":[{\"id\":\"8903098d-a75b-40a6-8076-32e074f15bd9\",\"type\":\"LinearAxis\"}],\"renderers\":[{\"id\":\"69ec6da0-bc9c-48f5-bc7e-183658113bdd\",\"type\":\"LinearAxis\"},{\"id\":\"a6c47851-1600-48bc-bcc5-bcbe1f01749d\",\"type\":\"Grid\"},{\"id\":\"8903098d-a75b-40a6-8076-32e074f15bd9\",\"type\":\"LinearAxis\"},{\"id\":\"2118caac-d7da-483f-b62e-51d379a8f18f\",\"type\":\"Grid\"},{\"id\":\"7c8a4690-75fa-4426-b889-96d5e5cd78ad\",\"type\":\"BoxAnnotation\"},{\"id\":\"34a08ee6-859f-46f3-b74c-0595b1d62442\",\"type\":\"GlyphRenderer\"}],\"title\":{\"id\":\"81ccd16a-1f87-44c0-b088-82207e029f1c\",\"type\":\"Title\"},\"toolbar\":{\"id\":\"7d720766-f7d7-4a66-a37c-ad01e21088a9\",\"type\":\"Toolbar\"},\"x_range\":{\"id\":\"79aaa8c0-41db-4615-97ab-1098f7b02dc7\",\"type\":\"DataRange1d\"},\"x_scale\":{\"id\":\"08b511f9-4785-4de0-975e-d6184cbc4ce7\",\"type\":\"LinearScale\"},\"y_range\":{\"id\":\"9da17e59-7ce9-434f-b01d-5de68ff42caf\",\"type\":\"DataRange1d\"},\"y_scale\":{\"id\":\"b566e908-01eb-4b4e-8a52-d7566f835284\",\"type\":\"LinearScale\"}},\"id\":\"04d0df75-7338-4f2a-9fc1-9324d8759547\",\"subtype\":\"Figure\",\"type\":\"Plot\"}],\"root_ids\":[\"04d0df75-7338-4f2a-9fc1-9324d8759547\"]},\"title\":\"Bokeh Application\",\"version\":\"0.12.14\"}};\n",
       "  var render_items = [{\"docid\":\"34101831-99ca-47c8-a806-5d2b30e6c8a4\",\"elementid\":\"1a3ea188-57ae-4380-adfc-79d33e02cd94\",\"modelid\":\"04d0df75-7338-4f2a-9fc1-9324d8759547\"}];\n",
       "  root.Bokeh.embed.embed_items_notebook(docs_json, render_items);\n",
       "\n",
       "  }\n",
       "  if (root.Bokeh !== undefined) {\n",
       "    embed_document(root);\n",
       "  } else {\n",
       "    var attempts = 0;\n",
       "    var timer = setInterval(function(root) {\n",
       "      if (root.Bokeh !== undefined) {\n",
       "        embed_document(root);\n",
       "        clearInterval(timer);\n",
       "      }\n",
       "      attempts++;\n",
       "      if (attempts > 100) {\n",
       "        console.log(\"Bokeh: ERROR: Unable to run BokehJS code because BokehJS library is missing\")\n",
       "        clearInterval(timer);\n",
       "      }\n",
       "    }, 10, root)\n",
       "  }\n",
       "})(window);"
      ],
      "application/vnd.bokehjs_exec.v0+json": ""
     },
     "metadata": {
      "application/vnd.bokehjs_exec.v0+json": {
       "id": "04d0df75-7338-4f2a-9fc1-9324d8759547"
      }
     },
     "output_type": "display_data"
    }
   ],
   "source": [
    "show(p)"
   ]
  },
  {
   "cell_type": "code",
   "execution_count": 26,
   "metadata": {},
   "outputs": [
    {
     "name": "stderr",
     "output_type": "stream",
     "text": [
      "E-1001 (BAD_COLUMN_NAME): Glyph refers to nonexistent column name: species [renderer: GlyphRenderer(id='55001fc3-d104-4365-91fa-2076670dd5e2', ...)]\n"
     ]
    },
    {
     "data": {
      "text/html": [
       "\n",
       "<div class=\"bk-root\">\n",
       "    <div class=\"bk-plotdiv\" id=\"0d043694-9d89-422d-b23d-5089eeffe36c\"></div>\n",
       "</div>"
      ]
     },
     "metadata": {},
     "output_type": "display_data"
    },
    {
     "data": {
      "application/javascript": [
       "(function(root) {\n",
       "  function embed_document(root) {\n",
       "    \n",
       "  var docs_json = {\"ea073999-f130-451c-9de3-16a61303e05d\":{\"roots\":{\"references\":[{\"attributes\":{\"plot\":null,\"text\":\"\"},\"id\":\"ad26165b-507b-41d8-ad6a-9fa9e7840dcf\",\"type\":\"Title\"},{\"attributes\":{\"formatter\":{\"id\":\"739fd4e7-9b7c-40b9-abde-91b846a581b0\",\"type\":\"BasicTickFormatter\"},\"plot\":{\"id\":\"082f576a-b680-4fc7-9437-f70c48bf2959\",\"subtype\":\"Figure\",\"type\":\"Plot\"},\"ticker\":{\"id\":\"6312f400-aa88-46a8-953c-b18fae194d0c\",\"type\":\"BasicTicker\"}},\"id\":\"1b81288e-f93c-4d8c-bce8-8ce97e666605\",\"type\":\"LinearAxis\"},{\"attributes\":{\"data_source\":{\"id\":\"a4692273-b97f-4f10-999b-9718b1ae3abf\",\"type\":\"ColumnDataSource\"},\"glyph\":{\"id\":\"5396b031-bc8e-470b-b58c-65a367120065\",\"type\":\"Circle\"},\"hover_glyph\":null,\"muted_glyph\":null,\"nonselection_glyph\":{\"id\":\"06885f1e-6d1a-46ef-900f-1dd26495c889\",\"type\":\"Circle\"},\"selection_glyph\":null,\"view\":{\"id\":\"45e7e829-d4a4-4f49-a63f-9161957a0a35\",\"type\":\"CDSView\"}},\"id\":\"55001fc3-d104-4365-91fa-2076670dd5e2\",\"type\":\"GlyphRenderer\"},{\"attributes\":{\"bottom_units\":\"screen\",\"fill_alpha\":{\"value\":0.5},\"fill_color\":{\"value\":\"lightgrey\"},\"left_units\":\"screen\",\"level\":\"overlay\",\"line_alpha\":{\"value\":1.0},\"line_color\":{\"value\":\"black\"},\"line_dash\":[4,4],\"line_width\":{\"value\":2},\"plot\":null,\"render_mode\":\"css\",\"right_units\":\"screen\",\"top_units\":\"screen\"},\"id\":\"abeecde4-1830-49c9-94f7-c8d6834be286\",\"type\":\"BoxAnnotation\"},{\"attributes\":{},\"id\":\"09b5feff-7120-437c-b38b-57e8cbe846bb\",\"type\":\"HelpTool\"},{\"attributes\":{},\"id\":\"668d20b2-ffa0-4b1e-9813-e97290cbacc5\",\"type\":\"PanTool\"},{\"attributes\":{\"plot\":{\"id\":\"082f576a-b680-4fc7-9437-f70c48bf2959\",\"subtype\":\"Figure\",\"type\":\"Plot\"},\"ticker\":{\"id\":\"11bb070e-3012-492d-ada6-0514b83325fd\",\"type\":\"BasicTicker\"}},\"id\":\"0ca8150f-40b0-47b7-974c-3a7dbf639d62\",\"type\":\"Grid\"},{\"attributes\":{\"fill_color\":{\"field\":\"species\",\"transform\":{\"id\":\"df0df494-92a1-4ea3-b6fb-544de3cb841c\",\"type\":\"CategoricalColorMapper\"}},\"line_color\":{\"field\":\"species\",\"transform\":{\"id\":\"df0df494-92a1-4ea3-b6fb-544de3cb841c\",\"type\":\"CategoricalColorMapper\"}},\"x\":{\"field\":\"x\"},\"y\":{\"field\":\"y\"}},\"id\":\"5396b031-bc8e-470b-b58c-65a367120065\",\"type\":\"Circle\"},{\"attributes\":{},\"id\":\"d2a26b78-f895-4312-a431-aa799b3ab55f\",\"type\":\"ResetTool\"},{\"attributes\":{\"dimension\":1,\"plot\":{\"id\":\"082f576a-b680-4fc7-9437-f70c48bf2959\",\"subtype\":\"Figure\",\"type\":\"Plot\"},\"ticker\":{\"id\":\"6312f400-aa88-46a8-953c-b18fae194d0c\",\"type\":\"BasicTicker\"}},\"id\":\"748a67d1-bbf8-4f0c-aaca-84f72c89f89b\",\"type\":\"Grid\"},{\"attributes\":{},\"id\":\"a688cb99-31ac-4813-b6e4-c4e0949a8926\",\"type\":\"BasicTickFormatter\"},{\"attributes\":{},\"id\":\"11bb070e-3012-492d-ada6-0514b83325fd\",\"type\":\"BasicTicker\"},{\"attributes\":{\"fill_alpha\":{\"value\":0.1},\"fill_color\":{\"value\":\"#1f77b4\"},\"line_alpha\":{\"value\":0.1},\"line_color\":{\"value\":\"#1f77b4\"},\"x\":{\"field\":\"x\"},\"y\":{\"field\":\"y\"}},\"id\":\"06885f1e-6d1a-46ef-900f-1dd26495c889\",\"type\":\"Circle\"},{\"attributes\":{},\"id\":\"2e8cc7ff-56a9-420c-8fbe-44d2f4993eed\",\"type\":\"SaveTool\"},{\"attributes\":{\"overlay\":{\"id\":\"abeecde4-1830-49c9-94f7-c8d6834be286\",\"type\":\"BoxAnnotation\"}},\"id\":\"a3b8732a-2292-4e43-a3c6-a6cf76374212\",\"type\":\"BoxZoomTool\"},{\"attributes\":{},\"id\":\"d0464c5f-c025-474d-bdc3-7fd9e75b4141\",\"type\":\"WheelZoomTool\"},{\"attributes\":{},\"id\":\"6312f400-aa88-46a8-953c-b18fae194d0c\",\"type\":\"BasicTicker\"},{\"attributes\":{\"active_drag\":\"auto\",\"active_inspect\":\"auto\",\"active_scroll\":\"auto\",\"active_tap\":\"auto\",\"tools\":[{\"id\":\"668d20b2-ffa0-4b1e-9813-e97290cbacc5\",\"type\":\"PanTool\"},{\"id\":\"d0464c5f-c025-474d-bdc3-7fd9e75b4141\",\"type\":\"WheelZoomTool\"},{\"id\":\"a3b8732a-2292-4e43-a3c6-a6cf76374212\",\"type\":\"BoxZoomTool\"},{\"id\":\"2e8cc7ff-56a9-420c-8fbe-44d2f4993eed\",\"type\":\"SaveTool\"},{\"id\":\"d2a26b78-f895-4312-a431-aa799b3ab55f\",\"type\":\"ResetTool\"},{\"id\":\"09b5feff-7120-437c-b38b-57e8cbe846bb\",\"type\":\"HelpTool\"}]},\"id\":\"779cedd9-379d-491f-8aea-f605fb6a243e\",\"type\":\"Toolbar\"},{\"attributes\":{},\"id\":\"0d36afc6-856c-41b1-8085-9398f3a8ed45\",\"type\":\"LinearScale\"},{\"attributes\":{},\"id\":\"78e9d0f3-4932-4fc4-9635-e4fc12eb8690\",\"type\":\"LinearScale\"},{\"attributes\":{\"source\":{\"id\":\"a4692273-b97f-4f10-999b-9718b1ae3abf\",\"type\":\"ColumnDataSource\"}},\"id\":\"45e7e829-d4a4-4f49-a63f-9161957a0a35\",\"type\":\"CDSView\"},{\"attributes\":{\"factors\":[\"Iris-setosa\",\"Iris-versicolor\",\"Iris-virginica\"],\"palette\":[\"#99d594\",\"#ffffbf\",\"#fc8d59\"]},\"id\":\"df0df494-92a1-4ea3-b6fb-544de3cb841c\",\"type\":\"CategoricalColorMapper\"},{\"attributes\":{\"callback\":null,\"column_names\":[\"x\",\"y\"],\"data\":{\"x\":{\"__ndarray__\":\"ZmZmZmZmFECamZmZmZkTQM3MzMzMzBJAZmZmZmZmEkAAAAAAAAAUQJqZmZmZmRVAZmZmZmZmEkAAAAAAAAAUQJqZmZmZmRFAmpmZmZmZE0CamZmZmZkVQDMzMzMzMxNAMzMzMzMzE0AzMzMzMzMRQDMzMzMzMxdAzczMzMzMFkCamZmZmZkVQGZmZmZmZhRAzczMzMzMFkBmZmZmZmYUQJqZmZmZmRVAZmZmZmZmFEBmZmZmZmYSQGZmZmZmZhRAMzMzMzMzE0AAAAAAAAAUQAAAAAAAABRAzczMzMzMFEDNzMzMzMwUQM3MzMzMzBJAMzMzMzMzE0CamZmZmZkVQM3MzMzMzBRAAAAAAAAAFkCamZmZmZkTQAAAAAAAABRAAAAAAAAAFkCamZmZmZkTQJqZmZmZmRFAZmZmZmZmFEAAAAAAAAAUQAAAAAAAABJAmpmZmZmZEUAAAAAAAAAUQGZmZmZmZhRAMzMzMzMzE0BmZmZmZmYUQGZmZmZmZhJAMzMzMzMzFUAAAAAAAAAUQAAAAAAAABxAmpmZmZmZGUCamZmZmZkbQAAAAAAAABZAAAAAAAAAGkDNzMzMzMwWQDMzMzMzMxlAmpmZmZmZE0BmZmZmZmYaQM3MzMzMzBRAAAAAAAAAFECamZmZmZkXQAAAAAAAABhAZmZmZmZmGEBmZmZmZmYWQM3MzMzMzBpAZmZmZmZmFkAzMzMzMzMXQM3MzMzMzBhAZmZmZmZmFkCamZmZmZkXQGZmZmZmZhhAMzMzMzMzGUBmZmZmZmYYQJqZmZmZmRlAZmZmZmZmGkAzMzMzMzMbQM3MzMzMzBpAAAAAAAAAGEDNzMzMzMwWQAAAAAAAABZAAAAAAAAAFkAzMzMzMzMXQAAAAAAAABhAmpmZmZmZFUAAAAAAAAAYQM3MzMzMzBpAMzMzMzMzGUBmZmZmZmYWQAAAAAAAABZAAAAAAAAAFkBmZmZmZmYYQDMzMzMzMxdAAAAAAAAAFEBmZmZmZmYWQM3MzMzMzBZAzczMzMzMFkDNzMzMzMwYQGZmZmZmZhRAzczMzMzMFkAzMzMzMzMZQDMzMzMzMxdAZmZmZmZmHEAzMzMzMzMZQAAAAAAAABpAZmZmZmZmHkCamZmZmZkTQDMzMzMzMx1AzczMzMzMGkDNzMzMzMwcQAAAAAAAABpAmpmZmZmZGUAzMzMzMzMbQM3MzMzMzBZAMzMzMzMzF0CamZmZmZkZQAAAAAAAABpAzczMzMzMHkDNzMzMzMweQAAAAAAAABhAmpmZmZmZG0BmZmZmZmYWQM3MzMzMzB5AMzMzMzMzGUDNzMzMzMwaQM3MzMzMzBxAzczMzMzMGEBmZmZmZmYYQJqZmZmZmRlAzczMzMzMHECamZmZmZkdQJqZmZmZmR9AmpmZmZmZGUAzMzMzMzMZQGZmZmZmZhhAzczMzMzMHkAzMzMzMzMZQJqZmZmZmRlAAAAAAAAAGECamZmZmZkbQM3MzMzMzBpAmpmZmZmZG0AzMzMzMzMXQDMzMzMzMxtAzczMzMzMGkDNzMzMzMwaQDMzMzMzMxlAAAAAAAAAGkDNzMzMzMwYQJqZmZmZmRdA\",\"dtype\":\"float64\",\"shape\":[150]},\"y\":{\"__ndarray__\":\"ZmZmZmZm9j9mZmZmZmb2P83MzMzMzPQ/AAAAAAAA+D9mZmZmZmb2PzMzMzMzM/s/ZmZmZmZm9j8AAAAAAAD4P2ZmZmZmZvY/AAAAAAAA+D8AAAAAAAD4P5qZmZmZmfk/ZmZmZmZm9j+amZmZmZnxPzMzMzMzM/M/AAAAAAAA+D/NzMzMzMz0P2ZmZmZmZvY/MzMzMzMz+z8AAAAAAAD4PzMzMzMzM/s/AAAAAAAA+D8AAAAAAADwPzMzMzMzM/s/ZmZmZmZm/j+amZmZmZn5P5qZmZmZmfk/AAAAAAAA+D9mZmZmZmb2P5qZmZmZmfk/mpmZmZmZ+T8AAAAAAAD4PwAAAAAAAPg/ZmZmZmZm9j8AAAAAAAD4PzMzMzMzM/M/zczMzMzM9D9mZmZmZmb2P83MzMzMzPQ/AAAAAAAA+D/NzMzMzMz0P83MzMzMzPQ/zczMzMzM9D+amZmZmZn5P2ZmZmZmZv4/ZmZmZmZm9j+amZmZmZn5P2ZmZmZmZvY/AAAAAAAA+D9mZmZmZmb2P83MzMzMzBJAAAAAAAAAEkCamZmZmZkTQAAAAAAAABBAZmZmZmZmEkAAAAAAAAASQM3MzMzMzBJAZmZmZmZmCkBmZmZmZmYSQDMzMzMzMw9AAAAAAAAADEDNzMzMzMwQQAAAAAAAABBAzczMzMzMEkDNzMzMzMwMQJqZmZmZmRFAAAAAAAAAEkBmZmZmZmYQQAAAAAAAABJAMzMzMzMzD0AzMzMzMzMTQAAAAAAAABBAmpmZmZmZE0DNzMzMzMwSQDMzMzMzMxFAmpmZmZmZEUAzMzMzMzMTQAAAAAAAABRAAAAAAAAAEkAAAAAAAAAMQGZmZmZmZg5AmpmZmZmZDUAzMzMzMzMPQGZmZmZmZhRAAAAAAAAAEkAAAAAAAAASQM3MzMzMzBJAmpmZmZmZEUBmZmZmZmYQQAAAAAAAABBAmpmZmZmZEUBmZmZmZmYSQAAAAAAAABBAZmZmZmZmCkDNzMzMzMwQQM3MzMzMzBBAzczMzMzMEEAzMzMzMzMRQAAAAAAAAAhAZmZmZmZmEEAAAAAAAAAYQGZmZmZmZhRAmpmZmZmZF0BmZmZmZmYWQDMzMzMzMxdAZmZmZmZmGkAAAAAAAAASQDMzMzMzMxlAMzMzMzMzF0BmZmZmZmYYQGZmZmZmZhRAMzMzMzMzFUAAAAAAAAAWQAAAAAAAABRAZmZmZmZmFEAzMzMzMzMVQAAAAAAAABZAzczMzMzMGkCamZmZmZkbQAAAAAAAABRAzczMzMzMFkCamZmZmZkTQM3MzMzMzBpAmpmZmZmZE0DNzMzMzMwWQAAAAAAAABhAMzMzMzMzE0CamZmZmZkTQGZmZmZmZhZAMzMzMzMzF0BmZmZmZmYYQJqZmZmZmRlAZmZmZmZmFkBmZmZmZmYUQGZmZmZmZhZAZmZmZmZmGEBmZmZmZmYWQAAAAAAAABZAMzMzMzMzE0CamZmZmZkVQGZmZmZmZhZAZmZmZmZmFEBmZmZmZmYUQJqZmZmZmRdAzczMzMzMFkDNzMzMzMwUQAAAAAAAABRAzczMzMzMFECamZmZmZkVQGZmZmZmZhRA\",\"dtype\":\"float64\",\"shape\":[150]}}},\"id\":\"a4692273-b97f-4f10-999b-9718b1ae3abf\",\"type\":\"ColumnDataSource\"},{\"attributes\":{\"below\":[{\"id\":\"d34f29b0-05b6-4127-af76-dc4d9aebf75d\",\"type\":\"LinearAxis\"}],\"left\":[{\"id\":\"1b81288e-f93c-4d8c-bce8-8ce97e666605\",\"type\":\"LinearAxis\"}],\"renderers\":[{\"id\":\"d34f29b0-05b6-4127-af76-dc4d9aebf75d\",\"type\":\"LinearAxis\"},{\"id\":\"0ca8150f-40b0-47b7-974c-3a7dbf639d62\",\"type\":\"Grid\"},{\"id\":\"1b81288e-f93c-4d8c-bce8-8ce97e666605\",\"type\":\"LinearAxis\"},{\"id\":\"748a67d1-bbf8-4f0c-aaca-84f72c89f89b\",\"type\":\"Grid\"},{\"id\":\"abeecde4-1830-49c9-94f7-c8d6834be286\",\"type\":\"BoxAnnotation\"},{\"id\":\"55001fc3-d104-4365-91fa-2076670dd5e2\",\"type\":\"GlyphRenderer\"}],\"title\":{\"id\":\"ad26165b-507b-41d8-ad6a-9fa9e7840dcf\",\"type\":\"Title\"},\"toolbar\":{\"id\":\"779cedd9-379d-491f-8aea-f605fb6a243e\",\"type\":\"Toolbar\"},\"x_range\":{\"id\":\"d4e30dc0-530a-4ac0-8e84-7df085b25a9f\",\"type\":\"DataRange1d\"},\"x_scale\":{\"id\":\"78e9d0f3-4932-4fc4-9635-e4fc12eb8690\",\"type\":\"LinearScale\"},\"y_range\":{\"id\":\"98db691e-5b82-4457-91ce-35bf8fd93584\",\"type\":\"DataRange1d\"},\"y_scale\":{\"id\":\"0d36afc6-856c-41b1-8085-9398f3a8ed45\",\"type\":\"LinearScale\"}},\"id\":\"082f576a-b680-4fc7-9437-f70c48bf2959\",\"subtype\":\"Figure\",\"type\":\"Plot\"},{\"attributes\":{\"callback\":null},\"id\":\"d4e30dc0-530a-4ac0-8e84-7df085b25a9f\",\"type\":\"DataRange1d\"},{\"attributes\":{},\"id\":\"739fd4e7-9b7c-40b9-abde-91b846a581b0\",\"type\":\"BasicTickFormatter\"},{\"attributes\":{\"callback\":null},\"id\":\"98db691e-5b82-4457-91ce-35bf8fd93584\",\"type\":\"DataRange1d\"},{\"attributes\":{\"formatter\":{\"id\":\"a688cb99-31ac-4813-b6e4-c4e0949a8926\",\"type\":\"BasicTickFormatter\"},\"plot\":{\"id\":\"082f576a-b680-4fc7-9437-f70c48bf2959\",\"subtype\":\"Figure\",\"type\":\"Plot\"},\"ticker\":{\"id\":\"11bb070e-3012-492d-ada6-0514b83325fd\",\"type\":\"BasicTicker\"}},\"id\":\"d34f29b0-05b6-4127-af76-dc4d9aebf75d\",\"type\":\"LinearAxis\"}],\"root_ids\":[\"082f576a-b680-4fc7-9437-f70c48bf2959\"]},\"title\":\"Bokeh Application\",\"version\":\"0.12.14\"}};\n",
       "  var render_items = [{\"docid\":\"ea073999-f130-451c-9de3-16a61303e05d\",\"elementid\":\"0d043694-9d89-422d-b23d-5089eeffe36c\",\"modelid\":\"082f576a-b680-4fc7-9437-f70c48bf2959\"}];\n",
       "  root.Bokeh.embed.embed_items_notebook(docs_json, render_items);\n",
       "\n",
       "  }\n",
       "  if (root.Bokeh !== undefined) {\n",
       "    embed_document(root);\n",
       "  } else {\n",
       "    var attempts = 0;\n",
       "    var timer = setInterval(function(root) {\n",
       "      if (root.Bokeh !== undefined) {\n",
       "        embed_document(root);\n",
       "        clearInterval(timer);\n",
       "      }\n",
       "      attempts++;\n",
       "      if (attempts > 100) {\n",
       "        console.log(\"Bokeh: ERROR: Unable to run BokehJS code because BokehJS library is missing\")\n",
       "        clearInterval(timer);\n",
       "      }\n",
       "    }, 10, root)\n",
       "  }\n",
       "})(window);"
      ],
      "application/vnd.bokehjs_exec.v0+json": ""
     },
     "metadata": {
      "application/vnd.bokehjs_exec.v0+json": {
       "id": "082f576a-b680-4fc7-9437-f70c48bf2959"
      }
     },
     "output_type": "display_data"
    }
   ],
   "source": [
    "from bokeh.transform import factor_cmap\n",
    "from bokeh.palettes import Spectral3\n",
    "index_cmap = factor_cmap('species', palette=Spectral3, factors=sorted(flowers.species.unique()))\n",
    "p = figure()\n",
    "p.circle(flowers.sepal_length, flowers.petal_length, color=index_cmap)\n",
    "show(p)"
   ]
  },
  {
   "cell_type": "code",
   "execution_count": 27,
   "metadata": {},
   "outputs": [
    {
     "name": "stderr",
     "output_type": "stream",
     "text": [
      "/Volumes/exlinux/Users/catherine/org/ddl/dayton-dynamic.github.com/meeting_notes/quilt/.direnv/python-3.6.4/lib/python3.6/site-packages/ipykernel_launcher.py:2: UserWarning: Pandas doesn't allow columns to be created via a new attribute name - see https://pandas.pydata.org/pandas-docs/stable/indexing.html#attribute-access\n",
      "  \n"
     ]
    }
   ],
   "source": [
    "color_mapper = dict(zip(flowers.species.unique(), ['blue', 'green', 'pink']))\n",
    "flowers.color = flowers.species.map(color_mapper)"
   ]
  },
  {
   "cell_type": "code",
   "execution_count": 28,
   "metadata": {},
   "outputs": [
    {
     "data": {
      "text/html": [
       "\n",
       "<div class=\"bk-root\">\n",
       "    <div class=\"bk-plotdiv\" id=\"359eb35a-d01c-40e6-86ca-66f28a29d37f\"></div>\n",
       "</div>"
      ]
     },
     "metadata": {},
     "output_type": "display_data"
    },
    {
     "data": {
      "application/javascript": [
       "(function(root) {\n",
       "  function embed_document(root) {\n",
       "    \n",
       "  var docs_json = {\"9204977f-c9b4-4a26-b780-89da99b26c19\":{\"roots\":{\"references\":[{\"attributes\":{\"align\":\"center\",\"plot\":{\"id\":\"63b15662-8d51-460f-86a2-8897425a2a67\",\"subtype\":\"Figure\",\"type\":\"Plot\"},\"text\":\"sepal length\"},\"id\":\"f2caf2dc-4741-4574-a42e-47c436aa75b7\",\"type\":\"Title\"},{\"attributes\":{},\"id\":\"7b7ea38e-7001-49cc-bcf4-5a95850a8b14\",\"type\":\"BasicTicker\"},{\"attributes\":{\"below\":[{\"id\":\"29415230-bfc2-46f5-901a-5de60356955b\",\"type\":\"LinearAxis\"},{\"id\":\"f2caf2dc-4741-4574-a42e-47c436aa75b7\",\"type\":\"Title\"}],\"left\":[{\"id\":\"e082b74f-84e4-4804-ab71-9afa5fd29efa\",\"type\":\"LinearAxis\"}],\"renderers\":[{\"id\":\"29415230-bfc2-46f5-901a-5de60356955b\",\"type\":\"LinearAxis\"},{\"id\":\"61f00c3e-6d96-4b60-ae16-1c45dcd6936e\",\"type\":\"Grid\"},{\"id\":\"e082b74f-84e4-4804-ab71-9afa5fd29efa\",\"type\":\"LinearAxis\"},{\"id\":\"a1542053-91ec-4581-a6bd-6690a85768c0\",\"type\":\"Grid\"},{\"id\":\"bd889ada-8a67-4326-a1a7-cca3954f4ab5\",\"type\":\"BoxAnnotation\"},{\"id\":\"f2caf2dc-4741-4574-a42e-47c436aa75b7\",\"type\":\"Title\"},{\"id\":\"e050f30f-2991-41a6-ac34-849c9d9c6698\",\"type\":\"GlyphRenderer\"}],\"title\":{\"id\":\"34bcc97e-1c54-47a8-8d6f-19cc9d15b248\",\"type\":\"Title\"},\"title_location\":\"left\",\"toolbar\":{\"id\":\"13efbee8-983c-42b5-b7cb-d909272155e6\",\"type\":\"Toolbar\"},\"x_range\":{\"id\":\"f9cd2abc-0f19-4328-82fa-e06e9d489072\",\"type\":\"DataRange1d\"},\"x_scale\":{\"id\":\"39b35b93-9d05-4875-ba5d-086da3a30a4a\",\"type\":\"LinearScale\"},\"y_range\":{\"id\":\"1dd576b4-0687-4042-b92f-d902a6d17e78\",\"type\":\"DataRange1d\"},\"y_scale\":{\"id\":\"888cadfd-804e-475c-9bec-49e797d5c7bb\",\"type\":\"LinearScale\"}},\"id\":\"63b15662-8d51-460f-86a2-8897425a2a67\",\"subtype\":\"Figure\",\"type\":\"Plot\"},{\"attributes\":{\"callback\":null},\"id\":\"f9cd2abc-0f19-4328-82fa-e06e9d489072\",\"type\":\"DataRange1d\"},{\"attributes\":{},\"id\":\"8a6a5dd7-993e-4e7e-a503-0bacafee669a\",\"type\":\"SaveTool\"},{\"attributes\":{\"overlay\":{\"id\":\"bd889ada-8a67-4326-a1a7-cca3954f4ab5\",\"type\":\"BoxAnnotation\"}},\"id\":\"aa305576-0d93-4554-9e81-ea568fac32b3\",\"type\":\"BoxZoomTool\"},{\"attributes\":{\"plot\":null,\"text\":\"sepal_width\"},\"id\":\"34bcc97e-1c54-47a8-8d6f-19cc9d15b248\",\"type\":\"Title\"},{\"attributes\":{\"formatter\":{\"id\":\"312b9de3-8520-49cc-bfb3-8a88f6b02a87\",\"type\":\"BasicTickFormatter\"},\"plot\":{\"id\":\"63b15662-8d51-460f-86a2-8897425a2a67\",\"subtype\":\"Figure\",\"type\":\"Plot\"},\"ticker\":{\"id\":\"7b7ea38e-7001-49cc-bcf4-5a95850a8b14\",\"type\":\"BasicTicker\"}},\"id\":\"29415230-bfc2-46f5-901a-5de60356955b\",\"type\":\"LinearAxis\"},{\"attributes\":{\"fill_color\":{\"field\":\"fill_color\"},\"height\":{\"field\":\"height\",\"units\":\"data\"},\"line_color\":{\"field\":\"line_color\"},\"width\":{\"field\":\"width\",\"units\":\"data\"},\"x\":{\"field\":\"x\"},\"y\":{\"field\":\"y\"}},\"id\":\"3a2cbb30-20e2-4008-a117-65289aae0f64\",\"type\":\"Oval\"},{\"attributes\":{},\"id\":\"43302536-f503-4288-a3d4-3432d11f1ce6\",\"type\":\"ResetTool\"},{\"attributes\":{\"source\":{\"id\":\"93792b7c-917a-427b-9e79-c16b8eb6013d\",\"type\":\"ColumnDataSource\"}},\"id\":\"f80c827c-ce2b-4744-a6c5-41bf020cdeb1\",\"type\":\"CDSView\"},{\"attributes\":{\"bottom_units\":\"screen\",\"fill_alpha\":{\"value\":0.5},\"fill_color\":{\"value\":\"lightgrey\"},\"left_units\":\"screen\",\"level\":\"overlay\",\"line_alpha\":{\"value\":1.0},\"line_color\":{\"value\":\"black\"},\"line_dash\":[4,4],\"line_width\":{\"value\":2},\"plot\":null,\"render_mode\":\"css\",\"right_units\":\"screen\",\"top_units\":\"screen\"},\"id\":\"bd889ada-8a67-4326-a1a7-cca3954f4ab5\",\"type\":\"BoxAnnotation\"},{\"attributes\":{},\"id\":\"2027c47b-75aa-4415-a13b-dcf405f649bc\",\"type\":\"BasicTickFormatter\"},{\"attributes\":{},\"id\":\"f9a96c42-44b3-468d-98b2-2eed8c10254e\",\"type\":\"HelpTool\"},{\"attributes\":{\"formatter\":{\"id\":\"2027c47b-75aa-4415-a13b-dcf405f649bc\",\"type\":\"BasicTickFormatter\"},\"plot\":{\"id\":\"63b15662-8d51-460f-86a2-8897425a2a67\",\"subtype\":\"Figure\",\"type\":\"Plot\"},\"ticker\":{\"id\":\"905b1b2b-0066-4580-a1dc-3de81c531888\",\"type\":\"BasicTicker\"}},\"id\":\"e082b74f-84e4-4804-ab71-9afa5fd29efa\",\"type\":\"LinearAxis\"},{\"attributes\":{\"active_drag\":\"auto\",\"active_inspect\":\"auto\",\"active_scroll\":\"auto\",\"active_tap\":\"auto\",\"tools\":[{\"id\":\"2cf18301-afdc-4186-8491-bb4ca5efadd6\",\"type\":\"PanTool\"},{\"id\":\"3d24341f-4b62-4f4e-a42b-2182ea15a6a1\",\"type\":\"WheelZoomTool\"},{\"id\":\"aa305576-0d93-4554-9e81-ea568fac32b3\",\"type\":\"BoxZoomTool\"},{\"id\":\"8a6a5dd7-993e-4e7e-a503-0bacafee669a\",\"type\":\"SaveTool\"},{\"id\":\"43302536-f503-4288-a3d4-3432d11f1ce6\",\"type\":\"ResetTool\"},{\"id\":\"f9a96c42-44b3-468d-98b2-2eed8c10254e\",\"type\":\"HelpTool\"}]},\"id\":\"13efbee8-983c-42b5-b7cb-d909272155e6\",\"type\":\"Toolbar\"},{\"attributes\":{\"data_source\":{\"id\":\"93792b7c-917a-427b-9e79-c16b8eb6013d\",\"type\":\"ColumnDataSource\"},\"glyph\":{\"id\":\"3a2cbb30-20e2-4008-a117-65289aae0f64\",\"type\":\"Oval\"},\"hover_glyph\":null,\"muted_glyph\":null,\"nonselection_glyph\":{\"id\":\"5e395677-3199-4d66-832f-34502d70d982\",\"type\":\"Oval\"},\"selection_glyph\":null,\"view\":{\"id\":\"f80c827c-ce2b-4744-a6c5-41bf020cdeb1\",\"type\":\"CDSView\"}},\"id\":\"e050f30f-2991-41a6-ac34-849c9d9c6698\",\"type\":\"GlyphRenderer\"},{\"attributes\":{\"dimension\":1,\"plot\":{\"id\":\"63b15662-8d51-460f-86a2-8897425a2a67\",\"subtype\":\"Figure\",\"type\":\"Plot\"},\"ticker\":{\"id\":\"905b1b2b-0066-4580-a1dc-3de81c531888\",\"type\":\"BasicTicker\"}},\"id\":\"a1542053-91ec-4581-a6bd-6690a85768c0\",\"type\":\"Grid\"},{\"attributes\":{\"callback\":null},\"id\":\"1dd576b4-0687-4042-b92f-d902a6d17e78\",\"type\":\"DataRange1d\"},{\"attributes\":{},\"id\":\"3d24341f-4b62-4f4e-a42b-2182ea15a6a1\",\"type\":\"WheelZoomTool\"},{\"attributes\":{\"fill_alpha\":{\"value\":0.1},\"fill_color\":{\"value\":\"#1f77b4\"},\"height\":{\"field\":\"height\",\"units\":\"data\"},\"line_alpha\":{\"value\":0.1},\"line_color\":{\"value\":\"#1f77b4\"},\"width\":{\"field\":\"width\",\"units\":\"data\"},\"x\":{\"field\":\"x\"},\"y\":{\"field\":\"y\"}},\"id\":\"5e395677-3199-4d66-832f-34502d70d982\",\"type\":\"Oval\"},{\"attributes\":{\"plot\":{\"id\":\"63b15662-8d51-460f-86a2-8897425a2a67\",\"subtype\":\"Figure\",\"type\":\"Plot\"},\"ticker\":{\"id\":\"7b7ea38e-7001-49cc-bcf4-5a95850a8b14\",\"type\":\"BasicTicker\"}},\"id\":\"61f00c3e-6d96-4b60-ae16-1c45dcd6936e\",\"type\":\"Grid\"},{\"attributes\":{},\"id\":\"888cadfd-804e-475c-9bec-49e797d5c7bb\",\"type\":\"LinearScale\"},{\"attributes\":{\"callback\":null,\"column_names\":[\"x\",\"y\",\"width\",\"height\",\"fill_color\",\"line_color\"],\"data\":{\"fill_color\":[\"blue\",\"blue\",\"blue\",\"blue\",\"blue\",\"blue\",\"blue\",\"blue\",\"blue\",\"blue\",\"blue\",\"blue\",\"blue\",\"blue\",\"blue\",\"blue\",\"blue\",\"blue\",\"blue\",\"blue\",\"blue\",\"blue\",\"blue\",\"blue\",\"blue\",\"blue\",\"blue\",\"blue\",\"blue\",\"blue\",\"blue\",\"blue\",\"blue\",\"blue\",\"blue\",\"blue\",\"blue\",\"blue\",\"blue\",\"blue\",\"blue\",\"blue\",\"blue\",\"blue\",\"blue\",\"blue\",\"blue\",\"blue\",\"blue\",\"blue\",\"green\",\"green\",\"green\",\"green\",\"green\",\"green\",\"green\",\"green\",\"green\",\"green\",\"green\",\"green\",\"green\",\"green\",\"green\",\"green\",\"green\",\"green\",\"green\",\"green\",\"green\",\"green\",\"green\",\"green\",\"green\",\"green\",\"green\",\"green\",\"green\",\"green\",\"green\",\"green\",\"green\",\"green\",\"green\",\"green\",\"green\",\"green\",\"green\",\"green\",\"green\",\"green\",\"green\",\"green\",\"green\",\"green\",\"green\",\"green\",\"green\",\"green\",\"pink\",\"pink\",\"pink\",\"pink\",\"pink\",\"pink\",\"pink\",\"pink\",\"pink\",\"pink\",\"pink\",\"pink\",\"pink\",\"pink\",\"pink\",\"pink\",\"pink\",\"pink\",\"pink\",\"pink\",\"pink\",\"pink\",\"pink\",\"pink\",\"pink\",\"pink\",\"pink\",\"pink\",\"pink\",\"pink\",\"pink\",\"pink\",\"pink\",\"pink\",\"pink\",\"pink\",\"pink\",\"pink\",\"pink\",\"pink\",\"pink\",\"pink\",\"pink\",\"pink\",\"pink\",\"pink\",\"pink\",\"pink\",\"pink\",\"pink\"],\"height\":{\"__ndarray__\":\"eOkmMQisnD946SYxCKycPzq0yHa+n5o/uB6F61G4nj946SYxCKycP5zEILByaKE/eOkmMQisnD+4HoXrUbieP3jpJjEIrJw/uB6F61G4nj+4HoXrUbieP/yp8dJNYqA/eOkmMQisnD+7SQwCK4eWP/p+arx0k5g/uB6F61G4nj86tMh2vp+aP3jpJjEIrJw/nMQgsHJooT+4HoXrUbieP5zEILByaKE/uB6F61G4nj97FK5H4XqUP5zEILByaKE/2/l+arx0oz/8qfHSTWKgP/yp8dJNYqA/uB6F61G4nj946SYxCKycP/yp8dJNYqA//Knx0k1ioD+4HoXrUbieP7gehetRuJ4/eOkmMQisnD+4HoXrUbieP/p+arx0k5g/OrTIdr6fmj946SYxCKycPzq0yHa+n5o/uB6F61G4nj86tMh2vp+aPzq0yHa+n5o/OrTIdr6fmj/8qfHSTWKgP9v5fmq8dKM/eOkmMQisnD/8qfHSTWKgP3jpJjEIrJw/uB6F61G4nj946SYxCKycP6rx0k1iELg/CtejcD0Ktz9KDAIrhxa5P3sUrkfherQ/WmQ730+Ntz8K16NwPQq3P6rx0k1iELg/TDeJQWDlsD9aZDvfT423PyuHFtnO97M/7FG4HoXrsT8bL90kBoG1P3sUrkfherQ/qvHSTWIQuD8830+Nl26yP7tJDAIrh7Y/CtejcD0Ktz/KoUW28/20PwrXo3A9Crc/K4cW2c73sz/6fmq8dJO4P3sUrkfherQ/SgwCK4cWuT+q8dJNYhC4P2q8dJMYBLY/u0kMAiuHtj/6fmq8dJO4P5qZmZmZmbk/CtejcD0Ktz/sUbgeheuxP9v5fmq8dLM/jGzn+6nxsj8rhxbZzvezP+kmMQisHLo/CtejcD0Ktz8K16NwPQq3P6rx0k1iELg/u0kMAiuHtj/KoUW28/20P3sUrkfherQ/u0kMAiuHtj9aZDvfT423P3sUrkfherQ/TDeJQWDlsD8bL90kBoG1Pxsv3SQGgbU/Gy/dJAaBtT9qvHSTGAS2P7gehetRuK4/yqFFtvP9tD+4HoXrUbi+P+kmMQisHLo/aZHtfD81vj946SYxCKy8PxgEVg4tsr0/TDeJQWDlwD8K16NwPQq3P1TjpZvEIMA/GARWDi2yvT8IrBxaZDu/P+kmMQisHLo/iUFg5dAiuz8pXI/C9Si8P5qZmZmZmbk/6SYxCKwcuj+JQWDl0CK7Pylcj8L1KLw/9P3UeOkmwT9Ei2zn+6nBP5qZmZmZmbk/yXa+nxovvT9KDAIrhxa5P/T91HjpJsE/SgwCK4cWuT/Jdr6fGi+9P7gehetRuL4/+n5qvHSTuD9KDAIrhxa5P3jpJjEIrLw/GARWDi2yvT8IrBxaZDu/P/yp8dJNYsA/eOkmMQisvD/pJjEIrBy6P3jpJjEIrLw/CKwcWmQ7vz946SYxCKy8Pylcj8L1KLw/+n5qvHSTuD/azvdT46W7P3jpJjEIrLw/6SYxCKwcuj/pJjEIrBy6P2mR7Xw/Nb4/yXa+nxovvT86tMh2vp+6P5qZmZmZmbk/OrTIdr6fuj/azvdT46W7P+kmMQisHLo/\",\"dtype\":\"float64\",\"shape\":[150]},\"line_color\":[\"blue\",\"blue\",\"blue\",\"blue\",\"blue\",\"blue\",\"blue\",\"blue\",\"blue\",\"blue\",\"blue\",\"blue\",\"blue\",\"blue\",\"blue\",\"blue\",\"blue\",\"blue\",\"blue\",\"blue\",\"blue\",\"blue\",\"blue\",\"blue\",\"blue\",\"blue\",\"blue\",\"blue\",\"blue\",\"blue\",\"blue\",\"blue\",\"blue\",\"blue\",\"blue\",\"blue\",\"blue\",\"blue\",\"blue\",\"blue\",\"blue\",\"blue\",\"blue\",\"blue\",\"blue\",\"blue\",\"blue\",\"blue\",\"blue\",\"blue\",\"green\",\"green\",\"green\",\"green\",\"green\",\"green\",\"green\",\"green\",\"green\",\"green\",\"green\",\"green\",\"green\",\"green\",\"green\",\"green\",\"green\",\"green\",\"green\",\"green\",\"green\",\"green\",\"green\",\"green\",\"green\",\"green\",\"green\",\"green\",\"green\",\"green\",\"green\",\"green\",\"green\",\"green\",\"green\",\"green\",\"green\",\"green\",\"green\",\"green\",\"green\",\"green\",\"green\",\"green\",\"green\",\"green\",\"green\",\"green\",\"green\",\"green\",\"pink\",\"pink\",\"pink\",\"pink\",\"pink\",\"pink\",\"pink\",\"pink\",\"pink\",\"pink\",\"pink\",\"pink\",\"pink\",\"pink\",\"pink\",\"pink\",\"pink\",\"pink\",\"pink\",\"pink\",\"pink\",\"pink\",\"pink\",\"pink\",\"pink\",\"pink\",\"pink\",\"pink\",\"pink\",\"pink\",\"pink\",\"pink\",\"pink\",\"pink\",\"pink\",\"pink\",\"pink\",\"pink\",\"pink\",\"pink\",\"pink\",\"pink\",\"pink\",\"pink\",\"pink\",\"pink\",\"pink\",\"pink\",\"pink\",\"pink\"],\"width\":{\"__ndarray__\":\"/Knx0k1icD/8qfHSTWJwP/yp8dJNYnA//Knx0k1icD/8qfHSTWJwP/yp8dJNYoA/+n5qvHSTeD/8qfHSTWJwP/yp8dJNYnA//Knx0k1iYD/8qfHSTWJwP/yp8dJNYnA//Knx0k1iYD/8qfHSTWJgP/yp8dJNYnA//Knx0k1igD/8qfHSTWKAP/p+arx0k3g/+n5qvHSTeD/6fmq8dJN4P/yp8dJNYnA//Knx0k1igD/8qfHSTWJwP3sUrkfheoQ//Knx0k1icD/8qfHSTWJwP/yp8dJNYoA//Knx0k1icD/8qfHSTWJwP/yp8dJNYnA//Knx0k1icD/8qfHSTWKAP/yp8dJNYmA//Knx0k1icD/8qfHSTWJwP/yp8dJNYnA//Knx0k1icD/8qfHSTWJgP/yp8dJNYnA//Knx0k1icD/6fmq8dJN4P/p+arx0k3g//Knx0k1icD/6fmq8dJOIP/yp8dJNYoA/+n5qvHSTeD/8qfHSTWJwP/yp8dJNYnA//Knx0k1icD/8qfHSTWJwP3jpJjEIrJw/uB6F61G4nj+4HoXrUbiePzq0yHa+n5o/uB6F61G4nj86tMh2vp+aP/yp8dJNYqA/exSuR+F6lD86tMh2vp+aP3jpJjEIrJw/exSuR+F6lD+4HoXrUbieP3sUrkfhepQ/eOkmMQisnD86tMh2vp+aP3jpJjEIrJw/uB6F61G4nj97FK5H4XqUP7gehetRuJ4/u0kMAiuHlj8830+Nl26iPzq0yHa+n5o/uB6F61G4nj/6fmq8dJOYPzq0yHa+n5o/eOkmMQisnD946SYxCKycP5zEILByaKE/uB6F61G4nj97FK5H4XqUP7tJDAIrh5Y/exSuR+F6lD/6fmq8dJOYP/yp8dJNYqA/uB6F61G4nj/8qfHSTWKgP7gehetRuJ4/OrTIdr6fmj86tMh2vp+aPzq0yHa+n5o/+n5qvHSTmD946SYxCKycP/p+arx0k5g/exSuR+F6lD86tMh2vp+aP/p+arx0k5g/OrTIdr6fmj86tMh2vp+aP7tJDAIrh5Y/OrTIdr6fmj+amZmZmZmpP9v5fmq8dKM/Gy/dJAaBpT8830+Nl26iP7tJDAIrh6Y/Gy/dJAaBpT+cxCCwcmihPzzfT42XbqI/PN9PjZduoj+amZmZmZmpP3sUrkfheqQ/2/l+arx0oz8bL90kBoGlP3sUrkfheqQ/+n5qvHSTqD9aZDvfT42nPzzfT42XbqI/u0kMAiuHpj9aZDvfT42nP7gehetRuJ4/WmQ730+Npz97FK5H4XqkP3sUrkfheqQ/PN9PjZduoj8bL90kBoGlPzzfT42XbqI/PN9PjZduoj8830+Nl26iPxsv3SQGgaU//Knx0k1ioD/b+X5qvHSjP3sUrkfheqQ/u0kMAiuHpj+4HoXrUbieP3jpJjEIrJw/WmQ730+Npz/6fmq8dJOoPzzfT42XbqI/PN9PjZduoj8bL90kBoGlP/p+arx0k6g/WmQ730+Npz/b+X5qvHSjP1pkO99Pjac/mpmZmZmZqT9aZDvfT42nP9v5fmq8dKM/exSuR+F6pD9aZDvfT42nPzzfT42XbqI/\",\"dtype\":\"float64\",\"shape\":[150]},\"x\":{\"__ndarray__\":\"ZmZmZmZmFECamZmZmZkTQM3MzMzMzBJAZmZmZmZmEkAAAAAAAAAUQJqZmZmZmRVAZmZmZmZmEkAAAAAAAAAUQJqZmZmZmRFAmpmZmZmZE0CamZmZmZkVQDMzMzMzMxNAMzMzMzMzE0AzMzMzMzMRQDMzMzMzMxdAzczMzMzMFkCamZmZmZkVQGZmZmZmZhRAzczMzMzMFkBmZmZmZmYUQJqZmZmZmRVAZmZmZmZmFEBmZmZmZmYSQGZmZmZmZhRAMzMzMzMzE0AAAAAAAAAUQAAAAAAAABRAzczMzMzMFEDNzMzMzMwUQM3MzMzMzBJAMzMzMzMzE0CamZmZmZkVQM3MzMzMzBRAAAAAAAAAFkCamZmZmZkTQAAAAAAAABRAAAAAAAAAFkCamZmZmZkTQJqZmZmZmRFAZmZmZmZmFEAAAAAAAAAUQAAAAAAAABJAmpmZmZmZEUAAAAAAAAAUQGZmZmZmZhRAMzMzMzMzE0BmZmZmZmYUQGZmZmZmZhJAMzMzMzMzFUAAAAAAAAAUQAAAAAAAABxAmpmZmZmZGUCamZmZmZkbQAAAAAAAABZAAAAAAAAAGkDNzMzMzMwWQDMzMzMzMxlAmpmZmZmZE0BmZmZmZmYaQM3MzMzMzBRAAAAAAAAAFECamZmZmZkXQAAAAAAAABhAZmZmZmZmGEBmZmZmZmYWQM3MzMzMzBpAZmZmZmZmFkAzMzMzMzMXQM3MzMzMzBhAZmZmZmZmFkCamZmZmZkXQGZmZmZmZhhAMzMzMzMzGUBmZmZmZmYYQJqZmZmZmRlAZmZmZmZmGkAzMzMzMzMbQM3MzMzMzBpAAAAAAAAAGEDNzMzMzMwWQAAAAAAAABZAAAAAAAAAFkAzMzMzMzMXQAAAAAAAABhAmpmZmZmZFUAAAAAAAAAYQM3MzMzMzBpAMzMzMzMzGUBmZmZmZmYWQAAAAAAAABZAAAAAAAAAFkBmZmZmZmYYQDMzMzMzMxdAAAAAAAAAFEBmZmZmZmYWQM3MzMzMzBZAzczMzMzMFkDNzMzMzMwYQGZmZmZmZhRAzczMzMzMFkAzMzMzMzMZQDMzMzMzMxdAZmZmZmZmHEAzMzMzMzMZQAAAAAAAABpAZmZmZmZmHkCamZmZmZkTQDMzMzMzMx1AzczMzMzMGkDNzMzMzMwcQAAAAAAAABpAmpmZmZmZGUAzMzMzMzMbQM3MzMzMzBZAMzMzMzMzF0CamZmZmZkZQAAAAAAAABpAzczMzMzMHkDNzMzMzMweQAAAAAAAABhAmpmZmZmZG0BmZmZmZmYWQM3MzMzMzB5AMzMzMzMzGUDNzMzMzMwaQM3MzMzMzBxAzczMzMzMGEBmZmZmZmYYQJqZmZmZmRlAzczMzMzMHECamZmZmZkdQJqZmZmZmR9AmpmZmZmZGUAzMzMzMzMZQGZmZmZmZhhAzczMzMzMHkAzMzMzMzMZQJqZmZmZmRlAAAAAAAAAGECamZmZmZkbQM3MzMzMzBpAmpmZmZmZG0AzMzMzMzMXQDMzMzMzMxtAzczMzMzMGkDNzMzMzMwaQDMzMzMzMxlAAAAAAAAAGkDNzMzMzMwYQJqZmZmZmRdA\",\"dtype\":\"float64\",\"shape\":[150]},\"y\":{\"__ndarray__\":\"AAAAAAAADEAAAAAAAAAIQJqZmZmZmQlAzczMzMzMCEDNzMzMzMwMQDMzMzMzMw9AMzMzMzMzC0AzMzMzMzMLQDMzMzMzMwdAzczMzMzMCECamZmZmZkNQDMzMzMzMwtAAAAAAAAACEAAAAAAAAAIQAAAAAAAABBAmpmZmZmZEUAzMzMzMzMPQAAAAAAAAAxAZmZmZmZmDkBmZmZmZmYOQDMzMzMzMwtAmpmZmZmZDUDNzMzMzMwMQGZmZmZmZgpAMzMzMzMzC0AAAAAAAAAIQDMzMzMzMwtAAAAAAAAADEAzMzMzMzMLQJqZmZmZmQlAzczMzMzMCEAzMzMzMzMLQGZmZmZmZhBAzczMzMzMEEDNzMzMzMwIQJqZmZmZmQlAAAAAAAAADEDNzMzMzMwMQAAAAAAAAAhAMzMzMzMzC0AAAAAAAAAMQGZmZmZmZgJAmpmZmZmZCUAAAAAAAAAMQGZmZmZmZg5AAAAAAAAACEBmZmZmZmYOQJqZmZmZmQlAmpmZmZmZDUBmZmZmZmYKQJqZmZmZmQlAmpmZmZmZCUDNzMzMzMwIQGZmZmZmZgJAZmZmZmZmBkBmZmZmZmYGQGZmZmZmZgpAMzMzMzMzA0AzMzMzMzMHQJqZmZmZmQVAAAAAAAAAAEAAAAAAAAAIQJqZmZmZmQFAMzMzMzMzB0AzMzMzMzMHQM3MzMzMzAhAAAAAAAAACECamZmZmZkFQJqZmZmZmQFAAAAAAAAABECamZmZmZkJQGZmZmZmZgZAAAAAAAAABEBmZmZmZmYGQDMzMzMzMwdAAAAAAAAACEBmZmZmZmYGQAAAAAAAAAhAMzMzMzMzB0DNzMzMzMwEQDMzMzMzMwNAMzMzMzMzA0CamZmZmZkFQJqZmZmZmQVAAAAAAAAACEAzMzMzMzMLQM3MzMzMzAhAZmZmZmZmAkAAAAAAAAAIQAAAAAAAAARAzczMzMzMBEAAAAAAAAAIQM3MzMzMzARAZmZmZmZmAkCamZmZmZkFQAAAAAAAAAhAMzMzMzMzB0AzMzMzMzMHQAAAAAAAAARAZmZmZmZmBkBmZmZmZmYKQJqZmZmZmQVAAAAAAAAACEAzMzMzMzMHQAAAAAAAAAhAAAAAAAAACEAAAAAAAAAEQDMzMzMzMwdAAAAAAAAABEDNzMzMzMwMQJqZmZmZmQlAmpmZmZmZBUAAAAAAAAAIQAAAAAAAAARAZmZmZmZmBkCamZmZmZkJQAAAAAAAAAhAZmZmZmZmDkDNzMzMzMwEQJqZmZmZmQFAmpmZmZmZCUBmZmZmZmYGQGZmZmZmZgZAmpmZmZmZBUBmZmZmZmYKQJqZmZmZmQlAZmZmZmZmBkAAAAAAAAAIQGZmZmZmZgZAAAAAAAAACEBmZmZmZmYGQGZmZmZmZg5AZmZmZmZmBkBmZmZmZmYGQM3MzMzMzARAAAAAAAAACEAzMzMzMzMLQM3MzMzMzAhAAAAAAAAACEDNzMzMzMwIQM3MzMzMzAhAzczMzMzMCECamZmZmZkFQJqZmZmZmQlAZmZmZmZmCkAAAAAAAAAIQAAAAAAAAARAAAAAAAAACEAzMzMzMzMLQAAAAAAAAAhA\",\"dtype\":\"float64\",\"shape\":[150]}}},\"id\":\"93792b7c-917a-427b-9e79-c16b8eb6013d\",\"type\":\"ColumnDataSource\"},{\"attributes\":{},\"id\":\"312b9de3-8520-49cc-bfb3-8a88f6b02a87\",\"type\":\"BasicTickFormatter\"},{\"attributes\":{},\"id\":\"905b1b2b-0066-4580-a1dc-3de81c531888\",\"type\":\"BasicTicker\"},{\"attributes\":{},\"id\":\"39b35b93-9d05-4875-ba5d-086da3a30a4a\",\"type\":\"LinearScale\"},{\"attributes\":{},\"id\":\"2cf18301-afdc-4186-8491-bb4ca5efadd6\",\"type\":\"PanTool\"}],\"root_ids\":[\"63b15662-8d51-460f-86a2-8897425a2a67\"]},\"title\":\"Bokeh Application\",\"version\":\"0.12.14\"}};\n",
       "  var render_items = [{\"docid\":\"9204977f-c9b4-4a26-b780-89da99b26c19\",\"elementid\":\"359eb35a-d01c-40e6-86ca-66f28a29d37f\",\"modelid\":\"63b15662-8d51-460f-86a2-8897425a2a67\"}];\n",
       "  root.Bokeh.embed.embed_items_notebook(docs_json, render_items);\n",
       "\n",
       "  }\n",
       "  if (root.Bokeh !== undefined) {\n",
       "    embed_document(root);\n",
       "  } else {\n",
       "    var attempts = 0;\n",
       "    var timer = setInterval(function(root) {\n",
       "      if (root.Bokeh !== undefined) {\n",
       "        embed_document(root);\n",
       "        clearInterval(timer);\n",
       "      }\n",
       "      attempts++;\n",
       "      if (attempts > 100) {\n",
       "        console.log(\"Bokeh: ERROR: Unable to run BokehJS code because BokehJS library is missing\")\n",
       "        clearInterval(timer);\n",
       "      }\n",
       "    }, 10, root)\n",
       "  }\n",
       "})(window);"
      ],
      "application/vnd.bokehjs_exec.v0+json": ""
     },
     "metadata": {
      "application/vnd.bokehjs_exec.v0+json": {
       "id": "63b15662-8d51-460f-86a2-8897425a2a67"
      }
     },
     "output_type": "display_data"
    }
   ],
   "source": [
    "from bokeh.models import Title\n",
    "p = figure(title=\"sepal_width\", title_location='left')\n",
    "p.add_layout(Title(text=\"sepal length\", align=\"center\"), \"below\")\n",
    "p.oval(flowers.sepal_length, flowers.sepal_width, \n",
    "       width=flowers.petal_width / 50.0, height=flowers.petal_length / 50.0,\n",
    "       color=flowers.color)\n",
    "show(p)"
   ]
  },
  {
   "cell_type": "markdown",
   "metadata": {},
   "source": [
    "# Creating a package\n",
    "\n",
    "https://catalog.data.gov/dataset/commodity-flow-survey"
   ]
  },
  {
   "cell_type": "code",
   "execution_count": null,
   "metadata": {},
   "outputs": [],
   "source": [
    "!mv /Volumes/exlinux/Users/catherine/Downloads/cfs_2012_pumf_csv.zip ."
   ]
  },
  {
   "cell_type": "code",
   "execution_count": null,
   "metadata": {},
   "outputs": [],
   "source": [
    "!unzip cfs_2012_pumf_csv.zip"
   ]
  },
  {
   "cell_type": "code",
   "execution_count": null,
   "metadata": {},
   "outputs": [],
   "source": [
    "ls"
   ]
  },
  {
   "cell_type": "code",
   "execution_count": null,
   "metadata": {},
   "outputs": [],
   "source": [
    "!head cfs_2012_pumf_csv.txt"
   ]
  },
  {
   "cell_type": "code",
   "execution_count": null,
   "metadata": {},
   "outputs": [],
   "source": [
    "!rm -rf commodity_flow/"
   ]
  },
  {
   "cell_type": "code",
   "execution_count": null,
   "metadata": {},
   "outputs": [],
   "source": [
    "mkdir commodity_flow"
   ]
  },
  {
   "cell_type": "code",
   "execution_count": null,
   "metadata": {},
   "outputs": [],
   "source": [
    "cp cfs_2012_pumf_csv.txt commodity_flow/commodity_flow_2012.csv"
   ]
  },
  {
   "cell_type": "code",
   "execution_count": null,
   "metadata": {},
   "outputs": [],
   "source": [
    "!quilt generate commodity_flow"
   ]
  },
  {
   "cell_type": "code",
   "execution_count": 29,
   "metadata": {},
   "outputs": [
    {
     "name": "stdout",
     "output_type": "stream",
     "text": [
      "README.md                codes.xlsx               commodity_flow_2012.csv\r\n",
      "build.yml                \u001b[1m\u001b[34mcommodity_codes\u001b[m\u001b[m/\r\n"
     ]
    }
   ],
   "source": [
    "ls commodity_flow/"
   ]
  },
  {
   "cell_type": "code",
   "execution_count": 30,
   "metadata": {},
   "outputs": [
    {
     "name": "stdout",
     "output_type": "stream",
     "text": [
      "contents:\r\n",
      "  commodity_flow_2012:\r\n",
      "    file: commodity_flow_2012.csv\r\n",
      "  data_dictionary:\r\n",
      "    file: \"commodity_codes/Data Dictionary-Table 1.csv\"\r\n",
      "    kwargs:\r\n",
      "      skiprows: [0,]\r\n",
      "  cfs_areas:\r\n",
      "    file: \"commodity_codes/App A1-Table 1.csv\"\r\n",
      "    kwargs:\r\n",
      "      skiprows: [0,]\r\n",
      "  naics:\r\n",
      "    file: \"commodity_codes/App A2-Table 1.csv\"\r\n",
      "    kwargs:\r\n",
      "      skiprows: [0,]\r\n",
      "  sctg:\r\n",
      "    file: \"commodity_codes/App A3-Table 1.csv\"\r\n",
      "    kwargs:\r\n",
      "      skiprows: [0,]\r\n",
      "  transport_codes:\r\n",
      "    file: commodity_codes/mode_transport_codes.csv \r\n",
      "  collapsing:\r\n",
      "    file: commodity_codes/mode_collapsing.csv \r\n",
      "  README:\r\n",
      "    file: README.md\r\n"
     ]
    }
   ],
   "source": [
    "!cat commodity_flow/build.yml"
   ]
  },
  {
   "cell_type": "code",
   "execution_count": null,
   "metadata": {},
   "outputs": [],
   "source": [
    "mv /Volumes/exlinux/Users/catherine/Downloads/cfs_2012_pum_file_users_guide_App_A\\ \\(Jun\\ 2015\\).xlsx ."
   ]
  },
  {
   "cell_type": "code",
   "execution_count": null,
   "metadata": {},
   "outputs": [],
   "source": [
    "!open cfs_2012_pum_file_users_guide_App_A\\ \\(Jun\\ 2015\\).xlsx"
   ]
  },
  {
   "cell_type": "code",
   "execution_count": null,
   "metadata": {},
   "outputs": [],
   "source": [
    "!quilt build catherinedevlin/commodity_flow commodity_flow/build.yml"
   ]
  },
  {
   "cell_type": "markdown",
   "metadata": {},
   "source": [
    "# Use the package"
   ]
  },
  {
   "cell_type": "code",
   "execution_count": null,
   "metadata": {},
   "outputs": [],
   "source": [
    "!quilt install catherinedevlin/commodity_flow"
   ]
  },
  {
   "cell_type": "code",
   "execution_count": null,
   "metadata": {},
   "outputs": [],
   "source": [
    "from importlib import reload"
   ]
  },
  {
   "cell_type": "code",
   "execution_count": null,
   "metadata": {},
   "outputs": [],
   "source": [
    "from quilt.data.catherinedevlin import commodity_flow"
   ]
  },
  {
   "cell_type": "code",
   "execution_count": null,
   "metadata": {},
   "outputs": [],
   "source": [
    "commodity_flow"
   ]
  },
  {
   "cell_type": "code",
   "execution_count": null,
   "metadata": {},
   "outputs": [],
   "source": [
    "naics = commodity_flow.naics()"
   ]
  },
  {
   "cell_type": "code",
   "execution_count": null,
   "metadata": {},
   "outputs": [],
   "source": [
    "naics"
   ]
  },
  {
   "cell_type": "code",
   "execution_count": null,
   "metadata": {},
   "outputs": [],
   "source": [
    "cat \"commodity_flow/commodity_codes/App A4-Table 1.csv\""
   ]
  },
  {
   "cell_type": "code",
   "execution_count": null,
   "metadata": {},
   "outputs": [],
   "source": [
    "flow = commodity_flow.commodity_flow_2012()"
   ]
  },
  {
   "cell_type": "code",
   "execution_count": null,
   "metadata": {},
   "outputs": [],
   "source": [
    "flow"
   ]
  },
  {
   "cell_type": "markdown",
   "metadata": {},
   "source": [
    "# Ship it!\n",
    "\n"
   ]
  },
  {
   "cell_type": "markdown",
   "metadata": {},
   "source": [
    "## [our own repository](https://github.com/quiltdata/quilt/blob/master/registry/README.md)"
   ]
  },
  {
   "cell_type": "code",
   "execution_count": null,
   "metadata": {},
   "outputs": [],
   "source": [
    "!git clone https://github.com/quiltdata/quilt.git ../quilt-repo"
   ]
  },
  {
   "cell_type": "markdown",
   "metadata": {},
   "source": [
    "    docker-compose up\n",
    "    quilt config\n",
    "    \n",
    "http://localhost:5000"
   ]
  },
  {
   "cell_type": "markdown",
   "metadata": {},
   "source": [
    "## [Data2Binder](https://github.com/quiltdata/data2binder)\n",
    "\n",
    "[Binder](https://mybinder.org/)"
   ]
  },
  {
   "cell_type": "markdown",
   "metadata": {},
   "source": [
    "# Questions\n",
    "\n",
    "- Can't you read the README?"
   ]
  },
  {
   "cell_type": "code",
   "execution_count": null,
   "metadata": {},
   "outputs": [],
   "source": [
    "commodity_flow.README"
   ]
  },
  {
   "cell_type": "code",
   "execution_count": null,
   "metadata": {},
   "outputs": [],
   "source": [
    "cat '/Volumes/exlinux/Users/catherine/Library/Application Support/QuiltCli/quilt_packages/objs/60246a58f332c05f9ede6961546482eda8d7279522fc493e847c6510ec17ae5f'"
   ]
  },
  {
   "cell_type": "code",
   "execution_count": null,
   "metadata": {},
   "outputs": [],
   "source": []
  }
 ],
 "metadata": {
  "kernelspec": {
   "display_name": "Python 3",
   "language": "python",
   "name": "python3"
  },
  "language_info": {
   "codemirror_mode": {
    "name": "ipython",
    "version": 3
   },
   "file_extension": ".py",
   "mimetype": "text/x-python",
   "name": "python",
   "nbconvert_exporter": "python",
   "pygments_lexer": "ipython3",
   "version": "3.6.4"
  }
 },
 "nbformat": 4,
 "nbformat_minor": 2
}
