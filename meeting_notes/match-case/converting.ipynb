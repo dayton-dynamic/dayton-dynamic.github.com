{
 "cells": [
  {
   "cell_type": "markdown",
   "id": "574b0343-c002-456b-b9c2-082d5f876681",
   "metadata": {},
   "source": [
    "[PEP386](https://www.python.org/dev/peps/pep-0636/)"
   ]
  },
  {
   "cell_type": "markdown",
   "id": "2f2fcad4-78ba-42e6-aec5-6275b864c6c6",
   "metadata": {},
   "source": [
    "[rst2ipynb](https://github.com/esc/rst2ipynb)"
   ]
  },
  {
   "cell_type": "code",
   "execution_count": 4,
   "id": "5425f60c-d413-4966-a23f-fd08385a9c7e",
   "metadata": {},
   "outputs": [
    {
     "name": "stdout",
     "output_type": "stream",
     "text": [
      "[WARNING] Deprecated: --atx-headers. Use --markdown-headings=atx instead.\n",
      "[WARNING] Deprecated: markdown_github. Use gfm instead.\n",
      "/Users/cdevlin/org/ddl/dayton-dynamic.github.com/meeting_notes/match-case/.venv/bin/rst2ipynb-sageblock-filter:95: UserWarning: continuation prompt not following a python prompt: ... # interpret action, obj\n",
      "  warnings.warn(msg % line)\n"
     ]
    }
   ],
   "source": [
    "!rst2ipynb pep-0636.rst > pep-0636.ipynb"
   ]
  },
  {
   "cell_type": "code",
   "execution_count": 5,
   "id": "e718a933-633f-4859-af5b-7c2f623724b7",
   "metadata": {},
   "outputs": [],
   "source": [
    "cp pep-0636.ipynb pep-0636-enhanced.ipynb"
   ]
  },
  {
   "cell_type": "code",
   "execution_count": null,
   "id": "e756ffe5-5176-42f8-a42d-11d279a07855",
   "metadata": {},
   "outputs": [],
   "source": []
  }
 ],
 "metadata": {
  "kernelspec": {
   "display_name": "Python 3 (ipykernel)",
   "language": "python",
   "name": "python3"
  },
  "language_info": {
   "codemirror_mode": {
    "name": "ipython",
    "version": 3
   },
   "file_extension": ".py",
   "mimetype": "text/x-python",
   "name": "python",
   "nbconvert_exporter": "python",
   "pygments_lexer": "ipython3",
   "version": "3.10.0"
  }
 },
 "nbformat": 4,
 "nbformat_minor": 5
}
