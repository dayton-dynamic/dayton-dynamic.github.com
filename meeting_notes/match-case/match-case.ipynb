{
 "cells": [
  {
   "cell_type": "markdown",
   "id": "18660bde-072e-4adc-9068-78f97d3083b6",
   "metadata": {},
   "source": [
    "# [Structural Pattern Matching](https://www.python.org/dev/peps/pep-0634/)"
   ]
  },
  {
   "cell_type": "code",
   "execution_count": 7,
   "id": "64fbf529-28ff-4aad-9281-c9b768f45e76",
   "metadata": {},
   "outputs": [
    {
     "name": "stdout",
     "output_type": "stream",
     "text": [
      "Collecting black[jupyter]\n",
      "  Downloading black-21.11b1-py3-none-any.whl (155 kB)\n",
      "\u001b[K     |████████████████████████████████| 155 kB 4.2 MB/s eta 0:00:01\n",
      "\u001b[?25hCollecting typing-extensions!=3.10.0.1\n",
      "  Downloading typing_extensions-4.0.0-py3-none-any.whl (22 kB)\n",
      "Collecting click>=7.1.2\n",
      "  Using cached click-8.0.3-py3-none-any.whl (97 kB)\n",
      "Collecting pathspec<1,>=0.9.0\n",
      "  Using cached pathspec-0.9.0-py2.py3-none-any.whl (31 kB)\n",
      "Collecting tomli<2.0.0,>=0.2.6\n",
      "  Downloading tomli-1.2.2-py3-none-any.whl (12 kB)\n",
      "Collecting mypy-extensions>=0.4.3\n",
      "  Using cached mypy_extensions-0.4.3-py2.py3-none-any.whl (4.5 kB)\n",
      "Collecting regex>=2021.4.4\n",
      "  Downloading regex-2021.11.10-cp310-cp310-macosx_10_9_x86_64.whl (288 kB)\n",
      "\u001b[K     |████████████████████████████████| 288 kB 8.6 MB/s eta 0:00:01\n",
      "\u001b[?25hCollecting platformdirs>=2\n",
      "  Downloading platformdirs-2.4.0-py3-none-any.whl (14 kB)\n",
      "Collecting tokenize-rt>=3.2.0\n",
      "  Downloading tokenize_rt-4.2.1-py2.py3-none-any.whl (6.1 kB)\n",
      "Requirement already satisfied: ipython>=7.8.0 in /Users/cdevlin/v/ve/p310/lib/python3.10/site-packages (from black[jupyter]) (7.29.0)\n",
      "Requirement already satisfied: backcall in /Users/cdevlin/v/ve/p310/lib/python3.10/site-packages (from ipython>=7.8.0->black[jupyter]) (0.2.0)\n",
      "Requirement already satisfied: pickleshare in /Users/cdevlin/v/ve/p310/lib/python3.10/site-packages (from ipython>=7.8.0->black[jupyter]) (0.7.5)\n",
      "Requirement already satisfied: decorator in /Users/cdevlin/v/ve/p310/lib/python3.10/site-packages (from ipython>=7.8.0->black[jupyter]) (5.1.0)\n",
      "Requirement already satisfied: pygments in /Users/cdevlin/v/ve/p310/lib/python3.10/site-packages (from ipython>=7.8.0->black[jupyter]) (2.10.0)\n",
      "Requirement already satisfied: prompt-toolkit!=3.0.0,!=3.0.1,<3.1.0,>=2.0.0 in /Users/cdevlin/v/ve/p310/lib/python3.10/site-packages (from ipython>=7.8.0->black[jupyter]) (3.0.22)\n",
      "Requirement already satisfied: pexpect>4.3 in /Users/cdevlin/v/ve/p310/lib/python3.10/site-packages (from ipython>=7.8.0->black[jupyter]) (4.8.0)\n",
      "Requirement already satisfied: traitlets>=4.2 in /Users/cdevlin/v/ve/p310/lib/python3.10/site-packages (from ipython>=7.8.0->black[jupyter]) (5.1.1)\n",
      "Requirement already satisfied: setuptools>=18.5 in /Users/cdevlin/v/ve/p310/lib/python3.10/site-packages (from ipython>=7.8.0->black[jupyter]) (58.2.0)\n",
      "Requirement already satisfied: jedi>=0.16 in /Users/cdevlin/v/ve/p310/lib/python3.10/site-packages (from ipython>=7.8.0->black[jupyter]) (0.18.1)\n",
      "Requirement already satisfied: matplotlib-inline in /Users/cdevlin/v/ve/p310/lib/python3.10/site-packages (from ipython>=7.8.0->black[jupyter]) (0.1.3)\n",
      "Requirement already satisfied: appnope in /Users/cdevlin/v/ve/p310/lib/python3.10/site-packages (from ipython>=7.8.0->black[jupyter]) (0.1.2)\n",
      "Requirement already satisfied: parso<0.9.0,>=0.8.0 in /Users/cdevlin/v/ve/p310/lib/python3.10/site-packages (from jedi>=0.16->ipython>=7.8.0->black[jupyter]) (0.8.2)\n",
      "Requirement already satisfied: ptyprocess>=0.5 in /Users/cdevlin/v/ve/p310/lib/python3.10/site-packages (from pexpect>4.3->ipython>=7.8.0->black[jupyter]) (0.7.0)\n",
      "Requirement already satisfied: wcwidth in /Users/cdevlin/v/ve/p310/lib/python3.10/site-packages (from prompt-toolkit!=3.0.0,!=3.0.1,<3.1.0,>=2.0.0->ipython>=7.8.0->black[jupyter]) (0.2.5)\n",
      "Installing collected packages: typing-extensions, tomli, regex, platformdirs, pathspec, mypy-extensions, click, tokenize-rt, black\n",
      "Successfully installed black-21.11b1 click-8.0.3 mypy-extensions-0.4.3 pathspec-0.9.0 platformdirs-2.4.0 regex-2021.11.10 tokenize-rt-4.2.1 tomli-1.2.2 typing-extensions-4.0.0\n",
      "\u001b[33mWARNING: You are using pip version 21.2.4; however, version 21.3.1 is available.\n",
      "You should consider upgrading via the '/Users/cdevlin/v/ve/p310/bin/python3.10 -m pip install --upgrade pip' command.\u001b[0m\n"
     ]
    }
   ],
   "source": [
    "!pip install black[jupyter]"
   ]
  },
  {
   "cell_type": "markdown",
   "id": "efd4b83c-027e-4fe4-b564-9aa209baf82b",
   "metadata": {},
   "source": [
    "# Old and busted"
   ]
  },
  {
   "cell_type": "code",
   "execution_count": 2,
   "id": "c9268f14-a76c-4fe2-9f3c-dd5f5f64ce4c",
   "metadata": {},
   "outputs": [],
   "source": [
    "def ext(lang):\n",
    "    if lang == \"Python\":\n",
    "        return \".py\"\n",
    "    elif lang == \"Ruby\":\n",
    "        return \".rb\"\n",
    "    elif lang == \"Perl\":\n",
    "        return \".pl\"\n",
    "        case \"Perl 6\":\n",
    "        return \".p6\"\n",
    "    elif lang in (\"JavaScript\", \"ECMAScript\"):\n",
    "        return \".js\"\n",
    "    else:\n",
    "        return \"Language not welcome at DDL\""
   ]
  },
  {
   "cell_type": "code",
   "execution_count": 4,
   "id": "510fb334-cccf-4c49-b1c0-67e6dd71f2ae",
   "metadata": {},
   "outputs": [
    {
     "data": {
      "text/plain": [
       "'.rb'"
      ]
     },
     "execution_count": 4,
     "metadata": {},
     "output_type": "execute_result"
    }
   ],
   "source": [
    "ext(\"Ruby\")"
   ]
  },
  {
   "cell_type": "markdown",
   "id": "a2a2d908-f582-4804-881b-31fa892a7675",
   "metadata": {},
   "source": [
    "# Alternately"
   ]
  },
  {
   "cell_type": "code",
   "execution_count": 5,
   "id": "29fd762e-9e93-41db-8d64-1f851f444fb7",
   "metadata": {},
   "outputs": [],
   "source": [
    "def ext(lang):\n",
    "    return {\n",
    "        \"Python\": \".py\",\n",
    "        \"Ruby\": \".rb\",\n",
    "        \"Perl\": \".pl\",\n",
    "        \"Perl 6\": \".p6\",\n",
    "        \"JavaScript\": \".js\",\n",
    "        \"ECMAScript\": \".js\",\n",
    "    }.get(lang, \"Language not welcome at DDL\")"
   ]
  },
  {
   "cell_type": "code",
   "execution_count": 6,
   "id": "88e368b5-c733-4c84-84be-a41f65b57198",
   "metadata": {},
   "outputs": [
    {
     "data": {
      "text/plain": [
       "'Language not welcome at DDL'"
      ]
     },
     "execution_count": 6,
     "metadata": {},
     "output_type": "execute_result"
    }
   ],
   "source": [
    "ext(\"Java\")"
   ]
  },
  {
   "cell_type": "markdown",
   "id": "e35b621c-f035-4452-9f88-6453633d7230",
   "metadata": {},
   "source": [
    "# New Hotness"
   ]
  },
  {
   "cell_type": "code",
   "execution_count": 2,
   "id": "40d5422d-6ab8-417b-923d-4f82e0d141ca",
   "metadata": {},
   "outputs": [],
   "source": [
    "def ext(lang):\n",
    "    match lang:\n",
    "        case \"Python\":\n",
    "            return \".py\"\n",
    "        case \"Ruby\":\n",
    "            return \".rb\"\n",
    "        case \"Perl\":\n",
    "            return \".pl\"\n",
    "        case \"Perl 6\":\n",
    "            return \".p6\"\n",
    "        case (\"JavaScript\", \"ECMAScript\"):\n",
    "            return \".js\"\n",
    "        case _:\n",
    "            return \"Language not welcome at DDL\""
   ]
  },
  {
   "cell_type": "code",
   "execution_count": 3,
   "id": "3cbd1725-b99c-4f72-be99-4630c755c376",
   "metadata": {},
   "outputs": [
    {
     "data": {
      "text/plain": [
       "'Language not welcome at DDL'"
      ]
     },
     "execution_count": 3,
     "metadata": {},
     "output_type": "execute_result"
    }
   ],
   "source": [
    "ext(\"ECMAScript\")"
   ]
  },
  {
   "cell_type": "markdown",
   "id": "146da7a3-b65d-4693-983d-e824f1486b3b",
   "metadata": {},
   "source": [
    "### Oops!\n",
    "\n",
    "That wasn't actually the right syntax for `\"JavaScript\" | \"ECMAScript\"`"
   ]
  },
  {
   "cell_type": "code",
   "execution_count": 6,
   "id": "f899987a-7f72-4413-ba4b-84043fd5ed82",
   "metadata": {},
   "outputs": [],
   "source": [
    "def ext(lang):\n",
    "    match lang:\n",
    "        case \"Python\":\n",
    "            return \".py\"\n",
    "        case \"Ruby\":\n",
    "            return \".rb\"\n",
    "        case \"Perl\":\n",
    "            return \".pl\"\n",
    "        case \"Perl 6\":\n",
    "            return \".p6\"\n",
    "        case \"JavaScript\" | \"ECMAScript\":\n",
    "            return \".js\"\n",
    "        case _:\n",
    "            return \"Language not welcome at DDL\""
   ]
  },
  {
   "cell_type": "code",
   "execution_count": 8,
   "id": "fa5c4243-8dd8-47e8-abee-806ad63b6cdb",
   "metadata": {},
   "outputs": [
    {
     "data": {
      "text/plain": [
       "'.js'"
      ]
     },
     "execution_count": 8,
     "metadata": {},
     "output_type": "execute_result"
    }
   ],
   "source": [
    "ext('ECMAScript')"
   ]
  },
  {
   "cell_type": "markdown",
   "id": "438d81c0-4a78-4982-ab74-798ada6184eb",
   "metadata": {},
   "source": [
    "# Bored yet?\n",
    "\n",
    "Annoyed?  Offended?"
   ]
  },
  {
   "cell_type": "code",
   "execution_count": 118,
   "id": "9faada39-0e06-43b7-ac3d-24ddf060c4dc",
   "metadata": {},
   "outputs": [],
   "source": [
    "def fn(args):\n",
    "    match args:\n",
    "        case 1:\n",
    "            return 'one'\n",
    "        case 2:\n",
    "            return 'two'\n",
    "        case x:  # this is \"name binding\"\n",
    "            return f'number {x}'"
   ]
  },
  {
   "cell_type": "code",
   "execution_count": 81,
   "id": "68411b1c-9bcb-45c2-9362-7d10a4f5e435",
   "metadata": {},
   "outputs": [
    {
     "data": {
      "text/plain": [
       "'number 6'"
      ]
     },
     "execution_count": 81,
     "metadata": {},
     "output_type": "execute_result"
    }
   ],
   "source": [
    "fn(6)"
   ]
  },
  {
   "cell_type": "markdown",
   "id": "b4a023b0-6790-4510-acba-c3351b605247",
   "metadata": {},
   "source": [
    "Matching the *structure*, and *maybe* also matching constant values"
   ]
  },
  {
   "cell_type": "code",
   "execution_count": 20,
   "id": "90ff0746-e696-4e29-9a27-3c86449ebe7d",
   "metadata": {},
   "outputs": [],
   "source": [
    "import math"
   ]
  },
  {
   "cell_type": "code",
   "execution_count": 3,
   "id": "63a430ac-3461-4c13-8e1a-75b5209a9b5f",
   "metadata": {},
   "outputs": [],
   "source": [
    "def area(*dimensions):\n",
    "    match dimensions:\n",
    "        case [0]:\n",
    "            return \"A point; zero volume\"   \n",
    "        case [l] if l >= 0:  # this is a \"guard\"\n",
    "            return f\"Square {l} x {l}, area {l**2}\"\n",
    "        case [l]:\n",
    "            return \"No negative dimensions, please\"\n",
    "        case [l, w]:  \n",
    "            return f\"Rectangle {l} x {w}, area {l * w}\"             \n",
    "        case [l, w, h]:\n",
    "            return f\"Prism {l} x {w} x {h}, volume {l * w * h}\"\n",
    "        case [*x]:\n",
    "            tot = math.prod(x)\n",
    "            descriptor = ' x '.join(str(y) for y in x)\n",
    "            return f\"{len(x)}-dimensional object {descriptor} = {tot}\"\n",
    "        case _:\n",
    "            return \"I only operate on lists\""
   ]
  },
  {
   "cell_type": "code",
   "execution_count": 4,
   "id": "eb157998-d2ee-4718-9e47-029b913b01fc",
   "metadata": {},
   "outputs": [
    {
     "data": {
      "text/plain": [
       "'A point; zero volume'"
      ]
     },
     "execution_count": 4,
     "metadata": {},
     "output_type": "execute_result"
    }
   ],
   "source": [
    "area(0)"
   ]
  },
  {
   "cell_type": "code",
   "execution_count": 89,
   "id": "9a3e6766-550f-4889-a3a6-c7eae25be729",
   "metadata": {},
   "outputs": [],
   "source": []
  },
  {
   "cell_type": "markdown",
   "id": "217d5d80-b432-40c6-8492-3b62515c3d05",
   "metadata": {},
   "source": [
    "### Dict matching\n",
    "\n",
    "Note extra keys ignored"
   ]
  },
  {
   "cell_type": "code",
   "execution_count": 5,
   "id": "302d68b5-d7b6-4c16-9cc2-7ec3f2e3deff",
   "metadata": {},
   "outputs": [],
   "source": [
    "def classified(itm):\n",
    "    match itm:\n",
    "        case {\"name\": n, \"class\": \"ship\", \"crew\": crew}:\n",
    "            return f\"{n}; crew {crew}\"\n",
    "        case {\"name\": n, \"class\": \"planet\", \"diameter, km\": diam} if diam > 10_000:\n",
    "            return f\"large planet {n}\"      \n",
    "        case {\"name\": n, \"class\": \"planet\", \"diameter, km\": diam}:\n",
    "            return f\"small planet {n}\"    \n",
    "        case {\"name\": n, \"class\": \"droid\"}:  \n",
    "            return f\"droid {n}\"        \n",
    "        case _:\n",
    "            return \"oops\""
   ]
  },
  {
   "cell_type": "code",
   "execution_count": 6,
   "id": "d3a2ce6c-b334-4322-9378-6f99388cfb9b",
   "metadata": {},
   "outputs": [
    {
     "name": "stdout",
     "output_type": "stream",
     "text": [
      "Rogue One; crew 2\n",
      "large planet Lah'mu\n",
      "droid K2SO\n",
      "small planet Scarif\n",
      "large planet Eadu\n"
     ]
    }
   ],
   "source": [
    "things = [\n",
    "    {\"name\": \"Rogue One\", \"class\": \"ship\", \"type\": \"Zeta-class Heavy Cargo Shuttle\", \"crew\": 2, },\n",
    "    {\"name\": \"Lah'mu\", \"class\": \"planet\", \"diameter, km\": 12_618},    \n",
    "    {\"name\": \"K2SO\", \"class\": \"droid\", \"type\": \"KX-series security droid\"},\n",
    "    {\"name\": \"Scarif\", \"class\": \"planet\", \"diameter, km\": 9112},    \n",
    "    {\"name\": \"Eadu\", \"class\": \"planet\", \"diameter, km\": 14_121},    \n",
    "]\n",
    "for itm in things:\n",
    "    print(classified(itm))"
   ]
  },
  {
   "cell_type": "markdown",
   "id": "90b1187f-6cd0-4520-a0ef-4f97627f4c6d",
   "metadata": {},
   "source": [
    "## Object matching\n"
   ]
  },
  {
   "cell_type": "code",
   "execution_count": 9,
   "id": "29c2c41b-a35b-4aa1-b0ef-9d446eb1a35a",
   "metadata": {},
   "outputs": [],
   "source": [
    "from dataclasses import dataclass\n",
    "\n",
    "@dataclass\n",
    "class Ship:\n",
    "    name: str\n",
    "    type_: str \n",
    "    crew: int\n",
    "    \n",
    "@dataclass \n",
    "class Planet:\n",
    "    name: str\n",
    "    diam_km: float\n",
    "    \n",
    "@dataclass\n",
    "class Droid:\n",
    "    name: str\n",
    "    model: str"
   ]
  },
  {
   "cell_type": "code",
   "execution_count": 10,
   "id": "cec506bc-f80c-4ac2-a9e7-f948021fc6dd",
   "metadata": {},
   "outputs": [],
   "source": [
    "def classified(itm):\n",
    "    match itm:\n",
    "        case Ship(s):\n",
    "            return f\"{s.name}; crew {crew.int}\"\n"
   ]
  },
  {
   "cell_type": "code",
   "execution_count": 11,
   "id": "2166ae1f-8a90-419a-adcb-95644ddfc953",
   "metadata": {},
   "outputs": [
    {
     "ename": "AttributeError",
     "evalue": "'str' object has no attribute 'name'",
     "output_type": "error",
     "traceback": [
      "\u001b[0;31m---------------------------------------------------------------------------\u001b[0m",
      "\u001b[0;31mAttributeError\u001b[0m                            Traceback (most recent call last)",
      "\u001b[0;32m/var/folders/j3/77d0lbgd2yv3gmdy08w2zt4c0000gq/T/ipykernel_56072/857098068.py\u001b[0m in \u001b[0;36m<module>\u001b[0;34m\u001b[0m\n\u001b[0;32m----> 1\u001b[0;31m \u001b[0mclassified\u001b[0m\u001b[0;34m(\u001b[0m\u001b[0mShip\u001b[0m\u001b[0;34m(\u001b[0m\u001b[0mname\u001b[0m\u001b[0;34m=\u001b[0m\u001b[0;34m\"Rogue One\"\u001b[0m\u001b[0;34m,\u001b[0m \u001b[0mtype_\u001b[0m\u001b[0;34m=\u001b[0m\u001b[0;34m\"Zeta-class Heavy Cargo Shuttle\"\u001b[0m\u001b[0;34m,\u001b[0m \u001b[0mcrew\u001b[0m\u001b[0;34m=\u001b[0m\u001b[0;36m2\u001b[0m\u001b[0;34m)\u001b[0m\u001b[0;34m)\u001b[0m\u001b[0;34m\u001b[0m\u001b[0;34m\u001b[0m\u001b[0m\n\u001b[0m",
      "\u001b[0;32m/var/folders/j3/77d0lbgd2yv3gmdy08w2zt4c0000gq/T/ipykernel_56072/1671334877.py\u001b[0m in \u001b[0;36mclassified\u001b[0;34m(itm)\u001b[0m\n\u001b[1;32m      2\u001b[0m     \u001b[0mmatch\u001b[0m \u001b[0mitm\u001b[0m\u001b[0;34m:\u001b[0m\u001b[0;34m\u001b[0m\u001b[0;34m\u001b[0m\u001b[0m\n\u001b[1;32m      3\u001b[0m         \u001b[0mcase\u001b[0m \u001b[0mShip\u001b[0m\u001b[0;34m(\u001b[0m\u001b[0ms\u001b[0m\u001b[0;34m)\u001b[0m\u001b[0;34m:\u001b[0m\u001b[0;34m\u001b[0m\u001b[0;34m\u001b[0m\u001b[0m\n\u001b[0;32m----> 4\u001b[0;31m             \u001b[0;32mreturn\u001b[0m \u001b[0;34mf\"{s.name}; crew {crew.int}\"\u001b[0m\u001b[0;34m\u001b[0m\u001b[0;34m\u001b[0m\u001b[0m\n\u001b[0m",
      "\u001b[0;31mAttributeError\u001b[0m: 'str' object has no attribute 'name'"
     ]
    }
   ],
   "source": [
    "classified(Ship(name=\"Rogue One\", type_=\"Zeta-class Heavy Cargo Shuttle\", crew=2))"
   ]
  },
  {
   "cell_type": "code",
   "execution_count": 66,
   "id": "82cd68c2-3aac-41f6-bd28-65c8f0915485",
   "metadata": {},
   "outputs": [],
   "source": [
    "def season(dt):\n",
    "    match (dt.day, dt.month, dt.year):\n",
    "        case (day, 12, year) | (day, 1, year) | (day, 2, year):\n",
    "            print(f'Winter of {year}')\n",
    "        case (day, 3, year) | (day, 4, year) | (day, 5, year):\n",
    "            print(f'Spring of {year}')\n",
    "        case (day, 6, year) | (day, 7, year) | (day, 8, year):\n",
    "            print(f'Summer of {year}')\n",
    "        case (day, _, year):\n",
    "            print(f'Fall of {year}')\n",
    "        case _:\n",
    "            print('Invalid data')\n",
    "\n"
   ]
  },
  {
   "cell_type": "code",
   "execution_count": 67,
   "id": "090b2a3d-99cc-4827-b10f-0f36e4d080d0",
   "metadata": {},
   "outputs": [
    {
     "name": "stdout",
     "output_type": "stream",
     "text": [
      "Spring of 1932\n"
     ]
    }
   ],
   "source": [
    "from datetime import date\n",
    "season(date(1932,4,1))"
   ]
  },
  {
   "cell_type": "code",
   "execution_count": 75,
   "id": "3b848228-873e-4c96-a61a-af3d00937b9f",
   "metadata": {},
   "outputs": [],
   "source": [
    "def sql(command):\n",
    "    match command.lower().split():\n",
    "        case [\"select\", col, \"from\", tbl]:\n",
    "            return {\"action\": \"select\", \"target\": f\"{tbl}.{col}\"}\n",
    "        case [\"insert\", \"into\", tbl, \"values\", *val_list]:\n",
    "            return {\"action\": \"insert\", \"target\": tbl, \"values\": val_list}"
   ]
  },
  {
   "cell_type": "code",
   "execution_count": 76,
   "id": "00ec7cc9-09bc-4fe1-9d1a-0936b8b1f77f",
   "metadata": {},
   "outputs": [
    {
     "data": {
      "text/plain": [
       "{'action': 'select', 'target': 'ship.crew'}"
      ]
     },
     "execution_count": 76,
     "metadata": {},
     "output_type": "execute_result"
    }
   ],
   "source": [
    "sql(\"SELECT crew FROM ship\")"
   ]
  },
  {
   "cell_type": "code",
   "execution_count": 77,
   "id": "e5f3917c-561c-4fd4-a7a8-6e3d531863ca",
   "metadata": {},
   "outputs": [
    {
     "data": {
      "text/plain": [
       "{'action': 'insert',\n",
       " 'target': 'ship',\n",
       " 'values': [\"('rogue\", \"one',\", \"'millenium\", \"falcon')\"]}"
      ]
     },
     "execution_count": 77,
     "metadata": {},
     "output_type": "execute_result"
    }
   ],
   "source": [
    "sql(\"insert into ship values ('Rogue One', 'Millenium Falcon')\")"
   ]
  },
  {
   "cell_type": "markdown",
   "id": "3139e964-8162-496a-ab4f-3c7f6603adc5",
   "metadata": {},
   "source": [
    "### doesn't work\n",
    "\n",
    "- Match against regexes\n",
    "- Match agains ranges\n",
    "\n",
    "Use guards (which is kind of like going back to if statements after all)"
   ]
  },
  {
   "cell_type": "code",
   "execution_count": 115,
   "id": "8e81fec5-e6d2-494e-a3f0-828322080330",
   "metadata": {},
   "outputs": [],
   "source": [
    "import re\n",
    "def matcher(name):\n",
    "    match name:\n",
    "        case re.compile(\"[\\A\\-]{3,5}$\"):\n",
    "            return \"droid\"\n",
    "        case _:\n",
    "            return \"not a droid\""
   ]
  },
  {
   "cell_type": "code",
   "execution_count": 116,
   "id": "d3af6426-acc5-401f-8d9d-8ccbc99ded66",
   "metadata": {},
   "outputs": [
    {
     "ename": "TypeError",
     "evalue": "called match pattern must be a type",
     "output_type": "error",
     "traceback": [
      "\u001b[0;31m---------------------------------------------------------------------------\u001b[0m",
      "\u001b[0;31mTypeError\u001b[0m                                 Traceback (most recent call last)",
      "\u001b[0;32m/var/folders/j3/77d0lbgd2yv3gmdy08w2zt4c0000gq/T/ipykernel_27005/483724924.py\u001b[0m in \u001b[0;36m<module>\u001b[0;34m\u001b[0m\n\u001b[0;32m----> 1\u001b[0;31m \u001b[0mmatcher\u001b[0m\u001b[0;34m(\u001b[0m\u001b[0;34m\"chewie\"\u001b[0m\u001b[0;34m)\u001b[0m\u001b[0;34m\u001b[0m\u001b[0;34m\u001b[0m\u001b[0m\n\u001b[0m",
      "\u001b[0;32m/var/folders/j3/77d0lbgd2yv3gmdy08w2zt4c0000gq/T/ipykernel_27005/2922508361.py\u001b[0m in \u001b[0;36mmatcher\u001b[0;34m(name)\u001b[0m\n\u001b[1;32m      2\u001b[0m \u001b[0;32mdef\u001b[0m \u001b[0mmatcher\u001b[0m\u001b[0;34m(\u001b[0m\u001b[0mname\u001b[0m\u001b[0;34m)\u001b[0m\u001b[0;34m:\u001b[0m\u001b[0;34m\u001b[0m\u001b[0;34m\u001b[0m\u001b[0m\n\u001b[1;32m      3\u001b[0m     \u001b[0mmatch\u001b[0m \u001b[0mname\u001b[0m\u001b[0;34m:\u001b[0m\u001b[0;34m\u001b[0m\u001b[0;34m\u001b[0m\u001b[0m\n\u001b[0;32m----> 4\u001b[0;31m         \u001b[0mcase\u001b[0m \u001b[0mre\u001b[0m\u001b[0;34m.\u001b[0m\u001b[0mcompile\u001b[0m\u001b[0;34m(\u001b[0m\u001b[0;34m\"[\\A\\-]{3,5}$\"\u001b[0m\u001b[0;34m)\u001b[0m\u001b[0;34m:\u001b[0m\u001b[0;34m\u001b[0m\u001b[0;34m\u001b[0m\u001b[0m\n\u001b[0m\u001b[1;32m      5\u001b[0m             \u001b[0;32mreturn\u001b[0m \u001b[0;34m\"droid\"\u001b[0m\u001b[0;34m\u001b[0m\u001b[0;34m\u001b[0m\u001b[0m\n\u001b[1;32m      6\u001b[0m         \u001b[0mcase\u001b[0m \u001b[0m_\u001b[0m\u001b[0;34m:\u001b[0m\u001b[0;34m\u001b[0m\u001b[0;34m\u001b[0m\u001b[0m\n",
      "\u001b[0;31mTypeError\u001b[0m: called match pattern must be a type"
     ]
    }
   ],
   "source": [
    "matcher(\"chewie\")"
   ]
  },
  {
   "cell_type": "code",
   "execution_count": null,
   "id": "ede8f2e8-9723-4f1a-b864-a17d778752ee",
   "metadata": {},
   "outputs": [],
   "source": []
  }
 ],
 "metadata": {
  "kernelspec": {
   "display_name": "Python 3 (ipykernel)",
   "language": "python",
   "name": "python3"
  },
  "language_info": {
   "codemirror_mode": {
    "name": "ipython",
    "version": 3
   },
   "file_extension": ".py",
   "mimetype": "text/x-python",
   "name": "python",
   "nbconvert_exporter": "python",
   "pygments_lexer": "ipython3",
   "version": "3.10.0"
  }
 },
 "nbformat": 4,
 "nbformat_minor": 5
}
