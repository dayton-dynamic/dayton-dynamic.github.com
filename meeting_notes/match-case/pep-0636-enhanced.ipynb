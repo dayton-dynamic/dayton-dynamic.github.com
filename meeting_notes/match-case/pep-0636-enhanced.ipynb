{
 "cells": [
  {
   "cell_type": "code",
   "execution_count": 5,
   "id": "1d1a3297-ed41-49ff-8e7d-83409a1d4589",
   "metadata": {},
   "outputs": [],
   "source": [
    "things  = [6,2,4,6]"
   ]
  },
  {
   "cell_type": "code",
   "execution_count": 6,
   "id": "0a7f1376-05d1-4109-a49f-85e9138e462b",
   "metadata": {},
   "outputs": [],
   "source": [
    "things.remove(2)"
   ]
  },
  {
   "cell_type": "code",
   "execution_count": 7,
   "id": "a49e2101-8110-47de-bee3-7df17ac16ecc",
   "metadata": {},
   "outputs": [
    {
     "data": {
      "text/plain": [
       "[6, 4, 6]"
      ]
     },
     "execution_count": 7,
     "metadata": {},
     "output_type": "execute_result"
    }
   ],
   "source": [
    "things"
   ]
  },
  {
   "cell_type": "code",
   "execution_count": 34,
   "id": "f097a5dc-4b4a-4664-ac0d-a22fa34261c7",
   "metadata": {},
   "outputs": [],
   "source": [
    "from dataclasses import dataclass\n",
    "from typing import Optional\n",
    "\n",
    "def quit_game():\n",
    "    print('Game has ended.')\n",
    "  \n",
    "@dataclass\n",
    "class Room:\n",
    "    name: str\n",
    "    \n",
    "    def describe(self):\n",
    "        print(f\"You are in {self.name}.  It contains {self.things}\")\n",
    "        \n",
    "    def neighbor(self, direction: str):\n",
    "        try:\n",
    "            result = self.neighbors[direction.lower()[0]]\n",
    "            return result\n",
    "        except KeyError:\n",
    "            print(f\"Directions from {self.name}: {self.neighbors}\")\n",
    "            raise\n",
    "        \n",
    "@dataclass\n",
    "class Character:\n",
    "    name: str \n",
    "    \n",
    "    def get(self, thing, room):\n",
    "        if thing in room.things:\n",
    "            self.inventory.append(thing) \n",
    "            room.things.remove(thing)\n",
    "            print(f\"Got {thing} out of {room.name}\")\n",
    "            \n",
    "\n",
    "    def drop(self, thing, room):\n",
    "        if thing in self.inventory:\n",
    "            self.inventory.remove(thing) \n",
    "            room.things.append(thing)\n",
    "            print(f\"Left {thing} in {room.name}\")"
   ]
  },
  {
   "cell_type": "code",
   "execution_count": 35,
   "id": "d2c56ee8-f491-4e9c-b582-fd295c0c01ce",
   "metadata": {},
   "outputs": [],
   "source": [
    "character = Character('Frodo')\n",
    "character.inventory = []\n",
    "gondor = Room('Gondor')\n",
    "mordor = Room('Mordor')\n",
    "shire = Room('Shire')\n",
    "rohan = Room('Rohan')\n",
    "shire.neighbors = {'s': rohan}\n",
    "shire.things = ['ring']\n",
    "rohan.neighbors = {'n': shire, 's': gondor}\n",
    "rohan.things = ['horse']\n",
    "gondor.neighbors = {'n': shire, 'e': mordor}\n",
    "gondor.things = ['superiority complex']\n",
    "mordor.neighbors = {'w': gondor}\n",
    "mordor.things = ['bones', 'magma']"
   ]
  },
  {
   "cell_type": "markdown",
   "id": "ad5eb4c0",
   "metadata": {},
   "source": [
    "$$\n",
    "\\def\\CC{\\bf C}\n",
    "\\def\\QQ{\\bf Q}\n",
    "\\def\\RR{\\bf R}\n",
    "\\def\\ZZ{\\bf Z}\n",
    "\\def\\NN{\\bf N}\n",
    "$$\n",
    "PEP: 636 Title: Structural Pattern Matching: Tutorial Version:\n",
    "\\$Revision\\$ Last-Modified: \\$Date\\$ Author: Daniel F Moisset\n",
    "\\<<dfmoisset@gmail.com>\\> Sponsor: Guido van Rossum\n",
    "\\<<guido@python.org>\\> BDFL-Delegate: Discussions-To: Python-Dev\n",
    "\\<<python-dev@python.org>\\> Status: Final Type: Informational\n",
    "Content-Type: text/x-rst Created: 12-Sep-2020 Python-Version: 3.10\n",
    "Post-History: 22-Oct-2020, 08-Feb-2021 Resolution:\n",
    "<https://mail.python.org/archives/list/python-committers@python.org/message/SQC2FTLFV5A7DV7RCEAR2I2IKJKGK7W3>\n",
    "\n",
    "# Abstract\n",
    "\n",
    "This PEP is a tutorial for the pattern matching introduced by PEP 634.\n",
    "\n",
    "PEP 622 proposed syntax for pattern matching, which received detailed\n",
    "discussion both from the community and the Steering Council. A frequent\n",
    "concern was about how easy it would be to explain (and learn) this\n",
    "feature. This PEP addresses that concern providing the kind of document\n",
    "which developers could use to learn about pattern matching in Python.\n",
    "\n",
    "This is considered supporting material for PEP 634 (the technical\n",
    "specification for pattern matching) and PEP 635 (the motivation and\n",
    "rationale for having pattern matching and design considerations).\n",
    "\n",
    "For readers who are looking more for a quick review than for a tutorial,\n",
    "see [Appendix A](#Appendix A).\n",
    "\n",
    "# Tutorial\n",
    "\n",
    "As an example to motivate this tutorial, you will be writing a text\n",
    "adventure. That is a form of interactive fiction where the user enters\n",
    "text commands to interact with a fictional world and receives text\n",
    "descriptions of what happens. Commands will be simplified forms of\n",
    "natural language like `get sword`, `attack dragon`, `go north`,\n",
    "`enter shop` or `buy cheese`.\n",
    "\n",
    "## Matching sequences\n",
    "\n",
    "Your main loop will need to get input from the user and split it into\n",
    "words, let's say a list of strings like this:"
   ]
  },
  {
   "cell_type": "code",
   "execution_count": null,
   "id": "d75735bc",
   "metadata": {},
   "outputs": [],
   "source": [
    "command = input(\"What are you doing next? \")\n",
    "# analyze the result of command.split()"
   ]
  },
  {
   "cell_type": "markdown",
   "id": "81152115",
   "metadata": {},
   "source": [
    "The next step is to interpret the words. Most of our commands will have\n",
    "two words: an action and an object. So you may be tempted to do the\n",
    "following:"
   ]
  },
  {
   "cell_type": "code",
   "execution_count": null,
   "id": "3a367d0c",
   "metadata": {},
   "outputs": [],
   "source": [
    "[action, obj] = command.split()"
   ]
  },
  {
   "cell_type": "markdown",
   "id": "b45296f7",
   "metadata": {},
   "source": [
    "The problem with that line of code is that it's missing something: what\n",
    "if the user types more or fewer than 2 words? To prevent this problem\n",
    "you can either check the length of the list of words, or capture the\n",
    "`ValueError` that the statement above would raise.\n",
    "\n",
    "You can use a matching statement instead:"
   ]
  },
  {
   "cell_type": "code",
   "execution_count": null,
   "id": "6d428082",
   "metadata": {},
   "outputs": [],
   "source": [
    "match command.split():\n",
    "    case [action, obj]:\n",
    "        ... # interpret action, obj"
   ]
  },
  {
   "cell_type": "markdown",
   "id": "11d75d09",
   "metadata": {},
   "source": [
    "The match statement evaluates the **\"subject\"** (the value after the\n",
    "`match` keyword), and checks it against the **pattern** (the code next\n",
    "to `case`). A pattern is able to do two different things:\n",
    "\n",
    "-   Verify that the subject has certain structure. In your case, the\n",
    "    `[action, obj]` pattern matches any sequence of exactly two\n",
    "    elements. This is called **matching**\n",
    "-   It will bind some names in the pattern to component elements of your\n",
    "    subject. In this case, if the list has two elements, it will bind\n",
    "    `action = subject[0]` and `obj = subject[1]`.\n",
    "\n",
    "If there's a match, the statements inside the case block will be\n",
    "executed with the bound variables. If there's no match, nothing happens\n",
    "and the statement after `match` is executed next.\n",
    "\n",
    "Note that, in a similar way to unpacking assignments, you can use either\n",
    "parenthesis, brackets, or just comma separation as synonyms. So you\n",
    "could write `case action, obj` or `case (action, obj)` with the same\n",
    "meaning. All forms will match any sequence (for example lists or\n",
    "tuples).\n",
    "\n",
    "## Matching multiple patterns\n",
    "\n",
    "Even if most commands have the action/object form, you might want to\n",
    "have user commands of different lengths. For example, you might want to\n",
    "add single verbs with no object like `look` or `quit`. A match statement\n",
    "can (and is likely to) have more than one `case` :"
   ]
  },
  {
   "cell_type": "code",
   "execution_count": null,
   "id": "e7a3340e",
   "metadata": {},
   "outputs": [],
   "source": [
    "match command.split():\n",
    "    case [action]:\n",
    "        ... # interpret single-verb action\n",
    "    case [action, obj]:\n",
    "        ... # interpret action, obj"
   ]
  },
  {
   "cell_type": "markdown",
   "id": "17685c7b",
   "metadata": {},
   "source": [
    "The match statement will check patterns from top to bottom. If the\n",
    "pattern doesn't match the subject, the next pattern will be tried.\n",
    "However, once the *first* matching pattern is found, the body of that\n",
    "case is executed, and all further cases are ignored. This is similar to\n",
    "the way that an `if/elif/elif/...` statement works.\n",
    "\n",
    "## Matching specific values\n",
    "\n",
    "Your code still needs to look at the specific actions and conditionally\n",
    "execute different logic depending on the specific action (e.g., `quit`,\n",
    "`attack`, or `buy`). You could do that using a chain of\n",
    "`if/elif/elif/...`, or using a dictionary of functions, but here we'll\n",
    "leverage pattern matching to solve that task. Instead of a variable, you\n",
    "can use literal values in patterns (like `\"quit\"`, `42`, or `None`).\n",
    "This allows you to write:"
   ]
  },
  {
   "cell_type": "code",
   "execution_count": 30,
   "id": "1383ac0a",
   "metadata": {},
   "outputs": [
    {
     "name": "stdout",
     "output_type": "stream",
     "text": [
      "['ring']\n"
     ]
    }
   ],
   "source": [
    "current_room = shire\n",
    "command = \"get ring\"\n",
    "\n",
    "match command.split():\n",
    "    case [\"quit\"]:\n",
    "        print(\"Goodbye!\")\n",
    "        quit_game()\n",
    "    case [\"look\"]:\n",
    "        current_room.describe()\n",
    "    case [\"get\", obj]:\n",
    "        character.get(obj, current_room)\n",
    "    case [\"go\", direction]:\n",
    "        current_room = current_room.neighbor(direction)\n",
    "    # The rest of your commands go here\n",
    "    \n",
    "# print(current_room)\n",
    "# print(character.inventory)"
   ]
  },
  {
   "cell_type": "markdown",
   "id": "0202fdac",
   "metadata": {},
   "source": [
    "A pattern like `[\"get\", obj]` will match only 2-element sequences that\n",
    "have a first element equal to `\"get\"`. It will also bind\n",
    "`obj = subject[1]`.\n",
    "\n",
    "As you can see in the `go` case, we also can use different variable\n",
    "names in different patterns.\n",
    "\n",
    "Literal values are compared with the `==` operator except for the\n",
    "constants `True`, `False` and `None` which are compared with the `is`\n",
    "operator.\n",
    "\n",
    "## Matching multiple values\n",
    "\n",
    "A player may be able to drop multiple items by using a series of\n",
    "commands `drop key`, `drop sword`, `drop cheese`. This interface might\n",
    "be cumbersome, and you might like to allow dropping multiple items in a\n",
    "single command, like `drop key sword cheese`. In this case you don't\n",
    "know beforehand how many words will be in the command, but you can use\n",
    "extended unpacking in patterns in the same way that they are allowed in\n",
    "assignments:"
   ]
  },
  {
   "cell_type": "code",
   "execution_count": 33,
   "id": "03b7496d",
   "metadata": {},
   "outputs": [
    {
     "ename": "AttributeError",
     "evalue": "'Character' object has no attribute 'drop'",
     "output_type": "error",
     "traceback": [
      "\u001b[0;31m---------------------------------------------------------------------------\u001b[0m",
      "\u001b[0;31mAttributeError\u001b[0m                            Traceback (most recent call last)",
      "\u001b[0;32m/var/folders/j3/77d0lbgd2yv3gmdy08w2zt4c0000gq/T/ipykernel_4049/4095325065.py\u001b[0m in \u001b[0;36m<module>\u001b[0;34m\u001b[0m\n\u001b[1;32m      4\u001b[0m     \u001b[0mcase\u001b[0m \u001b[0;34m[\u001b[0m\u001b[0;34m\"drop\"\u001b[0m\u001b[0;34m,\u001b[0m \u001b[0;34m*\u001b[0m\u001b[0mobjects\u001b[0m\u001b[0;34m]\u001b[0m\u001b[0;34m:\u001b[0m\u001b[0;34m\u001b[0m\u001b[0;34m\u001b[0m\u001b[0m\n\u001b[1;32m      5\u001b[0m         \u001b[0;32mfor\u001b[0m \u001b[0mobj\u001b[0m \u001b[0;32min\u001b[0m \u001b[0mobjects\u001b[0m\u001b[0;34m:\u001b[0m\u001b[0;34m\u001b[0m\u001b[0;34m\u001b[0m\u001b[0m\n\u001b[0;32m----> 6\u001b[0;31m             \u001b[0mcharacter\u001b[0m\u001b[0;34m.\u001b[0m\u001b[0mdrop\u001b[0m\u001b[0;34m(\u001b[0m\u001b[0mobj\u001b[0m\u001b[0;34m,\u001b[0m \u001b[0mcurrent_room\u001b[0m\u001b[0;34m)\u001b[0m\u001b[0;34m\u001b[0m\u001b[0;34m\u001b[0m\u001b[0m\n\u001b[0m\u001b[1;32m      7\u001b[0m     \u001b[0;31m# The rest of your commands go here\u001b[0m\u001b[0;34m\u001b[0m\u001b[0;34m\u001b[0m\u001b[0m\n",
      "\u001b[0;31mAttributeError\u001b[0m: 'Character' object has no attribute 'drop'"
     ]
    }
   ],
   "source": [
    "command = \"drop ring\"\n",
    "\n",
    "match command.split():\n",
    "    case [\"drop\", *objects]:\n",
    "        for obj in objects:\n",
    "            character.drop(obj, current_room)\n",
    "    # The rest of your commands go here"
   ]
  },
  {
   "cell_type": "markdown",
   "id": "db13f6a1",
   "metadata": {},
   "source": [
    "This will match any sequences having \"drop\" as its first elements. All\n",
    "remaining elements will be captured in a `list` object which will be\n",
    "bound to the `objects` variable.\n",
    "\n",
    "This syntax has similar restrictions as sequence unpacking: you can not\n",
    "have more than one starred name in a pattern.\n",
    "\n",
    "## Adding a wildcard\n",
    "\n",
    "You may want to print an error message saying that the command wasn't\n",
    "recognized when all the patterns fail. You could use the feature we just\n",
    "learned and write `case [*ignored_words]` as your last pattern. There's\n",
    "however a much simpler way:"
   ]
  },
  {
   "cell_type": "code",
   "execution_count": null,
   "id": "71d6a512",
   "metadata": {},
   "outputs": [],
   "source": [
    "match command.split():\n",
    "    case [\"quit\"]: ... # Code omitted for brevity\n",
    "    case [\"go\", direction]: ...\n",
    "    case [\"drop\", *objects]: ...\n",
    "    ... # Other cases\n",
    "    case _:\n",
    "        print(f\"Sorry, I couldn't understand {command!r}\")"
   ]
  },
  {
   "cell_type": "markdown",
   "id": "0d08b2c8",
   "metadata": {},
   "source": [
    "This special pattern which is written `_` (and called wildcard) always\n",
    "matches but it doesn't bind any variables.\n",
    "\n",
    "Note that this will match any object, not just sequences. As such, it\n",
    "only makes sense to have it by itself as the last pattern (to prevent\n",
    "errors, Python will stop you from using it before).\n",
    "\n",
    "## Composing patterns\n",
    "\n",
    "This is a good moment to step back from the examples and understand how\n",
    "the patterns that you have been using are built. Patterns can be nested\n",
    "within each other, and we have been doing that implicitly in the\n",
    "examples above.\n",
    "\n",
    "There are some \"simple\" patterns (\"simple\" here meaning that they do not\n",
    "contain other patterns) that we've seen:\n",
    "\n",
    "-   **Capture patterns** (stand-alone names like `direction`, `action`,\n",
    "    `objects`). We never discussed these separately, but used them as\n",
    "    part of other patterns.\n",
    "-   **Literal patterns** (string literals, number literals, `True`,\n",
    "    `False`, and `None`)\n",
    "-   The **wildcard pattern** `_`\n",
    "\n",
    "Until now, the only non-simple pattern we have experimented with is the\n",
    "sequence pattern. Each element in a sequence pattern can in fact be any\n",
    "other pattern. This means that you could write a pattern like\n",
    "`[\"first\", (left, right), _, *rest]`. This will match subjects which are\n",
    "a sequence of at least three elements, where the first one is equal to\n",
    "`\"first\"` and the second one is in turn a sequence of two elements. It\n",
    "will also bind `left=subject[1][0]`, `right=subject[1][1]`, and\n",
    "`rest = subject[3:]`\n",
    "\n",
    "## Or patterns\n",
    "\n",
    "Going back to the adventure game example, you may find that you'd like\n",
    "to have several patterns resulting in the same outcome. For example, you\n",
    "might want the commands `north` and `go north` to be equivalent. You may\n",
    "also desire to have aliases for `get X`, `pick up X` and `pick X up` for\n",
    "any X.\n",
    "\n",
    "The `|` symbol in patterns combines them as alternatives. You could for\n",
    "example write:"
   ]
  },
  {
   "cell_type": "code",
   "execution_count": null,
   "id": "55f93598",
   "metadata": {},
   "outputs": [],
   "source": [
    "match command.split():\n",
    "    ... # Other cases\n",
    "    case [\"north\"] | [\"go\", \"north\"]:\n",
    "        current_room = current_room.neighbor(\"north\")\n",
    "    case [\"get\", obj] | [\"pick\", \"up\", obj] | [\"pick\", obj, \"up\"]:\n",
    "        ... # Code for picking up the given object"
   ]
  },
  {
   "cell_type": "markdown",
   "id": "1601f5cd",
   "metadata": {},
   "source": [
    "This is called an **or pattern** and will produce the expected result.\n",
    "Patterns are tried from left to right; this may be relevant to know what\n",
    "is bound if more than one alternative matches. An important restriction\n",
    "when writing or patterns is that all alternatives should bind the same\n",
    "variables. So a pattern `[1, x] | [2, y]` is not allowed because it\n",
    "would make unclear which variable would be bound after a successful\n",
    "match. `[1, x] | [2, x]` is perfectly fine and will always bind `x` if\n",
    "successful.\n",
    "\n",
    "## Capturing matched sub-patterns\n",
    "\n",
    "The first version of our \"go\" command was written with a\n",
    "`[\"go\", direction]` pattern. The change we did in our last version using\n",
    "the pattern `[\"north\"] | [\"go\", \"north\"]` has some benefits but also\n",
    "some drawbacks in comparison: the latest version allows the alias, but\n",
    "also has the direction hardcoded, which will force us to actually have\n",
    "separate patterns for north/south/east/west. This leads to some code\n",
    "duplication, but at the same time we get better input validation, and we\n",
    "will not be getting into that branch if the command entered by the user\n",
    "is `\"go figure!\"` instead of a direction.\n",
    "\n",
    "We could try to get the best of both worlds doing the following (I'll\n",
    "omit the aliased version without \"go\" for brevity):"
   ]
  },
  {
   "cell_type": "code",
   "execution_count": null,
   "id": "d6e577d5",
   "metadata": {},
   "outputs": [],
   "source": [
    "match command.split():\n",
    "    case [\"go\", (\"north\" | \"south\" | \"east\" | \"west\")]:\n",
    "        current_room = current_room.neighbor(...)\n",
    "        # how do I know which direction to go?"
   ]
  },
  {
   "cell_type": "markdown",
   "id": "86fc27e0",
   "metadata": {},
   "source": [
    "This code is a single branch, and it verifies that the word after \"go\"\n",
    "is really a direction. But the code moving the player around needs to\n",
    "know which one was chosen and has no way to do so. What we need is a\n",
    "pattern that behaves like the or pattern but at the same time does a\n",
    "capture. We can do so with an **as pattern**:"
   ]
  },
  {
   "cell_type": "code",
   "execution_count": null,
   "id": "623e2e58",
   "metadata": {},
   "outputs": [],
   "source": [
    "match command.split():\n",
    "    case [\"go\", (\"north\" | \"south\" | \"east\" | \"west\") as direction]:\n",
    "        current_room = current_room.neighbor(direction)"
   ]
  },
  {
   "cell_type": "markdown",
   "id": "fbb0221a",
   "metadata": {},
   "source": [
    "The as-pattern matches whatever pattern is on its left-hand side, but\n",
    "also binds the value to a name.\n",
    "\n",
    "## Adding conditions to patterns\n",
    "\n",
    "The patterns we have explored above can do some powerful data filtering,\n",
    "but sometimes you may wish for the full power of a boolean expression.\n",
    "Let's say that you would actually like to allow a \"go\" command only in a\n",
    "restricted set of directions based on the possible exits from the\n",
    "current_room. We can achieve that by adding a **guard** to our case.\n",
    "Guards consist of the `if` keyword followed by any expression:"
   ]
  },
  {
   "cell_type": "code",
   "execution_count": null,
   "id": "ca008e65",
   "metadata": {},
   "outputs": [],
   "source": [
    "match command.split():\n",
    "    case [\"go\", direction] if direction in current_room.exits:\n",
    "        current_room = current_room.neighbor(direction)\n",
    "    case [\"go\", _]:\n",
    "        print(\"Sorry, you can't go that way\")"
   ]
  },
  {
   "cell_type": "markdown",
   "id": "bdf16a3d",
   "metadata": {},
   "source": [
    "The guard is not part of the pattern, it's part of the case. It's only\n",
    "checked if the pattern matches, and after all the pattern variables have\n",
    "been bound (that's why the condition can use the `direction` variable in\n",
    "the example above). If the pattern matches and the condition is truthy,\n",
    "the body of the case executes normally. If the pattern matches but the\n",
    "condition is falsy, the match statement proceeds to check the next case\n",
    "as if the pattern hadn't matched (with the possible side-effect of\n",
    "having already bound some variables).\n",
    "\n",
    "## Adding a UI: Matching objects\n",
    "\n",
    "Your adventure is becoming a success and you have been asked to\n",
    "implement a graphical interface. Your UI toolkit of choice allows you to\n",
    "write an event loop where you can get a new event object by calling\n",
    "`event.get()`. The resulting object can have different type and\n",
    "attributes according to the user action, for example:\n",
    "\n",
    "-   A `KeyPress` object is generated when the user presses a key. It has\n",
    "    a `key_name` attribute with the name of the key pressed, and some\n",
    "    other attributes regarding modifiers.\n",
    "-   A `Click` object is generated when the user clicks the mouse. It has\n",
    "    an attribute `position` with the coordinates of the pointer.\n",
    "-   A `Quit` object is generated when the user clicks on the close\n",
    "    button for the game window.\n",
    "\n",
    "Rather than writing multiple `isinstance()` checks, you can use patterns\n",
    "to recognize different kinds of objects, and also apply patterns to its\n",
    "attributes:"
   ]
  },
  {
   "cell_type": "code",
   "execution_count": null,
   "id": "6c3e611c",
   "metadata": {},
   "outputs": [],
   "source": [
    "match event.get():\n",
    "    case Click(position=(x, y)):\n",
    "        handle_click_at(x, y)\n",
    "    case KeyPress(key_name=\"Q\") | Quit():\n",
    "        game.quit()\n",
    "    case KeyPress(key_name=\"up arrow\"):\n",
    "        game.go_north()\n",
    "    ...\n",
    "    case KeyPress():\n",
    "        pass # Ignore other keystrokes \n",
    "    case other_event:\n",
    "        raise ValueError(f\"Unrecognized event: {other_event}\")"
   ]
  },
  {
   "cell_type": "markdown",
   "id": "85254d32",
   "metadata": {},
   "source": [
    "A pattern like `Click(position=(x, y))` only matches if the type of the\n",
    "event is a subclass of the `Click` class. It will also require that the\n",
    "event has a `position` attribute that matches the `(x, y)` pattern. If\n",
    "there's a match, the locals `x` and `y` will get the expected values.\n",
    "\n",
    "A pattern like `KeyPress()`, with no arguments will match any object\n",
    "which is an instance of the `KeyPress` class. Only the attributes you\n",
    "specify in the pattern are matched, and any other attributes are\n",
    "ignored.\n",
    "\n",
    "## Matching positional attributes\n",
    "\n",
    "The previous section described how to match named attributes when doing\n",
    "an object match. For some objects it could be convenient to describe the\n",
    "matched arguments by position (especially if there are only a few\n",
    "attributes and they have a \"standard\" ordering). If the classes that you\n",
    "are using are named tuples or dataclasses, you can do that by following\n",
    "the same order that you'd use when constructing an object. For example,\n",
    "if the UI framework above defines their class like this:"
   ]
  },
  {
   "cell_type": "code",
   "execution_count": null,
   "id": "4b556ab1",
   "metadata": {},
   "outputs": [],
   "source": [
    "from dataclasses import dataclass\n",
    "\n",
    "@dataclass\n",
    "class Click:\n",
    "    position: tuple\n",
    "    button: Button"
   ]
  },
  {
   "cell_type": "markdown",
   "id": "7413221e",
   "metadata": {},
   "source": [
    "then you can rewrite your match statement above as:"
   ]
  },
  {
   "cell_type": "code",
   "execution_count": null,
   "id": "d00e4edd",
   "metadata": {},
   "outputs": [],
   "source": [
    "match event.get():\n",
    "    case Click((x, y)):\n",
    "        handle_click_at(x, y)"
   ]
  },
  {
   "cell_type": "markdown",
   "id": "6aba81d8",
   "metadata": {},
   "source": [
    "The `(x, y)` pattern will be automatically matched against the\n",
    "`position` attribute, because the first argument in the pattern\n",
    "corresponds to the first attribute in your dataclass definition.\n",
    "\n",
    "Other classes don't have a natural ordering of their attributes so\n",
    "you're required to use explicit names in your pattern to match with\n",
    "their attributes. However, it's possible to manually specify the\n",
    "ordering of the attributes allowing positional matching, like in this\n",
    "alternative definition:"
   ]
  },
  {
   "cell_type": "code",
   "execution_count": null,
   "id": "0c4de2b4",
   "metadata": {},
   "outputs": [],
   "source": [
    "class Click:\n",
    "    __match_args__ = (\"position\", \"button\")\n",
    "    def __init__(self, pos, btn):\n",
    "        self.position = pos\n",
    "        self.button = btn\n",
    "        ..."
   ]
  },
  {
   "cell_type": "markdown",
   "id": "14a08343",
   "metadata": {},
   "source": [
    "The `__match_args__` special attribute defines an explicit order for\n",
    "your attributes that can be used in patterns like `case Click((x,y))`.\n",
    "\n",
    "## Matching against constants and enums\n",
    "\n",
    "Your pattern above treats all mouse buttons the same, and you have\n",
    "decided that you want to accept left-clicks, and ignore other buttons.\n",
    "While doing so, you notice that the `button` attribute is typed as a\n",
    "`Button` which is an enumeration built with `enum.Enum`. You can in fact\n",
    "match against enumeration values like this:"
   ]
  },
  {
   "cell_type": "code",
   "execution_count": null,
   "id": "beb1fb93",
   "metadata": {},
   "outputs": [],
   "source": [
    "match event.get():\n",
    "    case Click((x, y), button=Button.LEFT):  # This is a left click\n",
    "        handle_click_at(x, y)\n",
    "    case Click():\n",
    "        pass  # ignore other clicks"
   ]
  },
  {
   "cell_type": "markdown",
   "id": "95f8657e",
   "metadata": {},
   "source": [
    "This will work with any dotted name (like `math.pi`). However an\n",
    "unqualified name (i.e. a bare name with no dots) will be always\n",
    "interpreted as a capture pattern, so avoid that ambiguity by always\n",
    "using qualified constants in patterns.\n",
    "\n",
    "## Going to the cloud: Mappings\n",
    "\n",
    "You have decided to make an online version of your game. All of your\n",
    "logic will be in a server, and the UI in a client which will communicate\n",
    "using JSON messages. Via the `json` module, those will be mapped to\n",
    "Python dictionaries, lists and other builtin objects.\n",
    "\n",
    "Our client will receive a list of dictionaries (parsed from JSON) of\n",
    "actions to take, each element looking for example like these:\n",
    "\n",
    "-   `{\"text\": \"The shop keeper says 'Ah! We have Camembert, yes sir'\", \"color\": \"blue\"}`\n",
    "-   If the client should make a pause `{\"sleep\": 3}`\n",
    "-   To play a sound `{\"sound\": \"filename.ogg\", \"format\": \"ogg\"}`\n",
    "\n",
    "Until now, our patterns have processed sequences, but there are patterns\n",
    "to match mappings based on their present keys. In this case you could\n",
    "use:"
   ]
  },
  {
   "cell_type": "code",
   "execution_count": null,
   "id": "84ae5967",
   "metadata": {},
   "outputs": [],
   "source": [
    "for action in actions:\n",
    "    match action:\n",
    "        case {\"text\": message, \"color\": c}:\n",
    "            ui.set_text_color(c)\n",
    "            ui.display(message)\n",
    "        case {\"sleep\": duration}:\n",
    "            ui.wait(duration)\n",
    "        case {\"sound\": url, \"format\": \"ogg\"}:\n",
    "            ui.play(url)\n",
    "        case {\"sound\": _, \"format\": _}:\n",
    "            warning(\"Unsupported audio format\")"
   ]
  },
  {
   "cell_type": "markdown",
   "id": "8dfa29c1",
   "metadata": {},
   "source": [
    "The keys in your mapping pattern need to be literals, but the values can\n",
    "be any pattern. As in sequence patterns, all subpatterns have to match\n",
    "for the general pattern to match.\n",
    "\n",
    "You can use `**rest` within a mapping pattern to capture additional keys\n",
    "in the subject. Note that if you omit this, extra keys in the subject\n",
    "will be ignored while matching, i.e. the message\n",
    "`{\"text\": \"foo\", \"color\": \"red\", \"style\": \"bold\"}` will match the first\n",
    "pattern in the example above.\n",
    "\n",
    "## Matching builtin classes\n",
    "\n",
    "The code above could use some validation. Given that messages came from\n",
    "an external source, the types of the field could be wrong, leading to\n",
    "bugs or security issues.\n",
    "\n",
    "Any class is a valid match target, and that includes built-in classes\n",
    "like `bool` `str` or `int`. That allows us to combine the code above\n",
    "with a class pattern. So instead of writing\n",
    "`{\"text\": message, \"color\": c}` we can use\n",
    "`{\"text\": str() as message, \"color\": str() as c}` to ensure that\n",
    "`message` and `c` are both strings. For many builtin classes (see\n",
    "PEP-634 for the whole list), you can use a positional parameter as a\n",
    "shorthand, writing `str(c)` rather than `str() as c`. The fully\n",
    "rewritten version looks like this:"
   ]
  },
  {
   "cell_type": "code",
   "execution_count": null,
   "id": "426b21f8",
   "metadata": {},
   "outputs": [],
   "source": [
    "for action in actions:\n",
    "    match action:\n",
    "        case {\"text\": str(message), \"color\": str(c)}:\n",
    "            ui.set_text_color(c)\n",
    "            ui.display(message)\n",
    "        case {\"sleep\": float(duration)}:\n",
    "            ui.wait(duration)\n",
    "        case {\"sound\": str(url), \"format\": \"ogg\"}:\n",
    "            ui.play(url)\n",
    "        case {\"sound\": _, \"format\": _}:\n",
    "            warning(\"Unsupported audio format\")"
   ]
  },
  {
   "cell_type": "markdown",
   "id": "b8338e2d",
   "metadata": {},
   "source": [
    "# Appendix A -- Quick Intro\n",
    "\n",
    "A match statement takes an expression and compares its value to\n",
    "successive patterns given as one or more case blocks. This is\n",
    "superficially similar to a switch statement in C, Java or JavaScript\n",
    "(and many other languages), but much more powerful.\n",
    "\n",
    "The simplest form compares a subject value against one or more literals:"
   ]
  },
  {
   "cell_type": "code",
   "execution_count": null,
   "id": "fa34e952",
   "metadata": {},
   "outputs": [],
   "source": [
    "def http_error(status):\n",
    "    match status:\n",
    "        case 400:\n",
    "            return \"Bad request\"\n",
    "        case 404:\n",
    "            return \"Not found\"\n",
    "        case 418:\n",
    "            return \"I'm a teapot\"\n",
    "        case _:\n",
    "            return \"Something's wrong with the Internet\""
   ]
  },
  {
   "cell_type": "markdown",
   "id": "1420a155",
   "metadata": {},
   "source": [
    "Note the last block: the \"variable name\" `_` acts as a *wildcard* and\n",
    "never fails to match.\n",
    "\n",
    "You can combine several literals in a single pattern using `|` (\"or\"):"
   ]
  },
  {
   "cell_type": "code",
   "execution_count": null,
   "id": "60f065ba",
   "metadata": {},
   "outputs": [],
   "source": [
    "case 401 | 403 | 404:\n",
    "    return \"Not allowed\""
   ]
  },
  {
   "cell_type": "markdown",
   "id": "278ea4f0",
   "metadata": {},
   "source": [
    "Patterns can look like unpacking assignments, and can be used to bind\n",
    "variables:"
   ]
  },
  {
   "cell_type": "code",
   "execution_count": null,
   "id": "a28222bb",
   "metadata": {},
   "outputs": [],
   "source": [
    "# point is an (x, y) tuple\n",
    "match point:\n",
    "    case (0, 0):\n",
    "        print(\"Origin\")\n",
    "    case (0, y):\n",
    "        print(f\"Y={y}\")\n",
    "    case (x, 0):\n",
    "        print(f\"X={x}\")\n",
    "    case (x, y):\n",
    "        print(f\"X={x}, Y={y}\")\n",
    "    case _:\n",
    "        raise ValueError(\"Not a point\")"
   ]
  },
  {
   "cell_type": "markdown",
   "id": "d09a0449",
   "metadata": {},
   "source": [
    "Study that one carefully! The first pattern has two literals, and can be\n",
    "thought of as an extension of the literal pattern shown above. But the\n",
    "next two patterns combine a literal and a variable, and the variable\n",
    "*binds* a value from the subject (`point`). The fourth pattern captures\n",
    "two values, which makes it conceptually similar to the unpacking\n",
    "assignment `(x, y) = point`.\n",
    "\n",
    "If you are using classes to structure your data you can use the class\n",
    "name followed by an argument list resembling a constructor, but with the\n",
    "ability to capture attributes into variables:"
   ]
  },
  {
   "cell_type": "code",
   "execution_count": null,
   "id": "802f97e2",
   "metadata": {},
   "outputs": [],
   "source": [
    "from dataclasses import dataclass\n",
    "\n",
    "@dataclass\n",
    "class Point:\n",
    "    x: int\n",
    "    y: int\n",
    "\n",
    "def where_is(point):\n",
    "    match point:\n",
    "        case Point(x=0, y=0):\n",
    "            print(\"Origin\")\n",
    "        case Point(x=0, y=y):\n",
    "            print(f\"Y={y}\")\n",
    "        case Point(x=x, y=0):\n",
    "            print(f\"X={x}\")\n",
    "        case Point():\n",
    "            print(\"Somewhere else\")\n",
    "        case _:\n",
    "            print(\"Not a point\")"
   ]
  },
  {
   "cell_type": "markdown",
   "id": "bf797a7b",
   "metadata": {},
   "source": [
    "You can use positional parameters with some builtin classes that provide\n",
    "an ordering for their attributes (e.g. dataclasses). You can also define\n",
    "a specific position for attributes in patterns by setting the\n",
    "`__match_args__` special attribute in your classes. If it's set to (\"x\",\n",
    "\"y\"), the following patterns are all equivalent (and all bind the `y`\n",
    "attribute to the `var` variable):"
   ]
  },
  {
   "cell_type": "code",
   "execution_count": null,
   "id": "b9b4c198",
   "metadata": {},
   "outputs": [],
   "source": [
    "Point(1, var)\n",
    "Point(1, y=var)\n",
    "Point(x=1, y=var)\n",
    "Point(y=var, x=1)"
   ]
  },
  {
   "cell_type": "markdown",
   "id": "e657e6c5",
   "metadata": {},
   "source": [
    "Patterns can be arbitrarily nested. For example, if we have a short list\n",
    "of points, we could match it like this:"
   ]
  },
  {
   "cell_type": "code",
   "execution_count": null,
   "id": "866ffde5",
   "metadata": {},
   "outputs": [],
   "source": [
    "match points:\n",
    "    case []:\n",
    "        print(\"No points\")\n",
    "    case [Point(0, 0)]:\n",
    "        print(\"The origin\")\n",
    "    case [Point(x, y)]:\n",
    "        print(f\"Single point {x}, {y}\")\n",
    "    case [Point(0, y1), Point(0, y2)]:\n",
    "        print(f\"Two on the Y axis at {y1}, {y2}\")\n",
    "    case _:\n",
    "        print(\"Something else\")"
   ]
  },
  {
   "cell_type": "markdown",
   "id": "872bd16d",
   "metadata": {},
   "source": [
    "We can add an `if` clause to a pattern, known as a \"guard\". If the guard\n",
    "is false, `match` goes on to try the next case block. Note that value\n",
    "capture happens before the guard is evaluated:"
   ]
  },
  {
   "cell_type": "code",
   "execution_count": null,
   "id": "dd5eb36c",
   "metadata": {},
   "outputs": [],
   "source": [
    "match point:\n",
    "    case Point(x, y) if x == y:\n",
    "        print(f\"Y=X at {x}\")\n",
    "    case Point(x, y):\n",
    "        print(f\"Not on the diagonal\")"
   ]
  },
  {
   "cell_type": "markdown",
   "id": "884ccf97",
   "metadata": {},
   "source": [
    "Several other key features:\n",
    "\n",
    "-   Like unpacking assignments, tuple and list patterns have exactly the\n",
    "    same meaning and actually match arbitrary sequences. An important\n",
    "    exception is that they don't match iterators or strings.\n",
    "    (Technically, the subject must be an instance of\n",
    "    `collections.abc.Sequence`.)\n",
    "\n",
    "-   Sequence patterns support wildcards: `[x, y, *rest]` and\n",
    "    `(x, y, *rest)` work similar to wildcards in unpacking assignments.\n",
    "    The name after `*` may also be `_`, so `(x, y, *_)` matches a\n",
    "    sequence of at least two items without binding the remaining items.\n",
    "\n",
    "-   Mapping patterns: `{\"bandwidth\": b, \"latency\": l}` captures the\n",
    "    `\"bandwidth\"` and `\"latency\"` values from a dict. Unlike sequence\n",
    "    patterns, extra keys are ignored. A wildcard `**rest` is also\n",
    "    supported. (But `**_` would be redundant, so it is not allowed.)\n",
    "\n",
    "-   Subpatterns may be captured using the `as` keyword:"
   ]
  },
  {
   "cell_type": "code",
   "execution_count": null,
   "id": "d2834c2a",
   "metadata": {},
   "outputs": [],
   "source": [
    "    case (Point(x1, y1), Point(x2, y2) as p2): ..."
   ]
  },
  {
   "cell_type": "markdown",
   "id": "8108f900",
   "metadata": {},
   "source": [
    "-   Most literals are compared by equality, however the singletons\n",
    "    `True`, `False` and `None` are compared by identity.\n",
    "\n",
    "-   Patterns may use named constants. These must be dotted names to\n",
    "    prevent them from being interpreted as capture variable:"
   ]
  },
  {
   "cell_type": "code",
   "execution_count": null,
   "id": "0d1e3282",
   "metadata": {},
   "outputs": [],
   "source": [
    "    from enum import Enum\n",
    "    class Color(Enum):\n",
    "        RED = 0\n",
    "        GREEN = 1\n",
    "        BLUE = 2\n",
    "\n",
    "    match color:\n",
    "        case Color.RED:\n",
    "            print(\"I see red!\")\n",
    "        case Color.GREEN:\n",
    "            print(\"Grass is green\")\n",
    "        case Color.BLUE:\n",
    "            print(\"I'm feeling the blues :(\")"
   ]
  },
  {
   "cell_type": "markdown",
   "id": "d4279fbc",
   "metadata": {},
   "source": [
    "# Copyright\n",
    "\n",
    "This document is placed in the public domain or under the\n",
    "CC0-1.0-Universal license, whichever is more permissive."
   ]
  }
 ],
 "metadata": {
  "kernelspec": {
   "display_name": "Python 3 (ipykernel)",
   "language": "python",
   "name": "python3"
  },
  "language_info": {
   "codemirror_mode": {
    "name": "ipython",
    "version": 3
   },
   "file_extension": ".py",
   "mimetype": "text/x-python",
   "name": "python",
   "nbconvert_exporter": "python",
   "pygments_lexer": "ipython3",
   "version": "3.10.0"
  }
 },
 "nbformat": 4,
 "nbformat_minor": 5
}
