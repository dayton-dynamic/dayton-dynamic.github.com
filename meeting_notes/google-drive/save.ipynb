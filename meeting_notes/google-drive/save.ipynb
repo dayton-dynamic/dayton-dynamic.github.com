{
 "cells": [
  {
   "cell_type": "markdown",
   "id": "5788faff-6a81-410c-aa15-6c2233bf480c",
   "metadata": {},
   "source": [
    "Old and busted: [Google's Python API](https://developers.google.com/drive/api/quickstart/python)\n",
    "\n",
    "The new hotness: [PyDrive2](https://pypi.org/project/PyDrive2/)"
   ]
  },
  {
   "cell_type": "code",
   "execution_count": 1,
   "id": "9bc42ba5-7829-4dc7-9cd0-693d52f191bf",
   "metadata": {},
   "outputs": [
    {
     "name": "stdout",
     "output_type": "stream",
     "text": [
      "Your browser has been opened to visit:\n",
      "\n",
      "    https://accounts.google.com/o/oauth2/auth?client_id=133673194624-2ec1tjebbkqvhhvi14cqi49lcmcmg7uf.apps.googleusercontent.com&redirect_uri=http%3A%2F%2Flocalhost%3A8080%2F&scope=https%3A%2F%2Fwww.googleapis.com%2Fauth%2Fdrive&access_type=online&response_type=code\n",
      "\n",
      "Authentication successful.\n"
     ]
    }
   ],
   "source": [
    "from pydrive2.auth import GoogleAuth\n",
    "from pydrive2.drive import GoogleDrive\n",
    "\n",
    "gauth = GoogleAuth()\n",
    "gauth.LocalWebserverAuth()\n",
    "\n",
    "drive = GoogleDrive(gauth)\n"
   ]
  },
  {
   "cell_type": "code",
   "execution_count": null,
   "id": "de680b69-72df-4c81-912e-afe82fc750d1",
   "metadata": {},
   "outputs": [],
   "source": [
    "drive."
   ]
  },
  {
   "cell_type": "code",
   "execution_count": 2,
   "id": "3f79c530-b373-4f68-b08a-898a9dc2390f",
   "metadata": {},
   "outputs": [
    {
     "data": {
      "text/plain": [
       "\u001b[0;31mSignature:\u001b[0m \u001b[0mdrive\u001b[0m\u001b[0;34m.\u001b[0m\u001b[0mListFile\u001b[0m\u001b[0;34m(\u001b[0m\u001b[0mparam\u001b[0m\u001b[0;34m=\u001b[0m\u001b[0;32mNone\u001b[0m\u001b[0;34m)\u001b[0m\u001b[0;34m\u001b[0m\u001b[0;34m\u001b[0m\u001b[0m\n",
       "\u001b[0;31mDocstring:\u001b[0m\n",
       "Create an instance of GoogleDriveFileList with auth of this instance.\n",
       "\n",
       "This method will not fetch from Files.List().\n",
       "\n",
       ":param param: parameter to be sent to Files.List().\n",
       ":type param: dict.\n",
       ":returns: pydrive2.files.GoogleDriveFileList -- initialized with auth of\n",
       "          this instance.\n",
       "\u001b[0;31mFile:\u001b[0m      ~/org/ddl/dayton-dynamic.github.com/meeting_notes/google-drive/.venv/lib/python3.10/site-packages/pydrive2/drive.py\n",
       "\u001b[0;31mType:\u001b[0m      method\n"
      ]
     },
     "metadata": {},
     "output_type": "display_data"
    }
   ],
   "source": [
    "drive.ListFile?"
   ]
  },
  {
   "cell_type": "code",
   "execution_count": 3,
   "id": "3588ab61-2d76-4ca7-9997-2291d9a63ec5",
   "metadata": {},
   "outputs": [],
   "source": [
    "files = file_list = drive.ListFile()"
   ]
  },
  {
   "cell_type": "code",
   "execution_count": 4,
   "id": "618c955c-608f-46ed-804b-5a01f2ae507f",
   "metadata": {},
   "outputs": [],
   "source": [
    "f1 = next(files)"
   ]
  },
  {
   "cell_type": "code",
   "execution_count": 6,
   "id": "44ebdf14-6d8d-4805-b11b-23113e3ede6b",
   "metadata": {},
   "outputs": [
    {
     "data": {
      "text/plain": [
       "100"
      ]
     },
     "execution_count": 6,
     "metadata": {},
     "output_type": "execute_result"
    }
   ],
   "source": [
    "len(f1)"
   ]
  },
  {
   "cell_type": "code",
   "execution_count": 7,
   "id": "0fe4f6a0-3351-4e71-b225-400dfe1cd8fd",
   "metadata": {},
   "outputs": [
    {
     "data": {
      "text/plain": [
       "GoogleDriveFile({'kind': 'drive#file', 'id': '1YhTAzEalDqKUowgej7aRa7E1K0XcB6ZezoVUt6VN2qY', 'etag': '\"MTY1Nzc1MTA0NDEwOA\"', 'selfLink': 'https://www.googleapis.com/drive/v2/files/1YhTAzEalDqKUowgej7aRa7E1K0XcB6ZezoVUt6VN2qY', 'alternateLink': 'https://docs.google.com/spreadsheets/d/1YhTAzEalDqKUowgej7aRa7E1K0XcB6ZezoVUt6VN2qY/edit?usp=drivesdk', 'embedLink': 'https://docs.google.com/spreadsheets/d/1YhTAzEalDqKUowgej7aRa7E1K0XcB6ZezoVUt6VN2qY/htmlembed?ouid=109297632387313990923', 'iconLink': 'https://drive-thirdparty.googleusercontent.com/16/type/application/vnd.google-apps.spreadsheet', 'thumbnailLink': 'https://docs.google.com/feeds/vt?gd=true&id=1YhTAzEalDqKUowgej7aRa7E1K0XcB6ZezoVUt6VN2qY&v=8155&s=AMedNnoAAAAAYs9zY5D8sNsWkIbW8rDKzKnry2Ltoya-&sz=s220', 'title': 'Instructor Signup', 'mimeType': 'application/vnd.google-apps.spreadsheet', 'labels': {'starred': False, 'hidden': False, 'trashed': False, 'restricted': False, 'viewed': True}, 'copyRequiresWriterPermission': False, 'createdDate': '2018-04-17T12:31:15.981Z', 'modifiedDate': '2022-07-13T22:24:04.108Z', 'lastViewedByMeDate': '2021-04-23T03:01:26.699Z', 'markedViewedByMeDate': '1970-01-01T00:00:00.000Z', 'sharedWithMeDate': '2021-04-23T03:01:26.699Z', 'version': '47945', 'parents': [], 'exportLinks': {'application/x-vnd.oasis.opendocument.spreadsheet': 'https://docs.google.com/spreadsheets/export?id=1YhTAzEalDqKUowgej7aRa7E1K0XcB6ZezoVUt6VN2qY&exportFormat=ods', 'text/tab-separated-values': 'https://docs.google.com/spreadsheets/export?id=1YhTAzEalDqKUowgej7aRa7E1K0XcB6ZezoVUt6VN2qY&exportFormat=tsv', 'application/pdf': 'https://docs.google.com/spreadsheets/export?id=1YhTAzEalDqKUowgej7aRa7E1K0XcB6ZezoVUt6VN2qY&exportFormat=pdf', 'application/vnd.openxmlformats-officedocument.spreadsheetml.sheet': 'https://docs.google.com/spreadsheets/export?id=1YhTAzEalDqKUowgej7aRa7E1K0XcB6ZezoVUt6VN2qY&exportFormat=xlsx', 'text/csv': 'https://docs.google.com/spreadsheets/export?id=1YhTAzEalDqKUowgej7aRa7E1K0XcB6ZezoVUt6VN2qY&exportFormat=csv', 'application/zip': 'https://docs.google.com/spreadsheets/export?id=1YhTAzEalDqKUowgej7aRa7E1K0XcB6ZezoVUt6VN2qY&exportFormat=zip', 'application/vnd.oasis.opendocument.spreadsheet': 'https://docs.google.com/spreadsheets/export?id=1YhTAzEalDqKUowgej7aRa7E1K0XcB6ZezoVUt6VN2qY&exportFormat=ods'}, 'userPermission': {'kind': 'drive#permission', 'etag': '\"S8GUaIcV45xczc0aYKWO3uvnbzU\"', 'id': 'me', 'selfLink': 'https://www.googleapis.com/drive/v2/files/1YhTAzEalDqKUowgej7aRa7E1K0XcB6ZezoVUt6VN2qY/permissions/me', 'role': 'writer', 'type': 'user', 'pendingOwner': False}, 'fileSize': '26555', 'quotaBytesUsed': '26555', 'ownerNames': ['SherAaron Hurt'], 'owners': [{'kind': 'drive#user', 'displayName': 'SherAaron Hurt', 'picture': {'url': 'https://lh3.googleusercontent.com/a-/AFdZucpYwFwtav1bNIcSNqBkiHj4yqdrmilvrbzIzzXr9w=s64'}, 'isAuthenticatedUser': False, 'permissionId': '17664011549466446768', 'emailAddress': 'sheraaron@carpentries.org'}], 'lastModifyingUserName': 'Danielle Sieh', 'lastModifyingUser': {'kind': 'drive#user', 'displayName': 'Danielle Sieh', 'picture': {'url': 'https://lh3.googleusercontent.com/a/default-user=s64'}, 'isAuthenticatedUser': False, 'permissionId': '16211482845929037624'}, 'capabilities': {'canCopy': True, 'canEdit': True}, 'editable': True, 'copyable': True, 'writersCanShare': False, 'shared': True, 'explicitlyTrashed': False, 'appDataContents': False, 'spaces': ['drive']})"
      ]
     },
     "execution_count": 7,
     "metadata": {},
     "output_type": "execute_result"
    }
   ],
   "source": [
    "f1[0]"
   ]
  },
  {
   "cell_type": "code",
   "execution_count": 8,
   "id": "f8d934ab-4dd9-44c4-9a47-3eb54e51609f",
   "metadata": {},
   "outputs": [
    {
     "data": {
      "text/plain": [
       "{'metadata': {'kind': 'drive#file',\n",
       "  'id': '1YhTAzEalDqKUowgej7aRa7E1K0XcB6ZezoVUt6VN2qY',\n",
       "  'etag': '\"MTY1Nzc1MTA0NDEwOA\"',\n",
       "  'selfLink': 'https://www.googleapis.com/drive/v2/files/1YhTAzEalDqKUowgej7aRa7E1K0XcB6ZezoVUt6VN2qY',\n",
       "  'alternateLink': 'https://docs.google.com/spreadsheets/d/1YhTAzEalDqKUowgej7aRa7E1K0XcB6ZezoVUt6VN2qY/edit?usp=drivesdk',\n",
       "  'embedLink': 'https://docs.google.com/spreadsheets/d/1YhTAzEalDqKUowgej7aRa7E1K0XcB6ZezoVUt6VN2qY/htmlembed?ouid=109297632387313990923',\n",
       "  'iconLink': 'https://drive-thirdparty.googleusercontent.com/16/type/application/vnd.google-apps.spreadsheet',\n",
       "  'thumbnailLink': 'https://docs.google.com/feeds/vt?gd=true&id=1YhTAzEalDqKUowgej7aRa7E1K0XcB6ZezoVUt6VN2qY&v=8155&s=AMedNnoAAAAAYs9zY5D8sNsWkIbW8rDKzKnry2Ltoya-&sz=s220',\n",
       "  'title': 'Instructor Signup',\n",
       "  'mimeType': 'application/vnd.google-apps.spreadsheet',\n",
       "  'labels': {'starred': False,\n",
       "   'hidden': False,\n",
       "   'trashed': False,\n",
       "   'restricted': False,\n",
       "   'viewed': True},\n",
       "  'copyRequiresWriterPermission': False,\n",
       "  'createdDate': '2018-04-17T12:31:15.981Z',\n",
       "  'modifiedDate': '2022-07-13T22:24:04.108Z',\n",
       "  'lastViewedByMeDate': '2021-04-23T03:01:26.699Z',\n",
       "  'markedViewedByMeDate': '1970-01-01T00:00:00.000Z',\n",
       "  'sharedWithMeDate': '2021-04-23T03:01:26.699Z',\n",
       "  'version': '47945',\n",
       "  'parents': [],\n",
       "  'exportLinks': {'application/x-vnd.oasis.opendocument.spreadsheet': 'https://docs.google.com/spreadsheets/export?id=1YhTAzEalDqKUowgej7aRa7E1K0XcB6ZezoVUt6VN2qY&exportFormat=ods',\n",
       "   'text/tab-separated-values': 'https://docs.google.com/spreadsheets/export?id=1YhTAzEalDqKUowgej7aRa7E1K0XcB6ZezoVUt6VN2qY&exportFormat=tsv',\n",
       "   'application/pdf': 'https://docs.google.com/spreadsheets/export?id=1YhTAzEalDqKUowgej7aRa7E1K0XcB6ZezoVUt6VN2qY&exportFormat=pdf',\n",
       "   'application/vnd.openxmlformats-officedocument.spreadsheetml.sheet': 'https://docs.google.com/spreadsheets/export?id=1YhTAzEalDqKUowgej7aRa7E1K0XcB6ZezoVUt6VN2qY&exportFormat=xlsx',\n",
       "   'text/csv': 'https://docs.google.com/spreadsheets/export?id=1YhTAzEalDqKUowgej7aRa7E1K0XcB6ZezoVUt6VN2qY&exportFormat=csv',\n",
       "   'application/zip': 'https://docs.google.com/spreadsheets/export?id=1YhTAzEalDqKUowgej7aRa7E1K0XcB6ZezoVUt6VN2qY&exportFormat=zip',\n",
       "   'application/vnd.oasis.opendocument.spreadsheet': 'https://docs.google.com/spreadsheets/export?id=1YhTAzEalDqKUowgej7aRa7E1K0XcB6ZezoVUt6VN2qY&exportFormat=ods'},\n",
       "  'userPermission': {'kind': 'drive#permission',\n",
       "   'etag': '\"S8GUaIcV45xczc0aYKWO3uvnbzU\"',\n",
       "   'id': 'me',\n",
       "   'selfLink': 'https://www.googleapis.com/drive/v2/files/1YhTAzEalDqKUowgej7aRa7E1K0XcB6ZezoVUt6VN2qY/permissions/me',\n",
       "   'role': 'writer',\n",
       "   'type': 'user',\n",
       "   'pendingOwner': False},\n",
       "  'fileSize': '26555',\n",
       "  'quotaBytesUsed': '26555',\n",
       "  'ownerNames': ['SherAaron Hurt'],\n",
       "  'owners': [{'kind': 'drive#user',\n",
       "    'displayName': 'SherAaron Hurt',\n",
       "    'picture': {'url': 'https://lh3.googleusercontent.com/a-/AFdZucpYwFwtav1bNIcSNqBkiHj4yqdrmilvrbzIzzXr9w=s64'},\n",
       "    'isAuthenticatedUser': False,\n",
       "    'permissionId': '17664011549466446768',\n",
       "    'emailAddress': 'sheraaron@carpentries.org'}],\n",
       "  'lastModifyingUserName': 'Danielle Sieh',\n",
       "  'lastModifyingUser': {'kind': 'drive#user',\n",
       "   'displayName': 'Danielle Sieh',\n",
       "   'picture': {'url': 'https://lh3.googleusercontent.com/a/default-user=s64'},\n",
       "   'isAuthenticatedUser': False,\n",
       "   'permissionId': '16211482845929037624'},\n",
       "  'capabilities': {'canCopy': True, 'canEdit': True},\n",
       "  'editable': True,\n",
       "  'copyable': True,\n",
       "  'writersCanShare': False,\n",
       "  'shared': True,\n",
       "  'explicitlyTrashed': False,\n",
       "  'appDataContents': False,\n",
       "  'spaces': ['drive']},\n",
       " 'auth': <pydrive2.auth.GoogleAuth at 0x7f80c2af75e0>,\n",
       " 'uploaded': True}"
      ]
     },
     "execution_count": 8,
     "metadata": {},
     "output_type": "execute_result"
    }
   ],
   "source": [
    "all_attrs = f1[0].attr\n",
    "all_attrs"
   ]
  },
  {
   "cell_type": "code",
   "execution_count": 10,
   "id": "a8b4ca8f-f850-4bf9-9a9d-a0089a0fd9a7",
   "metadata": {},
   "outputs": [],
   "source": [
    "import jsonlines\n",
    "import json"
   ]
  },
  {
   "cell_type": "code",
   "execution_count": 12,
   "id": "083d0038-098c-4550-ad6f-f7d0adfe3a90",
   "metadata": {},
   "outputs": [
    {
     "ename": "TypeError",
     "evalue": "Object of type GoogleAuth is not JSON serializable",
     "output_type": "error",
     "traceback": [
      "\u001b[0;31m---------------------------------------------------------------------------\u001b[0m",
      "\u001b[0;31mTypeError\u001b[0m                                 Traceback (most recent call last)",
      "Input \u001b[0;32mIn [12]\u001b[0m, in \u001b[0;36m<cell line: 1>\u001b[0;34m()\u001b[0m\n\u001b[1;32m      2\u001b[0m \u001b[38;5;28;01mfor\u001b[39;00m page \u001b[38;5;129;01min\u001b[39;00m drive\u001b[38;5;241m.\u001b[39mListFile():\n\u001b[1;32m      3\u001b[0m     \u001b[38;5;28;01mfor\u001b[39;00m file_metadata \u001b[38;5;129;01min\u001b[39;00m page:\n\u001b[0;32m----> 4\u001b[0m         \u001b[43mwriter\u001b[49m\u001b[38;5;241;43m.\u001b[39;49m\u001b[43mwrite\u001b[49m\u001b[43m(\u001b[49m\u001b[43mfile_metadata\u001b[49m\u001b[38;5;241;43m.\u001b[39;49m\u001b[43mattr\u001b[49m\u001b[43m)\u001b[49m\n",
      "File \u001b[0;32m~/org/ddl/dayton-dynamic.github.com/meeting_notes/google-drive/.venv/lib/python3.10/site-packages/jsonlines/jsonlines.py:520\u001b[0m, in \u001b[0;36mWriter.write\u001b[0;34m(self, obj)\u001b[0m\n\u001b[1;32m    517\u001b[0m \u001b[38;5;28;01mif\u001b[39;00m \u001b[38;5;28mself\u001b[39m\u001b[38;5;241m.\u001b[39m_closed:\n\u001b[1;32m    518\u001b[0m     \u001b[38;5;28;01mraise\u001b[39;00m \u001b[38;5;167;01mRuntimeError\u001b[39;00m(\u001b[38;5;124m\"\u001b[39m\u001b[38;5;124mwriter is closed\u001b[39m\u001b[38;5;124m\"\u001b[39m)\n\u001b[0;32m--> 520\u001b[0m line \u001b[38;5;241m=\u001b[39m \u001b[38;5;28;43mself\u001b[39;49m\u001b[38;5;241;43m.\u001b[39;49m\u001b[43m_dumps\u001b[49m\u001b[43m(\u001b[49m\u001b[43mobj\u001b[49m\u001b[43m)\u001b[49m\n\u001b[1;32m    522\u001b[0m \u001b[38;5;66;03m# This handles either str or bytes, but the type checker does not know\u001b[39;00m\n\u001b[1;32m    523\u001b[0m \u001b[38;5;66;03m# that this code always passes the right type of arguments.\u001b[39;00m\n\u001b[1;32m    524\u001b[0m \u001b[38;5;28;01mif\u001b[39;00m \u001b[38;5;28mself\u001b[39m\u001b[38;5;241m.\u001b[39m_dumps_result_conversion \u001b[38;5;241m==\u001b[39m DumpsResultConversion\u001b[38;5;241m.\u001b[39mEncodeToBytes:\n",
      "File \u001b[0;32m/usr/lib/python3.10/json/encoder.py:199\u001b[0m, in \u001b[0;36mJSONEncoder.encode\u001b[0;34m(self, o)\u001b[0m\n\u001b[1;32m    195\u001b[0m         \u001b[38;5;28;01mreturn\u001b[39;00m encode_basestring(o)\n\u001b[1;32m    196\u001b[0m \u001b[38;5;66;03m# This doesn't pass the iterator directly to ''.join() because the\u001b[39;00m\n\u001b[1;32m    197\u001b[0m \u001b[38;5;66;03m# exceptions aren't as detailed.  The list call should be roughly\u001b[39;00m\n\u001b[1;32m    198\u001b[0m \u001b[38;5;66;03m# equivalent to the PySequence_Fast that ''.join() would do.\u001b[39;00m\n\u001b[0;32m--> 199\u001b[0m chunks \u001b[38;5;241m=\u001b[39m \u001b[38;5;28;43mself\u001b[39;49m\u001b[38;5;241;43m.\u001b[39;49m\u001b[43miterencode\u001b[49m\u001b[43m(\u001b[49m\u001b[43mo\u001b[49m\u001b[43m,\u001b[49m\u001b[43m \u001b[49m\u001b[43m_one_shot\u001b[49m\u001b[38;5;241;43m=\u001b[39;49m\u001b[38;5;28;43;01mTrue\u001b[39;49;00m\u001b[43m)\u001b[49m\n\u001b[1;32m    200\u001b[0m \u001b[38;5;28;01mif\u001b[39;00m \u001b[38;5;129;01mnot\u001b[39;00m \u001b[38;5;28misinstance\u001b[39m(chunks, (\u001b[38;5;28mlist\u001b[39m, \u001b[38;5;28mtuple\u001b[39m)):\n\u001b[1;32m    201\u001b[0m     chunks \u001b[38;5;241m=\u001b[39m \u001b[38;5;28mlist\u001b[39m(chunks)\n",
      "File \u001b[0;32m/usr/lib/python3.10/json/encoder.py:257\u001b[0m, in \u001b[0;36mJSONEncoder.iterencode\u001b[0;34m(self, o, _one_shot)\u001b[0m\n\u001b[1;32m    252\u001b[0m \u001b[38;5;28;01melse\u001b[39;00m:\n\u001b[1;32m    253\u001b[0m     _iterencode \u001b[38;5;241m=\u001b[39m _make_iterencode(\n\u001b[1;32m    254\u001b[0m         markers, \u001b[38;5;28mself\u001b[39m\u001b[38;5;241m.\u001b[39mdefault, _encoder, \u001b[38;5;28mself\u001b[39m\u001b[38;5;241m.\u001b[39mindent, floatstr,\n\u001b[1;32m    255\u001b[0m         \u001b[38;5;28mself\u001b[39m\u001b[38;5;241m.\u001b[39mkey_separator, \u001b[38;5;28mself\u001b[39m\u001b[38;5;241m.\u001b[39mitem_separator, \u001b[38;5;28mself\u001b[39m\u001b[38;5;241m.\u001b[39msort_keys,\n\u001b[1;32m    256\u001b[0m         \u001b[38;5;28mself\u001b[39m\u001b[38;5;241m.\u001b[39mskipkeys, _one_shot)\n\u001b[0;32m--> 257\u001b[0m \u001b[38;5;28;01mreturn\u001b[39;00m \u001b[43m_iterencode\u001b[49m\u001b[43m(\u001b[49m\u001b[43mo\u001b[49m\u001b[43m,\u001b[49m\u001b[43m \u001b[49m\u001b[38;5;241;43m0\u001b[39;49m\u001b[43m)\u001b[49m\n",
      "File \u001b[0;32m/usr/lib/python3.10/json/encoder.py:179\u001b[0m, in \u001b[0;36mJSONEncoder.default\u001b[0;34m(self, o)\u001b[0m\n\u001b[1;32m    160\u001b[0m \u001b[38;5;28;01mdef\u001b[39;00m \u001b[38;5;21mdefault\u001b[39m(\u001b[38;5;28mself\u001b[39m, o):\n\u001b[1;32m    161\u001b[0m     \u001b[38;5;124;03m\"\"\"Implement this method in a subclass such that it returns\u001b[39;00m\n\u001b[1;32m    162\u001b[0m \u001b[38;5;124;03m    a serializable object for ``o``, or calls the base implementation\u001b[39;00m\n\u001b[1;32m    163\u001b[0m \u001b[38;5;124;03m    (to raise a ``TypeError``).\u001b[39;00m\n\u001b[0;32m   (...)\u001b[0m\n\u001b[1;32m    177\u001b[0m \n\u001b[1;32m    178\u001b[0m \u001b[38;5;124;03m    \"\"\"\u001b[39;00m\n\u001b[0;32m--> 179\u001b[0m     \u001b[38;5;28;01mraise\u001b[39;00m \u001b[38;5;167;01mTypeError\u001b[39;00m(\u001b[38;5;124mf\u001b[39m\u001b[38;5;124m'\u001b[39m\u001b[38;5;124mObject of type \u001b[39m\u001b[38;5;132;01m{\u001b[39;00mo\u001b[38;5;241m.\u001b[39m\u001b[38;5;18m__class__\u001b[39m\u001b[38;5;241m.\u001b[39m\u001b[38;5;18m__name__\u001b[39m\u001b[38;5;132;01m}\u001b[39;00m\u001b[38;5;124m \u001b[39m\u001b[38;5;124m'\u001b[39m\n\u001b[1;32m    180\u001b[0m                     \u001b[38;5;124mf\u001b[39m\u001b[38;5;124m'\u001b[39m\u001b[38;5;124mis not JSON serializable\u001b[39m\u001b[38;5;124m'\u001b[39m)\n",
      "\u001b[0;31mTypeError\u001b[0m: Object of type GoogleAuth is not JSON serializable"
     ]
    }
   ],
   "source": [
    "with jsonlines.open('google-files.jsonl', 'w', sort_keys=True) as writer:\n",
    "    for page in drive.ListFile():\n",
    "        for file_metadata in page:\n",
    "            writer.write(file_metadata.attr)"
   ]
  },
  {
   "cell_type": "code",
   "execution_count": null,
   "id": "e19ab04d-4d17-4779-a309-2380a003cdea",
   "metadata": {},
   "outputs": [],
   "source": [
    "def clean(dct):\n",
    "    result = {}\n",
    "    for k, v in dct.items():\n",
    "        try:\n",
    "            json.dumps(v)\n",
    "            result[k] = v\n",
    "        except TypeError:\n",
    "            pass\n",
    "    return result"
   ]
  },
  {
   "cell_type": "code",
   "execution_count": null,
   "id": "272c681c-1859-40bf-a2db-ae596f92edf8",
   "metadata": {},
   "outputs": [],
   "source": [
    "with jsonlines.open('google-files.jsonl', mode='w', sort_keys=True) as writer:\n",
    "    for page in drive.ListFile():\n",
    "        for file_metadata in page:\n",
    "            writer.write(clean(file_metadata.attr))"
   ]
  },
  {
   "cell_type": "code",
   "execution_count": 1,
   "id": "cb31f1f9-86c9-4be7-b29a-5277e30931c7",
   "metadata": {},
   "outputs": [
    {
     "name": "stdout",
     "output_type": "stream",
     "text": [
      "{\"metadata\": {\"alternateLink\": \"https://docs.google.com/document/d/1IvBHgdjc8bdHKTOKxsq2WYUNgL69r-MTmj-EpkwhgPQ/edit?usp=drivesdk\", \"appDataContents\": false, \"capabilities\": {\"canCopy\": true, \"canEdit\": true}, \"copyRequiresWriterPermission\": false, \"copyable\": true, \"createdDate\": \"2018-07-31T00:31:43.847Z\", \"editable\": true, \"embedLink\": \"https://docs.google.com/document/d/1IvBHgdjc8bdHKTOKxsq2WYUNgL69r-MTmj-EpkwhgPQ/preview?ouid=109297632387313990923\", \"etag\": \"\\\"MTY1NzQ1NTcyOTA0OQ\\\"\", \"explicitlyTrashed\": false, \"exportLinks\": {\"application/epub+zip\": \"https://docs.google.com/feeds/download/documents/export/Export?id=1IvBHgdjc8bdHKTOKxsq2WYUNgL69r-MTmj-EpkwhgPQ&exportFormat=epub\", \"application/pdf\": \"https://docs.google.com/feeds/download/documents/export/Export?id=1IvBHgdjc8bdHKTOKxsq2WYUNgL69r-MTmj-EpkwhgPQ&exportFormat=pdf\", \"application/rtf\": \"https://docs.google.com/feeds/download/documents/export/Export?id=1IvBHgdjc8bdHKTOKxsq2WYUNgL69r-MTmj-EpkwhgPQ&exportFormat=rtf\", \"application/vnd.oasis.opendocument.text\": \"https://docs.google.com/feeds/download/documents/export/Export?id=1IvBHgdjc8bdHKTOKxsq2WYUNgL69r-MTmj-EpkwhgPQ&exportFormat=odt\", \"application/vnd.openxmlformats-officedocument.wordprocessingml.document\": \"https://docs.google.com/feeds/download/documents/export/Export?id=1IvBHgdjc8bdHKTOKxsq2WYUNgL69r-MTmj-EpkwhgPQ&exportFormat=docx\", \"application/zip\": \"https://docs.google.com/feeds/download/documents/export/Export?id=1IvBHgdjc8bdHKTOKxsq2WYUNgL69r-MTmj-EpkwhgPQ&exportFormat=zip\", \"text/html\": \"https://docs.google.com/feeds/download/documents/export/Export?id=1IvBHgdjc8bdHKTOKxsq2WYUNgL69r-MTmj-EpkwhgPQ&exportFormat=html\", \"text/plain\": \"https://docs.google.com/feeds/download/documents/export/Export?id=1IvBHgdjc8bdHKTOKxsq2WYUNgL69r-MTmj-EpkwhgPQ&exportFormat=txt\"}, \"fileSize\": \"13355\", \"iconLink\": \"https://drive-thirdparty.googleusercontent.com/16/type/application/vnd.google-apps.document\", \"id\": \"1IvBHgdjc8bdHKTOKxsq2WYUNgL69r-MTmj-EpkwhgPQ\", \"kind\": \"drive#file\", \"labels\": {\"hidden\": false, \"restricted\": false, \"starred\": false, \"trashed\": false, \"viewed\": true}, \"lastModifyingUser\": {\"displayName\": \"Catherine Devlin\", \"emailAddress\": \"catherine.devlin@gmail.com\", \"isAuthenticatedUser\": true, \"kind\": \"drive#user\", \"permissionId\": \"06049307243367038135\", \"picture\": {\"url\": \"https://lh3.googleusercontent.com/a-/AFdZucoOsQrTtB6_XbMJN40RwFwE6PI452vSEh7I3MpIxA=s64\"}}, \"lastModifyingUserName\": \"Catherine Devlin\", \"lastViewedByMeDate\": \"2022-07-10T12:22:09.049Z\", \"markedViewedByMeDate\": \"1970-01-01T00:00:00.000Z\", \"mimeType\": \"application/vnd.google-apps.document\", \"modifiedByMeDate\": \"2022-07-10T12:22:09.049Z\", \"modifiedDate\": \"2022-07-10T12:22:09.049Z\", \"ownerNames\": [\"Christie Devlin\"], \"owners\": [{\"displayName\": \"Christie Devlin\", \"emailAddress\": \"halledevlin@gmail.com\", \"isAuthenticatedUser\": false, \"kind\": \"drive#user\", \"permissionId\": \"10518239724448757366\", \"picture\": {\"url\": \"https://lh3.googleusercontent.com/a-/AFdZucopCbftWTPiOCDwC612t3uUT2Z5Y_NnJ9PYtHl8dQ=s64\"}}], \"parents\": [], \"quotaBytesUsed\": \"13355\", \"selfLink\": \"https://www.googleapis.com/drive/v2/files/1IvBHgdjc8bdHKTOKxsq2WYUNgL69r-MTmj-EpkwhgPQ\", \"shared\": true, \"sharedWithMeDate\": \"2018-08-22T00:44:52.625Z\", \"spaces\": [\"drive\"], \"thumbnailLink\": \"https://docs.google.com/feeds/vt?gd=true&id=1IvBHgdjc8bdHKTOKxsq2WYUNgL69r-MTmj-EpkwhgPQ&v=2227&s=AMedNnoAAAAAYstQgxJM3_9b4xoIwO9tzhkF2-IdeFHc&sz=s220\", \"title\": \"Shopping for cats\", \"userPermission\": {\"etag\": \"\\\"9NYQRkuqnzfr41SKSIhtiHxGMeU\\\"\", \"id\": \"me\", \"kind\": \"drive#permission\", \"pendingOwner\": false, \"role\": \"writer\", \"selfLink\": \"https://www.googleapis.com/drive/v2/files/1IvBHgdjc8bdHKTOKxsq2WYUNgL69r-MTmj-EpkwhgPQ/permissions/me\", \"type\": \"user\"}, \"version\": \"8335\", \"writersCanShare\": true}, \"uploaded\": true}\n",
      "{\"metadata\": {\"alternateLink\": \"https://docs.google.com/spreadsheets/d/1L_npyFT_mTFKbFQlVvT7_EvX6TEwKFShEakCZ67qREg/edit?usp=drivesdk\", \"appDataContents\": false, \"capabilities\": {\"canCopy\": true, \"canEdit\": true}, \"copyRequiresWriterPermission\": false, \"copyable\": true, \"createdDate\": \"2019-11-23T15:41:00.889Z\", \"editable\": true, \"embedLink\": \"https://docs.google.com/spreadsheets/d/1L_npyFT_mTFKbFQlVvT7_EvX6TEwKFShEakCZ67qREg/htmlembed?ouid=109297632387313990923\", \"etag\": \"\\\"MTY1NzQ1MzkxMzc1OA\\\"\", \"explicitlyTrashed\": false, \"exportLinks\": {\"application/pdf\": \"https://docs.google.com/spreadsheets/export?id=1L_npyFT_mTFKbFQlVvT7_EvX6TEwKFShEakCZ67qREg&exportFormat=pdf\", \"application/vnd.oasis.opendocument.spreadsheet\": \"https://docs.google.com/spreadsheets/export?id=1L_npyFT_mTFKbFQlVvT7_EvX6TEwKFShEakCZ67qREg&exportFormat=ods\", \"application/vnd.openxmlformats-officedocument.spreadsheetml.sheet\": \"https://docs.google.com/spreadsheets/export?id=1L_npyFT_mTFKbFQlVvT7_EvX6TEwKFShEakCZ67qREg&exportFormat=xlsx\", \"application/x-vnd.oasis.opendocument.spreadsheet\": \"https://docs.google.com/spreadsheets/export?id=1L_npyFT_mTFKbFQlVvT7_EvX6TEwKFShEakCZ67qREg&exportFormat=ods\", \"application/zip\": \"https://docs.google.com/spreadsheets/export?id=1L_npyFT_mTFKbFQlVvT7_EvX6TEwKFShEakCZ67qREg&exportFormat=zip\", \"text/csv\": \"https://docs.google.com/spreadsheets/export?id=1L_npyFT_mTFKbFQlVvT7_EvX6TEwKFShEakCZ67qREg&exportFormat=csv\", \"text/tab-separated-values\": \"https://docs.google.com/spreadsheets/export?id=1L_npyFT_mTFKbFQlVvT7_EvX6TEwKFShEakCZ67qREg&exportFormat=tsv\"}, \"fileSize\": \"3360\", \"iconLink\": \"https://drive-thirdparty.googleusercontent.com/16/type/application/vnd.google-apps.spreadsheet\", \"id\": \"1L_npyFT_mTFKbFQlVvT7_EvX6TEwKFShEakCZ67qREg\", \"kind\": \"drive#file\", \"labels\": {\"hidden\": false, \"restricted\": false, \"starred\": false, \"trashed\": false, \"viewed\": true}, \"lastModifyingUser\": {\"displayName\": \"Catherine Devlin\", \"emailAddress\": \"catherine.devlin@gmail.com\", \"isAuthenticatedUser\": true, \"kind\": \"drive#user\", \"permissionId\": \"06049307243367038135\", \"picture\": {\"url\": \"https://lh3.googleusercontent.com/a-/AFdZucoOsQrTtB6_XbMJN40RwFwE6PI452vSEh7I3MpIxA=s64\"}}, \"lastModifyingUserName\": \"Catherine Devlin\", \"lastViewedByMeDate\": \"2022-07-10T11:51:53.758Z\", \"markedViewedByMeDate\": \"1970-01-01T00:00:00.000Z\", \"mimeType\": \"application/vnd.google-apps.spreadsheet\", \"modifiedByMeDate\": \"2022-07-10T11:51:53.758Z\", \"modifiedDate\": \"2022-07-10T11:51:53.758Z\", \"ownerNames\": [\"Catherine Devlin\"], \"owners\": [{\"displayName\": \"Catherine Devlin\", \"emailAddress\": \"catherine.devlin@gmail.com\", \"isAuthenticatedUser\": true, \"kind\": \"drive#user\", \"permissionId\": \"06049307243367038135\", \"picture\": {\"url\": \"https://lh3.googleusercontent.com/a-/AFdZucoOsQrTtB6_XbMJN40RwFwE6PI452vSEh7I3MpIxA=s64\"}}], \"parents\": [{\"id\": \"0ALVHHOqS9VmBUk9PVA\", \"isRoot\": true, \"kind\": \"drive#parentReference\", \"parentLink\": \"https://www.googleapis.com/drive/v2/files/0ALVHHOqS9VmBUk9PVA\", \"selfLink\": \"https://www.googleapis.com/drive/v2/files/1L_npyFT_mTFKbFQlVvT7_EvX6TEwKFShEakCZ67qREg/parents/0ALVHHOqS9VmBUk9PVA\"}], \"quotaBytesUsed\": \"3360\", \"selfLink\": \"https://www.googleapis.com/drive/v2/files/1L_npyFT_mTFKbFQlVvT7_EvX6TEwKFShEakCZ67qREg\", \"shared\": false, \"spaces\": [\"drive\"], \"thumbnailLink\": \"https://docs.google.com/feeds/vt?gd=true&id=1L_npyFT_mTFKbFQlVvT7_EvX6TEwKFShEakCZ67qREg&v=769&s=AMedNnoAAAAAYstQg6gWsIzZShWNZ3c8uY4cZDj1HN65&sz=s220\", \"title\": \"mail sorting\", \"userPermission\": {\"etag\": \"\\\"lyj3M2H9nP3pxqJ-Kd4lp9QWoR8\\\"\", \"id\": \"me\", \"kind\": \"drive#permission\", \"pendingOwner\": false, \"role\": \"owner\", \"selfLink\": \"https://www.googleapis.com/drive/v2/files/1L_npyFT_mTFKbFQlVvT7_EvX6TEwKFShEakCZ67qREg/permissions/me\", \"type\": \"user\"}, \"version\": \"788\", \"writersCanShare\": true}, \"uploaded\": true}\n"
     ]
    }
   ],
   "source": [
    "!head -2 google-files.jsonl"
   ]
  }
 ],
 "metadata": {
  "kernelspec": {
   "display_name": "Python 3 (ipykernel)",
   "language": "python",
   "name": "python3"
  },
  "language_info": {
   "codemirror_mode": {
    "name": "ipython",
    "version": 3
   },
   "file_extension": ".py",
   "mimetype": "text/x-python",
   "name": "python",
   "nbconvert_exporter": "python",
   "pygments_lexer": "ipython3",
   "version": "3.10.4"
  }
 },
 "nbformat": 4,
 "nbformat_minor": 5
}
