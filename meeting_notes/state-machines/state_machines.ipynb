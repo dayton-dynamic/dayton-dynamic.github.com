{
 "cells": [
  {
   "cell_type": "markdown",
   "metadata": {},
   "source": [
    "# State Machines\n",
    "\n",
    "[A Machine State of Mind](http://vaidehijoshi.github.io/blog/2015/03/17/a-machine-state-of-mind-part-1-understanding-state-machines/)"
   ]
  },
  {
   "cell_type": "markdown",
   "metadata": {},
   "source": [
    "[DOT Graphviz language](https://graphs.grevian.org/example)"
   ]
  },
  {
   "cell_type": "code",
   "execution_count": null,
   "metadata": {},
   "outputs": [],
   "source": [
    "import graphviz"
   ]
  },
  {
   "cell_type": "code",
   "execution_count": null,
   "metadata": {},
   "outputs": [],
   "source": [
    "!cat topics-3.dot"
   ]
  },
  {
   "cell_type": "code",
   "execution_count": null,
   "metadata": {},
   "outputs": [],
   "source": [
    "graphviz.Source.from_file('topics-3.dot')"
   ]
  },
  {
   "cell_type": "code",
   "execution_count": null,
   "metadata": {},
   "outputs": [],
   "source": [
    "from transitions import Machine\n",
    "from dataclasses import dataclass"
   ]
  },
  {
   "cell_type": "code",
   "execution_count": null,
   "metadata": {},
   "outputs": [],
   "source": [
    "@dataclass\n",
    "class Topic:\n",
    "    \n",
    "    name: str\n",
    "        \n",
    "    def __post_init__(self):\n",
    "        self.presenter = None\n",
    "        self.machine = Machine(\n",
    "            model=self, \n",
    "            states=['proposed', 'scheduled', 'completed', ], \n",
    "        )\n",
    "        "
   ]
  },
  {
   "cell_type": "markdown",
   "metadata": {},
   "source": [
    "Warning!  Do not create a Machine pointing to a class... it almost works, but then does not (for instance, on callbacks)"
   ]
  },
  {
   "cell_type": "code",
   "execution_count": null,
   "metadata": {},
   "outputs": [],
   "source": [
    "t1 = Topic('Block programming')"
   ]
  },
  {
   "cell_type": "code",
   "execution_count": null,
   "metadata": {},
   "outputs": [],
   "source": [
    "t1"
   ]
  },
  {
   "cell_type": "markdown",
   "metadata": {},
   "source": [
    "Now we have a built-in state"
   ]
  },
  {
   "cell_type": "code",
   "execution_count": null,
   "metadata": {},
   "outputs": [],
   "source": [
    "t1.state"
   ]
  },
  {
   "cell_type": "markdown",
   "metadata": {},
   "source": [
    "And built-in methods to change the state"
   ]
  },
  {
   "cell_type": "code",
   "execution_count": null,
   "metadata": {},
   "outputs": [],
   "source": [
    "t1.to_proposed()"
   ]
  },
  {
   "cell_type": "code",
   "execution_count": null,
   "metadata": {},
   "outputs": [],
   "source": [
    "t1.state"
   ]
  },
  {
   "cell_type": "code",
   "execution_count": null,
   "metadata": {},
   "outputs": [],
   "source": [
    "t1.to_scheduled()\n",
    "t1.state"
   ]
  },
  {
   "cell_type": "markdown",
   "metadata": {},
   "source": [
    "Oops, let's set a real initial state"
   ]
  },
  {
   "cell_type": "code",
   "execution_count": null,
   "metadata": {},
   "outputs": [],
   "source": [
    "@dataclass\n",
    "class Topic:\n",
    "    \n",
    "    name: str\n",
    "    \n",
    "    def __post_init__(self):\n",
    "        self.presenter = None\n",
    "        self.machine = Machine(\n",
    "            model=self, \n",
    "            states=['proposed', 'scheduled', 'completed', ], \n",
    "            initial = 'proposed',\n",
    "        )\n",
    "t2 = Topic('time zones')"
   ]
  },
  {
   "cell_type": "code",
   "execution_count": null,
   "metadata": {},
   "outputs": [],
   "source": [
    "t2.state"
   ]
  },
  {
   "cell_type": "markdown",
   "metadata": {},
   "source": [
    "But these aren't proper transitions"
   ]
  },
  {
   "cell_type": "code",
   "execution_count": null,
   "metadata": {},
   "outputs": [],
   "source": [
    "t2.to_completed()\n",
    "t2.state"
   ]
  },
  {
   "cell_type": "markdown",
   "metadata": {},
   "source": [
    "## Transitions\n",
    "\n"
   ]
  },
  {
   "cell_type": "code",
   "execution_count": null,
   "metadata": {},
   "outputs": [],
   "source": [
    "@dataclass\n",
    "class Topic:\n",
    "    \n",
    "    name: str\n",
    "        \n",
    "    def __post_init__(self):\n",
    "        self.presenter = None\n",
    "        self.machine = Machine(\n",
    "            model=self, \n",
    "            states=['proposed', 'scheduled', 'completed', ], \n",
    "            initial='proposed',\n",
    "            transitions=[\n",
    "                {'trigger': 'schedule', 'source': 'proposed', 'dest': 'scheduled'},\n",
    "                {'trigger': 'complete', 'source': 'scheduled', 'dest': 'completed'},        \n",
    "            ])  \n",
    "t3 = Topic('Immutability')"
   ]
  },
  {
   "cell_type": "code",
   "execution_count": null,
   "metadata": {},
   "outputs": [],
   "source": [
    "t3.state"
   ]
  },
  {
   "cell_type": "code",
   "execution_count": null,
   "metadata": {},
   "outputs": [],
   "source": [
    "t3.complete()"
   ]
  },
  {
   "cell_type": "code",
   "execution_count": null,
   "metadata": {},
   "outputs": [],
   "source": [
    "t3.schedule()"
   ]
  },
  {
   "cell_type": "code",
   "execution_count": null,
   "metadata": {},
   "outputs": [],
   "source": [
    "t3.state"
   ]
  },
  {
   "cell_type": "code",
   "execution_count": null,
   "metadata": {},
   "outputs": [],
   "source": [
    "t3.complete()"
   ]
  },
  {
   "cell_type": "code",
   "execution_count": null,
   "metadata": {},
   "outputs": [],
   "source": [
    "t3.state"
   ]
  },
  {
   "cell_type": "markdown",
   "metadata": {},
   "source": [
    "Don't use the `to_` methods.  They're cheating.  You can even disable them."
   ]
  },
  {
   "cell_type": "markdown",
   "metadata": {},
   "source": [
    "## Callbacks"
   ]
  },
  {
   "cell_type": "code",
   "execution_count": null,
   "metadata": {},
   "outputs": [],
   "source": [
    "@dataclass\n",
    "class Topic:\n",
    "    \n",
    "    name: str\n",
    "        \n",
    "    def __post_init__(self):\n",
    "        self.presenter = None\n",
    "        self.machine = Machine(\n",
    "            model=self, \n",
    "            states=['proposed', 'scheduled', 'completed', ], \n",
    "            initial='proposed',\n",
    "            transitions=[\n",
    "                {'trigger': 'schedule', 'source': 'proposed', 'dest': 'scheduled'},\n",
    "                {'trigger': 'complete', 'source': 'scheduled', 'dest': 'completed'},        \n",
    "            ])  \n",
    "        \n",
    "    def on_enter_scheduled(self):\n",
    "        print('Update the website!')\n",
    "        \n",
    "t4 = Topic('FOSS contribution')"
   ]
  },
  {
   "cell_type": "code",
   "execution_count": null,
   "metadata": {},
   "outputs": [],
   "source": [
    "t4.schedule()"
   ]
  },
  {
   "cell_type": "markdown",
   "metadata": {},
   "source": [
    "## Conditional transitions"
   ]
  },
  {
   "cell_type": "code",
   "execution_count": null,
   "metadata": {},
   "outputs": [],
   "source": [
    "@dataclass\n",
    "class Topic:\n",
    "    \n",
    "    name: str\n",
    "        \n",
    "    def has_presenter(self):\n",
    "        return self.presenter is not None\n",
    "        \n",
    "    def __post_init__(self):\n",
    "        self.presenter = None\n",
    "        self.machine = Machine(\n",
    "            model=self, \n",
    "            states=['proposed', 'scheduled', 'completed', ], \n",
    "            initial='proposed',\n",
    "            transitions=[\n",
    "                {'trigger': 'schedule', 'source': 'proposed', 'dest': 'scheduled',\n",
    "                'conditions': ['has_presenter', ]},\n",
    "                {'trigger': 'complete', 'source': 'scheduled', 'dest': 'completed'},        \n",
    "            ])  \n",
    "t5 = Topic('Fluid Interfaces')"
   ]
  },
  {
   "cell_type": "code",
   "execution_count": null,
   "metadata": {},
   "outputs": [],
   "source": [
    "t5.schedule()"
   ]
  },
  {
   "cell_type": "code",
   "execution_count": null,
   "metadata": {},
   "outputs": [],
   "source": [
    "t5.state"
   ]
  },
  {
   "cell_type": "code",
   "execution_count": null,
   "metadata": {},
   "outputs": [],
   "source": [
    "t5.presenter = 'Ken'"
   ]
  },
  {
   "cell_type": "code",
   "execution_count": null,
   "metadata": {},
   "outputs": [],
   "source": [
    "t5.schedule()"
   ]
  },
  {
   "cell_type": "code",
   "execution_count": null,
   "metadata": {},
   "outputs": [],
   "source": [
    "t5.state"
   ]
  },
  {
   "cell_type": "markdown",
   "metadata": {},
   "source": [
    "## Passing data"
   ]
  },
  {
   "cell_type": "code",
   "execution_count": null,
   "metadata": {},
   "outputs": [],
   "source": [
    "@dataclass\n",
    "class Topic:\n",
    "    \n",
    "    name: str\n",
    "           \n",
    "    def set_presenter(self, presenter):\n",
    "        self.presenter = presenter \n",
    "        \n",
    "    def __post_init__(self):\n",
    "        self.presenter = None\n",
    "        self.machine = Machine(\n",
    "            model=self, \n",
    "            states=['proposed', 'scheduled', 'completed', ], \n",
    "            initial='proposed',\n",
    "            transitions=[\n",
    "                {'trigger': 'schedule', 'source': 'proposed', \n",
    "                 'dest': 'scheduled', \n",
    "                 'before': 'set_presenter', },\n",
    "                {'trigger': 'complete', 'source': 'scheduled', 'dest': 'completed'},        \n",
    "            ],\n",
    "            )  \n",
    "t5 = Topic('Fluid Interfaces')"
   ]
  },
  {
   "cell_type": "code",
   "execution_count": null,
   "metadata": {},
   "outputs": [],
   "source": [
    "t5.schedule()"
   ]
  },
  {
   "cell_type": "code",
   "execution_count": null,
   "metadata": {},
   "outputs": [],
   "source": [
    "t5.schedule(presenter='Ken')"
   ]
  },
  {
   "cell_type": "code",
   "execution_count": null,
   "metadata": {},
   "outputs": [],
   "source": [
    "t5.presenter"
   ]
  },
  {
   "cell_type": "code",
   "execution_count": null,
   "metadata": {},
   "outputs": [],
   "source": [
    "t5.state"
   ]
  },
  {
   "cell_type": "markdown",
   "metadata": {},
   "source": [
    "# Graphing"
   ]
  },
  {
   "cell_type": "code",
   "execution_count": null,
   "metadata": {},
   "outputs": [],
   "source": [
    "!pip install transitions[diagrams]"
   ]
  },
  {
   "cell_type": "code",
   "execution_count": null,
   "metadata": {},
   "outputs": [],
   "source": [
    "from transitions.extensions import GraphMachine\n",
    "# Does not play well with dataclases!"
   ]
  },
  {
   "cell_type": "code",
   "execution_count": null,
   "metadata": {},
   "outputs": [],
   "source": [
    "\n",
    "class Topic:\n",
    "           \n",
    "    def __init__(self, name):\n",
    "        self.name = name\n",
    "        self.presenter = None\n",
    "        self.machine = GraphMachine(\n",
    "            model=self, \n",
    "            states=['proposed', 'scheduled', 'completed', 'rejected'], \n",
    "            initial='proposed',\n",
    "            transitions=[\n",
    "                {'trigger': 'schedule', 'source': 'proposed', 'dest': 'scheduled'},\n",
    "                {'trigger': 'complete', 'source': 'scheduled', 'dest': 'completed'},   \n",
    "                {'trigger': 'reject', 'source': 'proposed', 'dest': 'rejected', }\n",
    "            ])  \n",
    "t6 = Topic('Java')"
   ]
  },
  {
   "cell_type": "code",
   "execution_count": null,
   "metadata": {},
   "outputs": [],
   "source": [
    "t6.reject()"
   ]
  },
  {
   "cell_type": "code",
   "execution_count": null,
   "metadata": {},
   "outputs": [],
   "source": [
    "t6.state"
   ]
  },
  {
   "cell_type": "code",
   "execution_count": null,
   "metadata": {},
   "outputs": [],
   "source": [
    "graph = t6.get_graph()\n",
    "graph"
   ]
  },
  {
   "cell_type": "code",
   "execution_count": null,
   "metadata": {},
   "outputs": [],
   "source": [
    "graph.draw('states.svg', prog='dot')"
   ]
  },
  {
   "cell_type": "code",
   "execution_count": null,
   "metadata": {},
   "outputs": [],
   "source": [
    "!xdg-open states.svg"
   ]
  },
  {
   "cell_type": "code",
   "execution_count": null,
   "metadata": {},
   "outputs": [],
   "source": [
    "graph.draw(prog='dot')"
   ]
  },
  {
   "cell_type": "markdown",
   "metadata": {},
   "source": [
    "# Task: add _repr_svg_ so that these can display directly in Notebook"
   ]
  },
  {
   "cell_type": "markdown",
   "metadata": {},
   "source": [
    "## Logging"
   ]
  },
  {
   "cell_type": "code",
   "execution_count": null,
   "metadata": {},
   "outputs": [],
   "source": [
    "import logging\n",
    "logging.basicConfig(level=logging.INFO, filename='state-transitions.log',\n",
    "                    format='%(asctime)s %(message)s')\n",
    "\n",
    "@dataclass\n",
    "class Topic:\n",
    "    \n",
    "    name: str\n",
    "           \n",
    "    def set_presenter(self, presenter):\n",
    "        self.presenter = presenter \n",
    "        \n",
    "    def __post_init__(self):\n",
    "        self.presenter = None\n",
    "        self.machine = Machine(\n",
    "            model=self, \n",
    "            states=['proposed', 'scheduled', 'completed', ], \n",
    "            initial='proposed',\n",
    "            transitions=[\n",
    "                {'trigger': 'schedule', 'source': 'proposed', \n",
    "                 'dest': 'scheduled', \n",
    "                 'before': 'set_presenter', },\n",
    "                {'trigger': 'complete', 'source': 'scheduled', 'dest': 'completed'},        \n",
    "            ],\n",
    "            )  \n",
    "t5 = Topic('Fluid Interfaces')"
   ]
  },
  {
   "cell_type": "code",
   "execution_count": null,
   "metadata": {},
   "outputs": [],
   "source": [
    "t5.schedule(presenter='Gary')"
   ]
  },
  {
   "cell_type": "code",
   "execution_count": null,
   "metadata": {},
   "outputs": [],
   "source": [
    "t5.complete()"
   ]
  },
  {
   "cell_type": "code",
   "execution_count": null,
   "metadata": {},
   "outputs": [],
   "source": [
    "cat state-transitions.log"
   ]
  },
  {
   "cell_type": "code",
   "execution_count": null,
   "metadata": {},
   "outputs": [],
   "source": []
  }
 ],
 "metadata": {
  "kernelspec": {
   "display_name": "Python 3",
   "language": "python",
   "name": "python3"
  },
  "language_info": {
   "codemirror_mode": {
    "name": "ipython",
    "version": 3
   },
   "file_extension": ".py",
   "mimetype": "text/x-python",
   "name": "python",
   "nbconvert_exporter": "python",
   "pygments_lexer": "ipython3",
   "version": "3.7.1"
  }
 },
 "nbformat": 4,
 "nbformat_minor": 2
}
